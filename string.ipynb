{
 "cells": [
  {
   "cell_type": "code",
   "execution_count": 1,
   "id": "4536ae8d",
   "metadata": {},
   "outputs": [
    {
     "name": "stdout",
     "output_type": "stream",
     "text": [
      "vsudev\n"
     ]
    }
   ],
   "source": [
    "a='vsudev'\n",
    "print(a)"
   ]
  },
  {
   "cell_type": "code",
   "execution_count": 5,
   "id": "c0af54a1",
   "metadata": {},
   "outputs": [
    {
     "name": "stdout",
     "output_type": "stream",
     "text": [
      "sudevpat\n"
     ]
    }
   ],
   "source": [
    "a= 'vasudev patidar'.replace(\" \",'')\n",
    "print(a[2:10])"
   ]
  },
  {
   "cell_type": "code",
   "execution_count": 8,
   "id": "6d660350",
   "metadata": {},
   "outputs": [
    {
     "name": "stdout",
     "output_type": "stream",
     "text": [
      "True\n"
     ]
    }
   ],
   "source": [
    "a = \"vasudev patidar\"\n",
    "print(\"vdev\" not in  a)"
   ]
  },
  {
   "cell_type": "code",
   "execution_count": 29,
   "id": "5e46a926",
   "metadata": {},
   "outputs": [
    {
     "name": "stdout",
     "output_type": "stream",
     "text": [
      "i\n"
     ]
    }
   ],
   "source": [
    "a = \"hellow bhai\"\n",
    "print(a[-1])"
   ]
  },
  {
   "cell_type": "code",
   "execution_count": 18,
   "id": "d52458f0",
   "metadata": {},
   "outputs": [
    {
     "name": "stdout",
     "output_type": "stream",
     "text": [
      "hy i a m vasudev\n",
      "today is ho ly day\n",
      "\n",
      "is the\n",
      "\n",
      "\n"
     ]
    }
   ],
   "source": [
    "a='''hy i a m vasudev\n",
    "today is ho ly day\n",
    "\n",
    "is the\n",
    "\n",
    "'''\n",
    "b='vasudev is the grate'\n",
    "print(a)"
   ]
  },
  {
   "cell_type": "code",
   "execution_count": 19,
   "id": "284adb12",
   "metadata": {},
   "outputs": [
    {
     "name": "stdout",
     "output_type": "stream",
     "text": [
      "v\n",
      "a\n",
      "s\n",
      "u\n",
      "d\n",
      "e\n",
      "v\n"
     ]
    }
   ],
   "source": [
    "for i in \"vasudev\":\n",
    "    print(i)"
   ]
  },
  {
   "cell_type": "code",
   "execution_count": 28,
   "id": "4c68e096",
   "metadata": {},
   "outputs": [
    {
     "name": "stdout",
     "output_type": "stream",
     "text": [
      "65\n"
     ]
    }
   ],
   "source": [
    "a='123456'\n",
    "print(a[6:3:-1])\n"
   ]
  },
  {
   "cell_type": "code",
   "execution_count": null,
   "id": "c9b5e276",
   "metadata": {},
   "outputs": [
    {
     "name": "stdout",
     "output_type": "stream",
     "text": [
      "VASUDEV PATIDAR HTYY YTHT \n",
      "vasudev patidar htyy ytht \n",
      "Vasudev Patidar Htyy Ytht \n",
      "Vasudev patidar htyy ytht \n",
      "3\n",
      "-1\n",
      "0\n",
      "vesudev petider htyy ytht \n",
      "['vasudev', 'patidar', 'htyy', 'ytht', '']\n",
      "['vasudev', 'patidar', 'htyy', 'ytht', '']\n",
      "False\n"
     ]
    }
   ],
   "source": [
    "a=' vasudev patidar htyy ytht '\n",
    "print(a.upper())# is used to convert all characters to uppercase\n",
    "print(a.lower())# is used to convert all characters to lowercase\n",
    "print(a.title())# is used to convert the first character of each word to uppercase\n",
    "print(a.swapcase())# is used to swap the case of all characters\n",
    "print(a.capitalize())# is used to convert the first character to uppercase and the rest to lowercase\n",
    "print(a.center(50))# is used to center the string within a specified width\n",
    "print(a.count('a'))# is used to count the occurrences of a substring\n",
    "print(a.find('z'))# is used to find the index of the first occurrence of a substring\n",
    "print(a.index('v'))# is used to find the index of the first occurrence of a substring, raises an error if not found\n",
    "print(a.rfind('v'))# is used to find the index of the last occurrence of a substring\n",
    "print(a.rindex('v'))# is used to find the index of the last occurrence of\n",
    "print(a.replace('a','e'))# is used to replace a substring with another substring\n",
    "print(a.split(\" \"))# is used to split the string into a list of substrings based on a delimiter\n",
    "print(a.split(\" \",4))# is used to split the string into a list of substrings with a maximum number of splits\n",
    "print(a.splitlines())# is used to split the string into a list of lines\n",
    "print(a.partition('v'))# is used to split the string into a tuple of three parts: the part before the substring, the substring itself, and the part after the substring\n",
    "print(a.rpartition('v'))# is used to split the string into a tuple \n",
    "print(a.strip())# is used to remove leading and trailing whitespace\n",
    "print(a.ljust(50))# is used to left justify the string within a specified width\n",
    "print(a.lstrip())# is used to remove left whitespace\n",
    "print(a.rstrip())# is used to remove right whitespace\n",
    "\n",
    "print(a.startswith('v'))# is used to check if the string starts with a substring\n",
    "print(a.endswith('v'))# is used to check if the string ends with a substring\n",
    "print(a.isalnum())# is used to check if the string contains only alphanumeric characters\n",
    "print(a.isdigit())# is used to check if the string contains only digits\n",
    "print(a.isprintable())# is used to check if the string is printable\n",
    "print(a.isascii())# is used to check if the string contains only ASCII characters\n",
    "\n",
    "print(a.isnumeric())# is used to check if the string contains only numeric characters\n",
    "print(a.isidentifier())# is used to check if the string is a valid identifier\n",
    "\n",
    "\n",
    "print(a.isdecimal())\n",
    "print(a.isalpha())\n",
    "\n"
   ]
  }
 ],
 "metadata": {
  "kernelspec": {
   "display_name": "Python 3",
   "language": "python",
   "name": "python3"
  },
  "language_info": {
   "codemirror_mode": {
    "name": "ipython",
    "version": 3
   },
   "file_extension": ".py",
   "mimetype": "text/x-python",
   "name": "python",
   "nbconvert_exporter": "python",
   "pygments_lexer": "ipython3",
   "version": "3.13.2"
  }
 },
 "nbformat": 4,
 "nbformat_minor": 5
}
