{
 "cells": [
  {
   "cell_type": "code",
   "execution_count": 2,
   "id": "3311e70e",
   "metadata": {},
   "outputs": [
    {
     "name": "stdout",
     "output_type": "stream",
     "text": [
      "48\n"
     ]
    }
   ],
   "source": [
    "#1 Find the sum of even numbers only. \n",
    "I= [10, 13, 15, 18, 20] \n",
    "sum=0\n",
    "for i in I:\n",
    "    if i%2==0:\n",
    "        sum+=i\n",
    "print(sum)\n",
    "\n"
   ]
  },
  {
   "cell_type": "code",
   "execution_count": null,
   "id": "48a26667",
   "metadata": {},
   "outputs": [
    {
     "name": "stdout",
     "output_type": "stream",
     "text": [
      "24\n"
     ]
    }
   ],
   "source": [
    "#3multiply all the numbers\n",
    "\n",
    "a=[2,3,4]\n",
    "mul=1\n",
    "for i in a:\n",
    "    mul*=i\n",
    "print(mul)"
   ]
  },
  {
   "cell_type": "code",
   "execution_count": null,
   "id": "89bca046",
   "metadata": {},
   "outputs": [
    {
     "name": "stdout",
     "output_type": "stream",
     "text": [
      "5\n",
      "40\n",
      "35\n"
     ]
    }
   ],
   "source": [
    "#3find the diffrence bitwin the numbers max and min\n",
    "\n",
    "a=[10,20,5,40]\n",
    "max=0\n",
    "min=a[0]\n",
    "\n",
    "for i in a:\n",
    "    if i>max:\n",
    "        max=i\n",
    "    elif i<min:\n",
    "        min=i\n",
    "print(min)\n",
    "print(max)\n",
    "print(max-min)"
   ]
  },
  {
   "cell_type": "code",
   "execution_count": 10,
   "id": "5d575d19",
   "metadata": {},
   "outputs": [
    {
     "name": "stdout",
     "output_type": "stream",
     "text": [
      "[1, 2, 3, 4]\n"
     ]
    }
   ],
   "source": [
    "#4️. Extract first 4 elements of a list.\n",
    "\n",
    "a=[1,2,3,4,5,6,7,8]\n",
    "b=a[:4]\n",
    "print(b)"
   ]
  },
  {
   "cell_type": "code",
   "execution_count": 11,
   "id": "01fb809d",
   "metadata": {},
   "outputs": [
    {
     "name": "stdout",
     "output_type": "stream",
     "text": [
      "[3, 2, 1]\n"
     ]
    }
   ],
   "source": [
    "#5️. Print elements in reverse order (without using reverse or slicing)\n",
    "Input= [1, 2, 3]\n",
    "\n",
    "a=Input[-1::-1]\n",
    "print(a)"
   ]
  },
  {
   "cell_type": "code",
   "execution_count": 12,
   "id": "eeee3fb5",
   "metadata": {},
   "outputs": [
    {
     "name": "stdout",
     "output_type": "stream",
     "text": [
      "[55, 80]\n"
     ]
    }
   ],
   "source": [
    "#6️. Print numbers greater than 50.\n",
    "input= [20, 55, 80, 30]\n",
    "b=[]\n",
    "for i in input:\n",
    "    if i>50:\n",
    "        b.append(i)\n",
    "print(b)\n"
   ]
  },
  {
   "cell_type": "code",
   "execution_count": 13,
   "id": "a4a78038",
   "metadata": {},
   "outputs": [
    {
     "name": "stdout",
     "output_type": "stream",
     "text": [
      "[2, 4, 6]\n"
     ]
    }
   ],
   "source": [
    "#7️. Remove all odd numbers.\n",
    "i=[2, 3, 4, 5, 6]\n",
    "\n",
    "for j in i:\n",
    "    if j%2!=0:\n",
    "        i.remove(j)\n",
    "print(i)\n"
   ]
  },
  {
   "cell_type": "code",
   "execution_count": 29,
   "id": "d8cccb72",
   "metadata": {},
   "outputs": [
    {
     "name": "stdout",
     "output_type": "stream",
     "text": [
      "['HELLO', 'WORLD']\n"
     ]
    }
   ],
   "source": [
    "#8️. Convert list of strings to uppercase.\n",
    "a= ['hello', 'world']\n",
    "\n",
    "b=[]\n",
    "for i in a:\n",
    "    b.append(i.upper())\n",
    "print(b)\n"
   ]
  },
  {
   "cell_type": "code",
   "execution_count": 34,
   "id": "5765afe6",
   "metadata": {},
   "outputs": [
    {
     "name": "stdout",
     "output_type": "stream",
     "text": [
      "['1', '2', '3', '4', '5']\n"
     ]
    }
   ],
   "source": [
    "#9️. Convert string of numbers into list.\n",
    "a= \"12345\"\n",
    "b=[i for i in a]\n",
    "print(b)"
   ]
  },
  {
   "cell_type": "code",
   "execution_count": 43,
   "id": "6e58cd8f",
   "metadata": {},
   "outputs": [
    {
     "name": "stdout",
     "output_type": "stream",
     "text": [
      "[20, 30, 40]\n",
      "30.0\n"
     ]
    }
   ],
   "source": [
    "#10. Calculate average excluding highest and lowest value.\n",
    "a=[10, 20, 30, 40, 50]\n",
    "sorted(a)\n",
    "b=a[1:len(a)-1]\n",
    "print(b)\n",
    "c=0\n",
    "for i in b:\n",
    "    c+=i \n",
    "c=c/len(b)\n",
    "print(c)\n",
    "\n",
    "\n"
   ]
  },
  {
   "cell_type": "code",
   "execution_count": null,
   "id": "b24dfae7",
   "metadata": {},
   "outputs": [
    {
     "name": "stdout",
     "output_type": "stream",
     "text": [
      "48\n"
     ]
    }
   ],
   "source": [
    "# 11 Find product of numbers at even index positions.\n",
    "i=[2, 3, 4, 5, 6]\n",
    "c=1\n",
    "for j in range(0, len(i),2):\n",
    "    c*=i[j]\n",
    "print(c)"
   ]
  },
  {
   "cell_type": "code",
   "execution_count": null,
   "id": "2cc57d26",
   "metadata": {},
   "outputs": [
    {
     "name": "stdout",
     "output_type": "stream",
     "text": [
      "4\n"
     ]
    }
   ],
   "source": [
    "#12️. Count number of vowels in a list of characters.\n",
    "I= ['a','b','e','i','o']\n",
    "b=[\"a\",\"e\",\"i\",\"o\",\"u\"]\n",
    "count=0\n",
    "for i in range(0,len(I)):\n",
    "    for j in b:\n",
    "        if i==j:\n",
    "            count+=1\n",
    "print(count)"
   ]
  },
  {
   "cell_type": "code",
   "execution_count": null,
   "id": "708d4fea",
   "metadata": {},
   "outputs": [
    {
     "name": "stdout",
     "output_type": "stream",
     "text": [
      "['h', 'e', 'l', 'l', 'o']\n"
     ]
    }
   ],
   "source": [
    "#13️. Remove all vowels from a list of characters.\n",
    "I = ['h', 'e', 'l', 'l', 'o']\n",
    "vowels = [\"a\", \"e\", \"i\", \"o\", \"u\"]\n",
    "I = [char for char in I if char not in vowels]\n",
    "print(I)"
   ]
  },
  {
   "cell_type": "code",
   "execution_count": null,
   "id": "be64323c",
   "metadata": {},
   "outputs": [],
   "source": [
    "#1️3️. Remove all vowels from a list of characters.\n",
    "I=['h','e','l','l','o']\n",
    "b=\"aeiouAEIOU\"\n",
    "for i in I:\n",
    "        if i in b:\n",
    "           I.remove(i)\n",
    "print(I)"
   ]
  },
  {
   "cell_type": "code",
   "execution_count": 63,
   "id": "64c095f0",
   "metadata": {},
   "outputs": [
    {
     "name": "stdout",
     "output_type": "stream",
     "text": [
      "2\n"
     ]
    }
   ],
   "source": [
    "#1️4️. Find second smallest number.\n",
    "I=[8, 2, 5, 1,1, 9]\n",
    "I.sort()\n",
    "c=I[0]\n",
    "I.remove(I[0])\n",
    "for i in I:\n",
    "    if i==c:\n",
    "        I.remove(i)\n",
    "print(I[0])\n",
    "\n"
   ]
  },
  {
   "cell_type": "code",
   "execution_count": 68,
   "id": "ca4f367e",
   "metadata": {},
   "outputs": [
    {
     "name": "stdout",
     "output_type": "stream",
     "text": [
      "[1, 2, 5, 8, 8, 9, 10]\n"
     ]
    }
   ],
   "source": [
    "#1️5️. Sort list without using sort() or sorted().\n",
    "I= [5, 2, 8, 1,8,9,10]\n",
    "\n",
    "a=0\n",
    "b=0\n",
    "\n",
    "for i in range(len(I)):\n",
    "    for j in range(i+1, len(I)):\n",
    "        if I[i]>I[j]:\n",
    "            a=I[j]\n",
    "            I[j]=I[i]\n",
    "            I[i]=a\n",
    "print(I)\n"
   ]
  },
  {
   "cell_type": "code",
   "execution_count": null,
   "id": "77a74a13",
   "metadata": {},
   "outputs": [],
   "source": [
    "#1️6️. Print diagonal elements from 3x3 matrix.\n",
    "I=[[1,2,3],[4,5,6],[7,8,9]]"
   ]
  },
  {
   "cell_type": "code",
   "execution_count": 69,
   "id": "e072112a",
   "metadata": {},
   "outputs": [
    {
     "name": "stdout",
     "output_type": "stream",
     "text": [
      "21\n"
     ]
    }
   ],
   "source": [
    "#17Sum of all elements in nested list.\n",
    "I= [[1, 2], [3, 4], [5, 6]]\n",
    "c=0\n",
    "for i in I:\n",
    "    for j in i:\n",
    "        c+=j\n",
    "print(c)\n"
   ]
  },
  {
   "cell_type": "code",
   "execution_count": 73,
   "id": "4599f5cd",
   "metadata": {},
   "outputs": [
    {
     "name": "stdout",
     "output_type": "stream",
     "text": [
      "['z', 'b', 'c', 'z']\n"
     ]
    }
   ],
   "source": [
    "#1️8️. Replace all 'a' with 'z' in list of characters.\n",
    "I= ['a','b','c','a']\n",
    "j=[]\n",
    "for i in I:\n",
    "    if i==\"a\":\n",
    "        j.append(\"z\")\n",
    "    else:\n",
    "        j.append(i)\n",
    "        \n",
    "print(j)\n",
    "\n"
   ]
  },
  {
   "cell_type": "code",
   "execution_count": 74,
   "id": "b0539d49",
   "metadata": {},
   "outputs": [
    {
     "name": "stdout",
     "output_type": "stream",
     "text": [
      "3\n"
     ]
    }
   ],
   "source": [
    "#19Find number of times '5' appears in list.\n",
    "I=[5,5,3,2,5]\n",
    "\n",
    "count = I.count(5)\n",
    "print(count)"
   ]
  },
  {
   "cell_type": "code",
   "execution_count": 5,
   "id": "b301a7b0",
   "metadata": {},
   "outputs": [
    {
     "name": "stdout",
     "output_type": "stream",
     "text": [
      "[(2, 8), (5, 5)]\n"
     ]
    }
   ],
   "source": [
    "#20. Find all pairs with sum greater than 10.\n",
    "I= [2, 8, 5, 7]\n",
    "pairs=[]\n",
    "\n",
    "for i in range(0,len(I)):\n",
    "    for j in range(1,len(I)):\n",
    "        if I[i]+I[j]==10:\n",
    "            a=(I[i],I[j])\n",
    "            pairs.append(a)\n",
    "            \n",
    "print(pairs)"
   ]
  },
  {
   "cell_type": "code",
   "execution_count": 77,
   "id": "26a1910c",
   "metadata": {},
   "outputs": [
    {
     "name": "stdout",
     "output_type": "stream",
     "text": [
      "[4, 8, 12, 16, 20, 24, 28, 32, 36, 40]\n"
     ]
    }
   ],
   "source": [
    "#21 Create list of multiples of 4 upto 40.\n",
    "\n",
    "a=[]\n",
    "\n",
    "for i in range(1,41):\n",
    "    if i%4==0:\n",
    "        a.append(i)\n",
    "\n",
    "print(a)"
   ]
  },
  {
   "cell_type": "code",
   "execution_count": 1,
   "id": "8ea52916",
   "metadata": {},
   "outputs": [
    {
     "name": "stdout",
     "output_type": "stream",
     "text": [
      "[1, 2, 2, 3, 3, 3, 4, 4, 4, 4]\n"
     ]
    }
   ],
   "source": [
    "#2️2️. Create pattern list [1,2,2,3,3,3,4,4,4,4]\n",
    "\n",
    "a=[]\n",
    "\n",
    "for i in range(5):\n",
    "    for j in range(i):\n",
    "        a.append((i))\n",
    "print(a)"
   ]
  },
  {
   "cell_type": "code",
   "execution_count": 2,
   "id": "6194a4bc",
   "metadata": {},
   "outputs": [
    {
     "name": "stdout",
     "output_type": "stream",
     "text": [
      "[1, 2, 6, 24]\n"
     ]
    }
   ],
   "source": [
    "#2️3️. Find cumulative product.\n",
    "I=[1, 2, 3, 4]\n",
    "a=[]\n",
    "j=1\n",
    "for i in I:\n",
    "    j*=i \n",
    "    a.append(j)\n",
    "print(a)"
   ]
  },
  {
   "cell_type": "code",
   "execution_count": 3,
   "id": "e4d50c4e",
   "metadata": {},
   "outputs": [
    {
     "name": "stdout",
     "output_type": "stream",
     "text": [
      "3\n"
     ]
    }
   ],
   "source": [
    "#2️4️. Count numbers between 50 and 100.\n",
    "I=[23, 76, 98, 45, 50]\n",
    "count=0\n",
    "for i in I:\n",
    "    if i<=50 and i<=100:\n",
    "        count+=1\n",
    "print(count)"
   ]
  },
  {
   "cell_type": "code",
   "execution_count": 4,
   "id": "184dbb4f",
   "metadata": {},
   "outputs": [
    {
     "name": "stdout",
     "output_type": "stream",
     "text": [
      "[(1, 3), (1, 4), (2, 3), (2, 4)]\n"
     ]
    }
   ],
   "source": [
    "#2️5️. Create all possible pairs from [1,2] and [3,4]\n",
    "#Output: [(1,3), (1,4), (2,3), (2,4)]\n",
    "\n",
    "a=[1,2]\n",
    "b=[3,4]\n",
    "c=[]\n",
    "\n",
    "for i in a:\n",
    "    for j in b:\n",
    "        d=(i,j)\n",
    "        c.append(d)\n",
    "print(c)"
   ]
  },
  {
   "cell_type": "code",
   "execution_count": 7,
   "id": "0c6d22e1",
   "metadata": {},
   "outputs": [
    {
     "name": "stdout",
     "output_type": "stream",
     "text": [
      "3\n"
     ]
    }
   ],
   "source": [
    "#2️6️. Find common elements between 3 lists.\n",
    "c= [1,2,3]\n",
    "a=[2,3,4]\n",
    "b=[3,4,5]\n",
    "\n",
    "for i in c:\n",
    "    for j in a:\n",
    "        for k in b:\n",
    "            if i==j and i==k:\n",
    "                print(i)"
   ]
  },
  {
   "cell_type": "code",
   "execution_count": 4,
   "id": "239470e1",
   "metadata": {},
   "outputs": [
    {
     "name": "stdout",
     "output_type": "stream",
     "text": [
      "6\n",
      "python\n"
     ]
    }
   ],
   "source": [
    "#2️7️. Find length of longest word in list.\n",
    "I= ['hi', 'world', 'python']\n",
    "num=len(I[0])\n",
    "for i in I:\n",
    "    if len(i)>num:\n",
    "        num=len(i)\n",
    "print(num)\n",
    "print(i)\n"
   ]
  },
  {
   "cell_type": "code",
   "execution_count": null,
   "id": "61949e8f",
   "metadata": {},
   "outputs": [
    {
     "name": "stdout",
     "output_type": "stream",
     "text": [
      "[1, 2, 5, -1, -1, -1, 3, 4, -1, -1, -1, -1]\n"
     ]
    }
   ],
   "source": [
    "#2️8️. Replace duplicate values with -1.\n",
    "I=[1,2,5,2,2,2,3,4,4,3,3,3]\n",
    "k=\"\"\n",
    "for i in I:\n",
    "    if str(i) not in k:\n",
    "        k+=str(i) \n",
    "    else:\n",
    "        I[I.index(i)]=-1\n",
    "print(I)\n"
   ]
  },
  {
   "cell_type": "code",
   "execution_count": null,
   "id": "772da9c0",
   "metadata": {},
   "outputs": [],
   "source": [
    "I = [1, 2, 5, 2, 2, 2, 3, 4, 4, 3, 3, 3]\n",
    "seen = set()\n",
    "for idx in range(len(I)):\n",
    "    if I[idx] in seen:\n",
    "        I[idx] = -1\n",
    "    else:\n",
    "        seen.add(I[idx])\n",
    "print(I)"
   ]
  },
  {
   "cell_type": "code",
   "execution_count": 1,
   "id": "e8921ec5",
   "metadata": {},
   "outputs": [
    {
     "name": "stdout",
     "output_type": "stream",
     "text": [
      "[4, 9, 16]\n"
     ]
    }
   ],
   "source": [
    "#2️9️. Convert list of integers to list of their squares.\n",
    "# Input: [2,3,4]\n",
    "# Output: [4,9,16]\n",
    "\n",
    "a=[2,3,4]\n",
    "b=[i**2 for i in a]\n",
    "print(b)"
   ]
  },
  {
   "cell_type": "code",
   "execution_count": 9,
   "id": "1ac23fd0",
   "metadata": {},
   "outputs": [
    {
     "name": "stdout",
     "output_type": "stream",
     "text": [
      "([1, 2, 3], [4, 5, 6])\n"
     ]
    }
   ],
   "source": [
    "#3️0️. Split list into 2 halves.\n",
    "a=[1,2,3,4,5,6]\n",
    "b=[]\n",
    "c=[]\n",
    "d=[]\n",
    "for i in range(len(a)):\n",
    "    if i<len(a)/2:\n",
    "        b.append(a[i])\n",
    "    else:\n",
    "        c.append(a[i])\n",
    "d.append(b)\n",
    "d.append(c)\n",
    "print(tuple(d))"
   ]
  },
  {
   "cell_type": "code",
   "execution_count": 10,
   "id": "1520e76a",
   "metadata": {},
   "outputs": [
    {
     "name": "stdout",
     "output_type": "stream",
     "text": [
      "3\n"
     ]
    }
   ],
   "source": [
    "# 31️. Count how many numbers are divisible by 5.\n",
    "# Input: [5, 10, 13, 20, 7]\n",
    "# Output: 3\n",
    "\n",
    "a=[5,10,13,20,7]\n",
    "count=0\n",
    "for i in a:\n",
    "    if i%5==0:\n",
    "        count+=1\n",
    "print(count)"
   ]
  },
  {
   "cell_type": "code",
   "execution_count": 12,
   "id": "49e5157c",
   "metadata": {},
   "outputs": [
    {
     "name": "stdout",
     "output_type": "stream",
     "text": [
      "[2, 0, 5, 0]\n"
     ]
    }
   ],
   "source": [
    "# 32️. Replace negative numbers with 0.\n",
    "# Input: [2, -3, 5, -6]\n",
    "# Output: [2, 0, 5, 0]\n",
    "\n",
    "a=[2,-3,5,-6]\n",
    "for i in range(len(a)):\n",
    "    if a[i]<0:\n",
    "        a[i]=0\n",
    "print(a)\n",
    "\n"
   ]
  },
  {
   "cell_type": "code",
   "execution_count": 14,
   "id": "adbbfd83",
   "metadata": {},
   "outputs": [
    {
     "name": "stdout",
     "output_type": "stream",
     "text": [
      "24\n"
     ]
    }
   ],
   "source": [
    "# 33️. Find product of numbers at odd index positions.\n",
    "# Input: [3, 4, 5, 6]\n",
    "# Output: 4×6 = 24\n",
    "a=[3,4,5,6]\n",
    "b=1\n",
    "for i in range(len(a)):\n",
    "    if i%2!=0:\n",
    "        b*=a[i] \n",
    "print(b)"
   ]
  },
  {
   "cell_type": "code",
   "execution_count": null,
   "id": "349c2415",
   "metadata": {},
   "outputs": [],
   "source": [
    "# 34️. Find sum of digits of all numbers in list.\n",
    "# Input: [23, 45, 67]\n",
    "# Output: 2+3+4+5+6+7 = 27\n"
   ]
  }
 ],
 "metadata": {
  "kernelspec": {
   "display_name": "Python 3",
   "language": "python",
   "name": "python3"
  },
  "language_info": {
   "codemirror_mode": {
    "name": "ipython",
    "version": 3
   },
   "file_extension": ".py",
   "mimetype": "text/x-python",
   "name": "python",
   "nbconvert_exporter": "python",
   "pygments_lexer": "ipython3",
   "version": "3.13.2"
  }
 },
 "nbformat": 4,
 "nbformat_minor": 5
}
