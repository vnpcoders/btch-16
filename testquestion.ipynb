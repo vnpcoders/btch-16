{
 "cells": [
  {
   "cell_type": "code",
   "execution_count": null,
   "id": "756962fb",
   "metadata": {},
   "outputs": [
    {
     "name": "stdout",
     "output_type": "stream",
     "text": [
      "[3, 4, 5]\n"
     ]
    }
   ],
   "source": [
    "#1\n",
    "\n",
    "a=[1,2,3,2,4,5,1]\n",
    "for i in a[0::]:\n",
    "    for j in a[i::]:\n",
    "        if i==j:\n",
    "            a.remove(i)\n",
    "            a.remove(j)\n",
    "print(a)"
   ]
  },
  {
   "cell_type": "code",
   "execution_count": 12,
   "id": "ae1825ea",
   "metadata": {},
   "outputs": [
    {
     "name": "stdout",
     "output_type": "stream",
     "text": [
      "[4, 5, 1, 2, 3]\n"
     ]
    }
   ],
   "source": [
    "#2\n",
    "a=[1,2,3,4,5]\n",
    "b=[]\n",
    "for i in a[0:3]:\n",
    "    b.append(i)\n",
    "    a.remove(i)\n",
    "for i in b: \n",
    "    a.append(i)\n",
    "print(a)"
   ]
  },
  {
   "cell_type": "code",
   "execution_count": null,
   "id": "4cec10cd",
   "metadata": {},
   "outputs": [
    {
     "name": "stdout",
     "output_type": "stream",
     "text": [
      "{'a': 1, 'b': 2, 'c': 3}\n"
     ]
    }
   ],
   "source": [
    "#3\n",
    "a=[\"a\",\"b\",\"c\"]\n",
    "b=[1,2,3]\n",
    "\n",
    "c={}\n",
    "for i in range(len(a)):\n",
    "    c[a[i]]= b[i]\n",
    "print(c)"
   ]
  },
  {
   "cell_type": "code",
   "execution_count": null,
   "id": "309062b7",
   "metadata": {},
   "outputs": [
    {
     "name": "stdout",
     "output_type": "stream",
     "text": [
      "[(1, 5), (1, 5), (7, -1)]\n"
     ]
    }
   ],
   "source": [
    "#4\n",
    "a = [1, 5, 7, -1, 5]\n",
    "b = []\n",
    "for i in range(len(a)):\n",
    "    for j in range(i + 1, len(a)):\n",
    "        if a[i] + a[j] == 6:\n",
    "            c = (a[i], a[j])\n",
    "            b.append(c)\n",
    "print(b)\n",
    "\n"
   ]
  },
  {
   "cell_type": "code",
   "execution_count": 2,
   "id": "89fe6d80",
   "metadata": {},
   "outputs": [
    {
     "name": "stdout",
     "output_type": "stream",
     "text": [
      "[(2, 4), (6, 8)]\n"
     ]
    }
   ],
   "source": [
    "#5\n",
    "a=[(2,4),(3,5),(6,8)]\n",
    "b=[]\n",
    "\n",
    "for i in a:\n",
    "    if i[0]%2==0 and i[1]%2==0:\n",
    "        b.append(i)\n",
    "print(b)\n",
    "\n"
   ]
  },
  {
   "cell_type": "code",
   "execution_count": null,
   "id": "9131e611",
   "metadata": {},
   "outputs": [
    {
     "name": "stdout",
     "output_type": "stream",
     "text": [
      "{'a': 400, 'b': 200, 'c': 400}\n"
     ]
    }
   ],
   "source": [
    "#6\n",
    "a={\"a\":100,'b':200}\n",
    "b={'a':300,'c':400}\n",
    "c={}\n",
    "for i,j in a.items():\n",
    "    for k,l in b.items():\n",
    "        if i==k:\n",
    "            c[i]=j+l\n",
    "        elif i not in c and k not in c:\n",
    "            c[i]=j\n",
    "            c[k]=l\n",
    "print(c)\n"
   ]
  },
  {
   "cell_type": "code",
   "execution_count": 8,
   "id": "b208cd41",
   "metadata": {},
   "outputs": [
    {
     "name": "stdout",
     "output_type": "stream",
     "text": [
      "[1, 2, 3, 4, 5]\n"
     ]
    }
   ],
   "source": [
    "#7\n",
    "a=[1,2,2,3,4,4,5]\n",
    "b=[]\n",
    "\n",
    "for i in range(len(a)-1):\n",
    "    for j in range(i+1,len(a)-1):\n",
    "        if a[i]==a[j]:\n",
    "            a.remove(a[j])\n",
    "print(a)"
   ]
  },
  {
   "cell_type": "code",
   "execution_count": null,
   "id": "33b664cc",
   "metadata": {},
   "outputs": [
    {
     "name": "stdout",
     "output_type": "stream",
     "text": [
      "145 is a strong number.\n"
     ]
    }
   ],
   "source": [
    "#8\n",
    "import math\n",
    "\n",
    "def is_strong_number(num):\n",
    "    \"\"\"\n",
    "    Checks if a given number is a strong number.\n",
    "    A strong number is equal to the sum of the factorials of its digits.\n",
    "    \"\"\"\n",
    "    if num < 0:\n",
    "        return False  # Strong numbers are typically positive integers.\n",
    "\n",
    "    original_num = num\n",
    "    sum_of_factorials = 0\n",
    "    \n",
    "    # Iterate through each digit\n",
    "    while num > 0:\n",
    "        digit = num % 10  # Get the last digit\n",
    "        sum_of_factorials += math.factorial(digit) # Add its factorial to the sum\n",
    "        num //= 10  # Remove the last digit\n",
    "\n",
    "    return sum_of_factorials == original_num\n",
    "\n",
    "# Example usage:\n",
    "number_to_check = 145\n",
    "if is_strong_number(number_to_check):\n",
    "    print(f\"{number_to_check} is a strong number.\")\n",
    "else:\n",
    "    print(f\"{number_to_check} is not a strong number.\")\n",
    "math.\n"
   ]
  },
  {
   "cell_type": "code",
   "execution_count": 12,
   "id": "f896bf4b",
   "metadata": {},
   "outputs": [
    {
     "name": "stdout",
     "output_type": "stream",
     "text": [
      "1 2 Fizz 4 Buzz Fizz 7 8 Fizz Buzz 11 Fizz 13 14 FizzBuzz "
     ]
    }
   ],
   "source": [
    "#9\n",
    "a=15\n",
    "for  i in range(1,a+1):\n",
    "    if i%3==0 and i%5==0:\n",
    "        print('FizzBuzz',end=' ')\n",
    "    elif i%5==0:\n",
    "        print('Buzz',end=' ')\n",
    "    elif i%3==0 :\n",
    "        print('Fizz',end=' ')\n",
    "    else:\n",
    "        print(i,end=' ')"
   ]
  },
  {
   "cell_type": "code",
   "execution_count": 13,
   "id": "04d4df33",
   "metadata": {},
   "outputs": [
    {
     "name": "stdout",
     "output_type": "stream",
     "text": [
      "5\n"
     ]
    }
   ],
   "source": [
    "#10\n",
    "def largest_prime_factor(n):\n",
    "    \"\"\"\n",
    "    Find the largest prime factor of a positive integer 'n'\n",
    "    :param n: positive integer ( 1 <= n <= 10^15)\n",
    "    :return: largest prime factor of n\n",
    "    \"\"\"\n",
    "    largest_prime = -1\n",
    "    i = 2\n",
    "    while i * i <= n:\n",
    "        while n % i == 0:\n",
    "            largest_prime = i\n",
    "            n = n // i\n",
    "        i = i + 1\n",
    "    if n > 1:\n",
    "        largest_prime = n\n",
    "    return largest_prime\n",
    "\n",
    "n = 15\n",
    "print(largest_prime_factor(n))\n",
    "\n",
    "\n"
   ]
  },
  {
   "cell_type": "code",
   "execution_count": 3,
   "id": "d90c56b9",
   "metadata": {},
   "outputs": [
    {
     "name": "stdout",
     "output_type": "stream",
     "text": [
      "     1 \n",
      "    1 1 \n",
      "   1 2 1 \n",
      "  1 3 3 1 \n",
      " 1 4 4 4 1 \n"
     ]
    }
   ],
   "source": [
    "#11\n",
    "a=5\n",
    "for i in range(0,a):\n",
    "    for j in range(a-i):\n",
    "        print(\" \",end='')\n",
    "    for k in range(i+1):\n",
    "        if k==0 or k==i :\n",
    "            print(1,end=' ')\n",
    "        \n",
    "        else:\n",
    "            print(i,end=' ')\n",
    "    print()\n"
   ]
  },
  {
   "cell_type": "code",
   "execution_count": null,
   "id": "706595e9",
   "metadata": {},
   "outputs": [
    {
     "name": "stdout",
     "output_type": "stream",
     "text": [
      "    1 \n",
      "   1 1 \n",
      "  1 2 1 \n",
      " 1 3 3 1 \n",
      "1 4 4 4 1 \n"
     ]
    }
   ],
   "source": [
    "#12\n",
    "a = 5\n",
    "for i in range(1, a + 1):\n",
    "    for j in range(a - i):\n",
    "        print(\" \", end='')\n",
    "    for k in range(1, i + 1):\n",
    "        if k == 1 or k == i:\n",
    "            print(1, end=' ')\n",
    "        else:\n",
    "            print(i - 1, end=' ')\n",
    "    print()\n"
   ]
  },
  {
   "cell_type": "code",
   "execution_count": 1,
   "id": "fe3a336c",
   "metadata": {},
   "outputs": [
    {
     "name": "stdout",
     "output_type": "stream",
     "text": [
      "9\n"
     ]
    }
   ],
   "source": [
    "#13\n",
    "a=[1,2,3,4,5]\n",
    "sum=0\n",
    "for i in a:\n",
    "    if i%2!=0:\n",
    "        sum+=i\n",
    "print(sum)"
   ]
  },
  {
   "cell_type": "code",
   "execution_count": null,
   "id": "d8d1e5c6",
   "metadata": {},
   "outputs": [
    {
     "name": "stdout",
     "output_type": "stream",
     "text": [
      "True\n"
     ]
    }
   ],
   "source": [
    "#14\n",
    "a=\"vasudev\"\n",
    "b='vsuedav'\n",
    "\n",
    "if sorted(a)==sorted(b):\n",
    "    print(True)"
   ]
  },
  {
   "cell_type": "code",
   "execution_count": 14,
   "id": "bf727955",
   "metadata": {},
   "outputs": [
    {
     "name": "stdout",
     "output_type": "stream",
     "text": [
      "palendrom\n"
     ]
    }
   ],
   "source": [
    "#15\n",
    "\n",
    "a=[1,2,3,2,1]\n",
    "b=[]\n",
    "for i in a[-1::-1]:\n",
    "    b.append(i)\n",
    "if a==b:\n",
    "    print(\"palendrom\")\n"
   ]
  },
  {
   "cell_type": "code",
   "execution_count": 1,
   "id": "28cb9273",
   "metadata": {},
   "outputs": [
    {
     "name": "stdout",
     "output_type": "stream",
     "text": [
      "['abc', 'acb', 'bac', 'bca', 'cab', 'cba']\n",
      "abc acb bac bca cab cba "
     ]
    }
   ],
   "source": [
    "from itertools import permutations\n",
    "\n",
    "#16\n",
    "# Question 15: Find all permutations of a given string.\n",
    "# Input: \"abc\"\n",
    "\n",
    "\n",
    "input_str = \"abc\"\n",
    "perm_list = [''.join(p) for p in permutations(input_str)]\n",
    "print(perm_list)\n",
    "\n",
    "def permute(s, s2):\n",
    "    if len(s) == 0:\n",
    "        print(s2, end=' ')\n",
    "        return\n",
    "    \n",
    "    for i in range(len(s)):\n",
    "        char = s[i]\n",
    "        left_s = s[0:i]\n",
    "        right_s = s[i+1:]\n",
    "        rest = left_s + right_s\n",
    "        permute(rest, s2 + char)\n",
    "\n",
    "s1 = \"abc\"\n",
    "s2 = \"\"\n",
    "permute(s1, s2)\n"
   ]
  },
  {
   "cell_type": "code",
   "execution_count": 20,
   "id": "60623599",
   "metadata": {},
   "outputs": [
    {
     "name": "stdout",
     "output_type": "stream",
     "text": [
      "17\n"
     ]
    }
   ],
   "source": [
    "#17\n",
    "a=[1,2,3,4,5,6,7,8,9,10]\n",
    "sum=0\n",
    "for i in a[1::]:\n",
    "   \n",
    "    for j in range(2,i):\n",
    "        if i % j == 0:\n",
    "             \n",
    "            break\n",
    "    else:\n",
    "        sum+=i\n",
    "print(sum)\n"
   ]
  },
  {
   "cell_type": "code",
   "execution_count": 2,
   "id": "7b900bca",
   "metadata": {},
   "outputs": [
    {
     "name": "stdout",
     "output_type": "stream",
     "text": [
      "[1, 2, 3, 4]\n",
      "4\n"
     ]
    }
   ],
   "source": [
    "#16\n",
    "\n",
    "a = [1, 8, 7, 10, 2, 3, 4]\n",
    "a_sorted = sorted(a)\n",
    "longest_seq = []\n",
    "current_seq = [a_sorted[0]]\n",
    "\n",
    "for i in range(1, len(a_sorted)):\n",
    "    if a_sorted[i] - a_sorted[i - 1] == 1:\n",
    "        current_seq.append(a_sorted[i])\n",
    "    else:\n",
    "        if len(current_seq) > len(longest_seq):\n",
    "            longest_seq = current_seq\n",
    "        current_seq = [a_sorted[i]]\n",
    "\n",
    "if len(current_seq) > len(longest_seq):\n",
    "    longest_seq = current_seq\n",
    "\n",
    "print(longest_seq)\n",
    "print(len(longest_seq))"
   ]
  },
  {
   "cell_type": "code",
   "execution_count": null,
   "id": "75c277f7",
   "metadata": {},
   "outputs": [],
   "source": [
    "a=[3,4,6,7,9,8,11]\n",
    "b=sorted(a)\n",
    "longest_sequence=[]\n",
    "curent_sequence=[b[0]]\n",
    "\n",
    "for i in range(len(a)):\n",
    "     "
   ]
  },
  {
   "cell_type": "code",
   "execution_count": 2,
   "id": "60ae96f8",
   "metadata": {},
   "outputs": [
    {
     "name": "stdout",
     "output_type": "stream",
     "text": [
      "{'upper': 1, 'lower': 4, 'digit': 3, 'spesal': 1}\n"
     ]
    }
   ],
   "source": [
    "#18\n",
    "a='Hello@123'\n",
    "count1=0\n",
    "count2=0\n",
    "count3=0\n",
    "count4=0\n",
    "\n",
    "for i in a:\n",
    "    if i.isupper():\n",
    "        count1+=1\n",
    "    elif i.islower():\n",
    "        count2+=1\n",
    "    elif i.isdigit():\n",
    "        count3+=1\n",
    "    else:\n",
    "        count4+=1\n",
    "b={}\n",
    "b[\"upper\"]=count1\n",
    "b[\"lower\"]=count2\n",
    "b[\"digit\"]=count3\n",
    "b[\"spesal\"]=count4\n",
    "print(b)\n",
    "\n"
   ]
  },
  {
   "cell_type": "code",
   "execution_count": 4,
   "id": "de58c270",
   "metadata": {},
   "outputs": [
    {
     "name": "stdout",
     "output_type": "stream",
     "text": [
      "['hello', 'world', 'class']\n"
     ]
    }
   ],
   "source": [
    "#19\n",
    "a=\"hello world python class \".split()\n",
    "b=[]\n",
    "for i in a:\n",
    "    if len(i)%2 !=0:\n",
    "        b.append(i)\n",
    "print(b)\n"
   ]
  },
  {
   "cell_type": "code",
   "execution_count": 13,
   "id": "0523365a",
   "metadata": {},
   "outputs": [
    {
     "name": "stdout",
     "output_type": "stream",
     "text": [
      "(3, 5, 7)\n"
     ]
    }
   ],
   "source": [
    "#20\n",
    "a = (1, 2, 3, 4)\n",
    "b = ()\n",
    "\n",
    "for i in range(len(a) - 1):\n",
    "    c = a[i] + a[i + 1]\n",
    "    b += (c,)\n",
    "print(b)"
   ]
  },
  {
   "cell_type": "code",
   "execution_count": null,
   "id": "0d5808ca",
   "metadata": {},
   "outputs": [
    {
     "name": "stdout",
     "output_type": "stream",
     "text": [
      "(1, 3, 6, 10)\n"
     ]
    }
   ],
   "source": [
    "#20 To get output (1, 3, 6, 10), we need the cumulative sum of the tuple elements.\n",
    "a = (1, 2, 3, 4)\n",
    "b = ()\n",
    "cum_sum = 0\n",
    "for num in a:\n",
    "    cum_sum += num\n",
    "    b += (cum_sum,)\n",
    "print(b)"
   ]
  }
 ],
 "metadata": {
  "kernelspec": {
   "display_name": "Python 3",
   "language": "python",
   "name": "python3"
  },
  "language_info": {
   "codemirror_mode": {
    "name": "ipython",
    "version": 3
   },
   "file_extension": ".py",
   "mimetype": "text/x-python",
   "name": "python",
   "nbconvert_exporter": "python",
   "pygments_lexer": "ipython3",
   "version": "3.13.2"
  }
 },
 "nbformat": 4,
 "nbformat_minor": 5
}
