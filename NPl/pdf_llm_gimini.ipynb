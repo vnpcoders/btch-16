{
 "cells": [
  {
   "cell_type": "code",
   "execution_count": 6,
   "id": "283a38e7",
   "metadata": {},
   "outputs": [],
   "source": [
    "import pandas as pd \n",
    "import numpy as np\n",
    "import google.generativeai as genai\n",
    "from langchain_community.document_loaders import PyPDFLoader\n"
   ]
  },
  {
   "cell_type": "code",
   "execution_count": null,
   "id": "677a98c5",
   "metadata": {},
   "outputs": [],
   "source": [
    "# API Configuration\n",
    "gemini_api=\"Enter your API kEY\"\n",
    "genai.configure(api_key=gemini_api)\n",
    "model=genai.GenerativeModel(\"gemini-1.5-flash\")"
   ]
  },
  {
   "cell_type": "code",
   "execution_count": 8,
   "id": "5ba96f05",
   "metadata": {},
   "outputs": [],
   "source": [
    "\n",
    "\n",
    "#Load the data set\n",
    "\n",
    "loader= PyPDFLoader(r'D:\\btch 16\\NPl\\NIPS-2017-attention-is-all-you-need-Paper.pdf')\n",
    "document=loader.load()\n",
    "\n"
   ]
  },
  {
   "cell_type": "code",
   "execution_count": 9,
   "id": "55361294",
   "metadata": {},
   "outputs": [],
   "source": [
    "def ask_gemini(query,document):\n",
    "    prompt=f\"\"\"\" You are my personal AI assistant that help me to analyze that following data set\n",
    "      {document.head().to_string()}\n",
    "    user Query :{query}\"\"\"\n",
    "    response=model.generate_content(prompt)\n",
    "    return response.text if response else \"Sorry i could not process text\""
   ]
  },
  {
   "cell_type": "code",
   "execution_count": 10,
   "id": "33a25907",
   "metadata": {},
   "outputs": [
    {
     "ename": "AttributeError",
     "evalue": "'list' object has no attribute 'head'",
     "output_type": "error",
     "traceback": [
      "\u001b[1;31m---------------------------------------------------------------------------\u001b[0m",
      "\u001b[1;31mAttributeError\u001b[0m                            Traceback (most recent call last)",
      "Cell \u001b[1;32mIn[10], line 5\u001b[0m\n\u001b[0;32m      3\u001b[0m \u001b[38;5;28;01mif\u001b[39;00m user_query\u001b[38;5;241m.\u001b[39mlower()\u001b[38;5;241m==\u001b[39m\u001b[38;5;124m'\u001b[39m\u001b[38;5;124mexit\u001b[39m\u001b[38;5;124m'\u001b[39m:\n\u001b[0;32m      4\u001b[0m     \u001b[38;5;28;01mbreak\u001b[39;00m\n\u001b[1;32m----> 5\u001b[0m response\u001b[38;5;241m=\u001b[39m\u001b[43mask_gemini\u001b[49m\u001b[43m(\u001b[49m\u001b[43muser_query\u001b[49m\u001b[43m,\u001b[49m\u001b[43mdocument\u001b[49m\u001b[43m)\u001b[49m\n\u001b[0;32m      6\u001b[0m \u001b[38;5;28mprint\u001b[39m(\u001b[38;5;124m\"\u001b[39m\u001b[38;5;124mresponse\u001b[39m\u001b[38;5;124m\"\u001b[39m,response)\n",
      "Cell \u001b[1;32mIn[9], line 3\u001b[0m, in \u001b[0;36mask_gemini\u001b[1;34m(query, document)\u001b[0m\n\u001b[0;32m      1\u001b[0m \u001b[38;5;28;01mdef\u001b[39;00m\u001b[38;5;250m \u001b[39m\u001b[38;5;21mask_gemini\u001b[39m(query,document):\n\u001b[0;32m      2\u001b[0m     prompt\u001b[38;5;241m=\u001b[39m\u001b[38;5;124mf\u001b[39m\u001b[38;5;124m\"\"\"\u001b[39m\u001b[38;5;124m\"\u001b[39m\u001b[38;5;124m You are my personal AI assistant that help me to analyze that following data set\u001b[39m\n\u001b[1;32m----> 3\u001b[0m \u001b[38;5;124m      \u001b[39m\u001b[38;5;132;01m{\u001b[39;00m\u001b[43mdocument\u001b[49m\u001b[38;5;241;43m.\u001b[39;49m\u001b[43mhead\u001b[49m()\u001b[38;5;241m.\u001b[39mto_string()\u001b[38;5;132;01m}\u001b[39;00m\n\u001b[0;32m      4\u001b[0m \u001b[38;5;124m    user Query :\u001b[39m\u001b[38;5;132;01m{\u001b[39;00mquery\u001b[38;5;132;01m}\u001b[39;00m\u001b[38;5;124m\"\"\"\u001b[39m\n\u001b[0;32m      5\u001b[0m     response\u001b[38;5;241m=\u001b[39mmodel\u001b[38;5;241m.\u001b[39mgenerate_content(prompt)\n\u001b[0;32m      6\u001b[0m     \u001b[38;5;28;01mreturn\u001b[39;00m response\u001b[38;5;241m.\u001b[39mtext \u001b[38;5;28;01mif\u001b[39;00m response \u001b[38;5;28;01melse\u001b[39;00m \u001b[38;5;124m\"\u001b[39m\u001b[38;5;124mSorry i could not process text\u001b[39m\u001b[38;5;124m\"\u001b[39m\n",
      "\u001b[1;31mAttributeError\u001b[0m: 'list' object has no attribute 'head'"
     ]
    }
   ],
   "source": [
    "while True:\n",
    "    user_query=input(\"ask a question about the dataset or type exit to quit\")\n",
    "    if user_query.lower()=='exit':\n",
    "        break\n",
    "    response=ask_gemini(user_query,document)\n",
    "    print(\"response\",response)"
   ]
  }
 ],
 "metadata": {
  "kernelspec": {
   "display_name": ".venv",
   "language": "python",
   "name": "python3"
  },
  "language_info": {
   "codemirror_mode": {
    "name": "ipython",
    "version": 3
   },
   "file_extension": ".py",
   "mimetype": "text/x-python",
   "name": "python",
   "nbconvert_exporter": "python",
   "pygments_lexer": "ipython3",
   "version": "3.11.9"
  }
 },
 "nbformat": 4,
 "nbformat_minor": 5
}
