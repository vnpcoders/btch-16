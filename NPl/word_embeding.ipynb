{
 "cells": [
  {
   "cell_type": "code",
   "execution_count": 1,
   "id": "f0bf234c",
   "metadata": {},
   "outputs": [],
   "source": [
    "import pandas as pd\n",
    "import numpy as np\n",
    "import nltk"
   ]
  },
  {
   "cell_type": "markdown",
   "id": "7331aebf",
   "metadata": {},
   "source": [
    "# Bag Of Words\n"
   ]
  },
  {
   "cell_type": "code",
   "execution_count": 2,
   "id": "d97b81da",
   "metadata": {},
   "outputs": [],
   "source": [
    "df=pd.DataFrame({\n",
    "    'text':[\"vinit is a good boy\",\n",
    "    \"rahul is a bad boy\",\n",
    "    \"vinet like holiday\",\n",
    "    'welcom is a flop movie'],\n",
    "    'Lable':[1,0,1,0]\n",
    "})"
   ]
  },
  {
   "cell_type": "code",
   "execution_count": 3,
   "id": "971cacd6",
   "metadata": {},
   "outputs": [],
   "source": [
    "from sklearn.feature_extraction.text import CountVectorizer\n",
    "c_vector=CountVectorizer()\n",
    "cv_df=c_vector.fit_transform(df['text'])"
   ]
  },
  {
   "cell_type": "code",
   "execution_count": 4,
   "id": "7ff84072",
   "metadata": {},
   "outputs": [
    {
     "name": "stdout",
     "output_type": "stream",
     "text": [
      "{'vinit': 10, 'is': 5, 'good': 3, 'boy': 1, 'rahul': 8, 'bad': 0, 'vinet': 9, 'like': 6, 'holiday': 4, 'welcom': 11, 'flop': 2, 'movie': 7}\n"
     ]
    }
   ],
   "source": [
    "print(c_vector.vocabulary_)"
   ]
  },
  {
   "cell_type": "code",
   "execution_count": 5,
   "id": "c93b0535",
   "metadata": {},
   "outputs": [
    {
     "data": {
      "text/plain": [
       "array([[0, 1, 0, 1, 0, 1, 0, 0, 0, 0, 1, 0],\n",
       "       [1, 1, 0, 0, 0, 1, 0, 0, 1, 0, 0, 0],\n",
       "       [0, 0, 0, 0, 1, 0, 1, 0, 0, 1, 0, 0],\n",
       "       [0, 0, 1, 0, 0, 1, 0, 1, 0, 0, 0, 1]], dtype=int64)"
      ]
     },
     "execution_count": 5,
     "metadata": {},
     "output_type": "execute_result"
    }
   ],
   "source": [
    "cv_df.toarray()"
   ]
  },
  {
   "cell_type": "code",
   "execution_count": 6,
   "id": "f00d43b4",
   "metadata": {},
   "outputs": [
    {
     "data": {
      "text/plain": [
       "<1x12 sparse matrix of type '<class 'numpy.int64'>'\n",
       "\twith 2 stored elements in Compressed Sparse Row format>"
      ]
     },
     "execution_count": 6,
     "metadata": {},
     "output_type": "execute_result"
    }
   ],
   "source": [
    "c_vector.transform(['bad boy pushpa'])"
   ]
  },
  {
   "cell_type": "markdown",
   "id": "a19b5b7b",
   "metadata": {},
   "source": [
    "# N- gram technik"
   ]
  },
  {
   "cell_type": "code",
   "execution_count": 7,
   "id": "2dcd0783",
   "metadata": {},
   "outputs": [],
   "source": [
    "from sklearn.feature_extraction.text import CountVectorizer\n",
    "ng_vector=CountVectorizer(ngram_range=(2,2))\n",
    "ng_df=ng_vector.fit_transform(df['text'])"
   ]
  },
  {
   "cell_type": "code",
   "execution_count": 8,
   "id": "f133c404",
   "metadata": {},
   "outputs": [
    {
     "name": "stdout",
     "output_type": "stream",
     "text": [
      "{'vinit is': 9, 'is good': 5, 'good boy': 2, 'rahul is': 7, 'is bad': 3, 'bad boy': 0, 'vinet like': 8, 'like holiday': 6, 'welcom is': 10, 'is flop': 4, 'flop movie': 1}\n"
     ]
    }
   ],
   "source": [
    "print(ng_vector.vocabulary_)\n",
    "\n"
   ]
  },
  {
   "cell_type": "markdown",
   "id": "41fe2fe2",
   "metadata": {},
   "source": [
    "# TF IDF\n"
   ]
  },
  {
   "cell_type": "code",
   "execution_count": 9,
   "id": "32e74484",
   "metadata": {},
   "outputs": [],
   "source": [
    "from sklearn.feature_extraction.text import TfidfVectorizer\n",
    "tf_vector=TfidfVectorizer() \n",
    "tf_df=tf_vector.fit_transform(df['text']).toarray()"
   ]
  },
  {
   "cell_type": "code",
   "execution_count": 10,
   "id": "a49f2006",
   "metadata": {},
   "outputs": [
    {
     "data": {
      "text/plain": [
       "array([[0.        , 0.4530051 , 0.        , 0.57457953, 0.        ,\n",
       "        0.36674667, 0.        , 0.        , 0.        , 0.        ,\n",
       "        0.57457953, 0.        ],\n",
       "       [0.57457953, 0.4530051 , 0.        , 0.        , 0.        ,\n",
       "        0.36674667, 0.        , 0.        , 0.57457953, 0.        ,\n",
       "        0.        , 0.        ],\n",
       "       [0.        , 0.        , 0.        , 0.        , 0.57735027,\n",
       "        0.        , 0.57735027, 0.        , 0.        , 0.57735027,\n",
       "        0.        , 0.        ],\n",
       "       [0.        , 0.        , 0.5417361 , 0.        , 0.        ,\n",
       "        0.34578314, 0.        , 0.5417361 , 0.        , 0.        ,\n",
       "        0.        , 0.5417361 ]])"
      ]
     },
     "execution_count": 10,
     "metadata": {},
     "output_type": "execute_result"
    }
   ],
   "source": [
    "tf_df\n"
   ]
  },
  {
   "cell_type": "markdown",
   "id": "859ad72b",
   "metadata": {},
   "source": [
    "# word 2 vec"
   ]
  },
  {
   "cell_type": "code",
   "execution_count": 34,
   "id": "aadd700e",
   "metadata": {},
   "outputs": [],
   "source": [
    "import pandas as pd"
   ]
  },
  {
   "cell_type": "code",
   "execution_count": 35,
   "id": "14160012",
   "metadata": {},
   "outputs": [],
   "source": [
    "df=pd.read_csv(\"Atul.csv\")"
   ]
  },
  {
   "cell_type": "code",
   "execution_count": 36,
   "id": "bd97ed11",
   "metadata": {},
   "outputs": [
    {
     "data": {
      "text/html": [
       "<div>\n",
       "<style scoped>\n",
       "    .dataframe tbody tr th:only-of-type {\n",
       "        vertical-align: middle;\n",
       "    }\n",
       "\n",
       "    .dataframe tbody tr th {\n",
       "        vertical-align: top;\n",
       "    }\n",
       "\n",
       "    .dataframe thead th {\n",
       "        text-align: right;\n",
       "    }\n",
       "</style>\n",
       "<table border=\"1\" class=\"dataframe\">\n",
       "  <thead>\n",
       "    <tr style=\"text-align: right;\">\n",
       "      <th></th>\n",
       "      <th>Unnamed: 0</th>\n",
       "      <th>id</th>\n",
       "      <th>category</th>\n",
       "      <th>text</th>\n",
       "    </tr>\n",
       "  </thead>\n",
       "  <tbody>\n",
       "    <tr>\n",
       "      <th>0</th>\n",
       "      <td>0</td>\n",
       "      <td>1</td>\n",
       "      <td>sports</td>\n",
       "      <td>the batsman hit a six over midwicket</td>\n",
       "    </tr>\n",
       "    <tr>\n",
       "      <th>1</th>\n",
       "      <td>1</td>\n",
       "      <td>2</td>\n",
       "      <td>sports</td>\n",
       "      <td>the striker scored two goals in the match</td>\n",
       "    </tr>\n",
       "    <tr>\n",
       "      <th>2</th>\n",
       "      <td>2</td>\n",
       "      <td>3</td>\n",
       "      <td>sports</td>\n",
       "      <td>the bowler took a wicket and fans cheered</td>\n",
       "    </tr>\n",
       "    <tr>\n",
       "      <th>3</th>\n",
       "      <td>3</td>\n",
       "      <td>4</td>\n",
       "      <td>food</td>\n",
       "      <td>i love eating fresh apples and bananas</td>\n",
       "    </tr>\n",
       "    <tr>\n",
       "      <th>4</th>\n",
       "      <td>4</td>\n",
       "      <td>5</td>\n",
       "      <td>food</td>\n",
       "      <td>the chef cooked pasta with tomato sauce</td>\n",
       "    </tr>\n",
       "    <tr>\n",
       "      <th>5</th>\n",
       "      <td>5</td>\n",
       "      <td>6</td>\n",
       "      <td>food</td>\n",
       "      <td>the bakery sells bread and delicious cakes</td>\n",
       "    </tr>\n",
       "  </tbody>\n",
       "</table>\n",
       "</div>"
      ],
      "text/plain": [
       "   Unnamed: 0  id category                                        text\n",
       "0           0   1   sports        the batsman hit a six over midwicket\n",
       "1           1   2   sports   the striker scored two goals in the match\n",
       "2           2   3   sports   the bowler took a wicket and fans cheered\n",
       "3           3   4     food      i love eating fresh apples and bananas\n",
       "4           4   5     food     the chef cooked pasta with tomato sauce\n",
       "5           5   6     food  the bakery sells bread and delicious cakes"
      ]
     },
     "execution_count": 36,
     "metadata": {},
     "output_type": "execute_result"
    }
   ],
   "source": [
    "df"
   ]
  },
  {
   "cell_type": "code",
   "execution_count": 37,
   "id": "6ca17f2e",
   "metadata": {},
   "outputs": [],
   "source": [
    "df.drop(['id', 'Unnamed: 0'], axis=1, inplace=True)\n"
   ]
  },
  {
   "cell_type": "code",
   "execution_count": 38,
   "id": "06c9f65a",
   "metadata": {},
   "outputs": [
    {
     "name": "stderr",
     "output_type": "stream",
     "text": [
      "[nltk_data] Downloading package punkt to\n",
      "[nltk_data]     C:\\Users\\vasud\\AppData\\Roaming\\nltk_data...\n",
      "[nltk_data]   Package punkt is already up-to-date!\n"
     ]
    },
    {
     "data": {
      "text/plain": [
       "True"
      ]
     },
     "execution_count": 38,
     "metadata": {},
     "output_type": "execute_result"
    }
   ],
   "source": [
    "from nltk.tokenize import word_tokenize\n",
    "import nltk\n",
    "\n",
    "nltk.download('punkt')\n"
   ]
  },
  {
   "cell_type": "code",
   "execution_count": 39,
   "id": "93f4ee42",
   "metadata": {},
   "outputs": [],
   "source": [
    "df['token_text'] = df['text'].apply(lambda x: word_tokenize(x.lower()))\n",
    "\n"
   ]
  },
  {
   "cell_type": "code",
   "execution_count": 40,
   "id": "94d2db44",
   "metadata": {},
   "outputs": [
    {
     "data": {
      "text/html": [
       "<div>\n",
       "<style scoped>\n",
       "    .dataframe tbody tr th:only-of-type {\n",
       "        vertical-align: middle;\n",
       "    }\n",
       "\n",
       "    .dataframe tbody tr th {\n",
       "        vertical-align: top;\n",
       "    }\n",
       "\n",
       "    .dataframe thead th {\n",
       "        text-align: right;\n",
       "    }\n",
       "</style>\n",
       "<table border=\"1\" class=\"dataframe\">\n",
       "  <thead>\n",
       "    <tr style=\"text-align: right;\">\n",
       "      <th></th>\n",
       "      <th>category</th>\n",
       "      <th>text</th>\n",
       "      <th>token_text</th>\n",
       "    </tr>\n",
       "  </thead>\n",
       "  <tbody>\n",
       "    <tr>\n",
       "      <th>0</th>\n",
       "      <td>sports</td>\n",
       "      <td>the batsman hit a six over midwicket</td>\n",
       "      <td>[the, batsman, hit, a, six, over, midwicket]</td>\n",
       "    </tr>\n",
       "    <tr>\n",
       "      <th>1</th>\n",
       "      <td>sports</td>\n",
       "      <td>the striker scored two goals in the match</td>\n",
       "      <td>[the, striker, scored, two, goals, in, the, ma...</td>\n",
       "    </tr>\n",
       "    <tr>\n",
       "      <th>2</th>\n",
       "      <td>sports</td>\n",
       "      <td>the bowler took a wicket and fans cheered</td>\n",
       "      <td>[the, bowler, took, a, wicket, and, fans, chee...</td>\n",
       "    </tr>\n",
       "    <tr>\n",
       "      <th>3</th>\n",
       "      <td>food</td>\n",
       "      <td>i love eating fresh apples and bananas</td>\n",
       "      <td>[i, love, eating, fresh, apples, and, bananas]</td>\n",
       "    </tr>\n",
       "    <tr>\n",
       "      <th>4</th>\n",
       "      <td>food</td>\n",
       "      <td>the chef cooked pasta with tomato sauce</td>\n",
       "      <td>[the, chef, cooked, pasta, with, tomato, sauce]</td>\n",
       "    </tr>\n",
       "    <tr>\n",
       "      <th>5</th>\n",
       "      <td>food</td>\n",
       "      <td>the bakery sells bread and delicious cakes</td>\n",
       "      <td>[the, bakery, sells, bread, and, delicious, ca...</td>\n",
       "    </tr>\n",
       "  </tbody>\n",
       "</table>\n",
       "</div>"
      ],
      "text/plain": [
       "  category                                        text  \\\n",
       "0   sports        the batsman hit a six over midwicket   \n",
       "1   sports   the striker scored two goals in the match   \n",
       "2   sports   the bowler took a wicket and fans cheered   \n",
       "3     food      i love eating fresh apples and bananas   \n",
       "4     food     the chef cooked pasta with tomato sauce   \n",
       "5     food  the bakery sells bread and delicious cakes   \n",
       "\n",
       "                                          token_text  \n",
       "0       [the, batsman, hit, a, six, over, midwicket]  \n",
       "1  [the, striker, scored, two, goals, in, the, ma...  \n",
       "2  [the, bowler, took, a, wicket, and, fans, chee...  \n",
       "3     [i, love, eating, fresh, apples, and, bananas]  \n",
       "4    [the, chef, cooked, pasta, with, tomato, sauce]  \n",
       "5  [the, bakery, sells, bread, and, delicious, ca...  "
      ]
     },
     "execution_count": 40,
     "metadata": {},
     "output_type": "execute_result"
    }
   ],
   "source": [
    "df"
   ]
  },
  {
   "cell_type": "code",
   "execution_count": 41,
   "id": "39a3ab8c",
   "metadata": {},
   "outputs": [
    {
     "data": {
      "text/html": [
       "<div>\n",
       "<style scoped>\n",
       "    .dataframe tbody tr th:only-of-type {\n",
       "        vertical-align: middle;\n",
       "    }\n",
       "\n",
       "    .dataframe tbody tr th {\n",
       "        vertical-align: top;\n",
       "    }\n",
       "\n",
       "    .dataframe thead th {\n",
       "        text-align: right;\n",
       "    }\n",
       "</style>\n",
       "<table border=\"1\" class=\"dataframe\">\n",
       "  <thead>\n",
       "    <tr style=\"text-align: right;\">\n",
       "      <th></th>\n",
       "      <th>category</th>\n",
       "      <th>token_text</th>\n",
       "    </tr>\n",
       "  </thead>\n",
       "  <tbody>\n",
       "    <tr>\n",
       "      <th>0</th>\n",
       "      <td>sports</td>\n",
       "      <td>[the, batsman, hit, a, six, over, midwicket]</td>\n",
       "    </tr>\n",
       "    <tr>\n",
       "      <th>1</th>\n",
       "      <td>sports</td>\n",
       "      <td>[the, striker, scored, two, goals, in, the, ma...</td>\n",
       "    </tr>\n",
       "    <tr>\n",
       "      <th>2</th>\n",
       "      <td>sports</td>\n",
       "      <td>[the, bowler, took, a, wicket, and, fans, chee...</td>\n",
       "    </tr>\n",
       "    <tr>\n",
       "      <th>3</th>\n",
       "      <td>food</td>\n",
       "      <td>[i, love, eating, fresh, apples, and, bananas]</td>\n",
       "    </tr>\n",
       "    <tr>\n",
       "      <th>4</th>\n",
       "      <td>food</td>\n",
       "      <td>[the, chef, cooked, pasta, with, tomato, sauce]</td>\n",
       "    </tr>\n",
       "    <tr>\n",
       "      <th>5</th>\n",
       "      <td>food</td>\n",
       "      <td>[the, bakery, sells, bread, and, delicious, ca...</td>\n",
       "    </tr>\n",
       "  </tbody>\n",
       "</table>\n",
       "</div>"
      ],
      "text/plain": [
       "  category                                         token_text\n",
       "0   sports       [the, batsman, hit, a, six, over, midwicket]\n",
       "1   sports  [the, striker, scored, two, goals, in, the, ma...\n",
       "2   sports  [the, bowler, took, a, wicket, and, fans, chee...\n",
       "3     food     [i, love, eating, fresh, apples, and, bananas]\n",
       "4     food    [the, chef, cooked, pasta, with, tomato, sauce]\n",
       "5     food  [the, bakery, sells, bread, and, delicious, ca..."
      ]
     },
     "execution_count": 41,
     "metadata": {},
     "output_type": "execute_result"
    }
   ],
   "source": [
    "df.drop('text',axis = 1)"
   ]
  },
  {
   "cell_type": "code",
   "execution_count": 19,
   "id": "5b440b7f",
   "metadata": {},
   "outputs": [
    {
     "data": {
      "text/html": [
       "<div>\n",
       "<style scoped>\n",
       "    .dataframe tbody tr th:only-of-type {\n",
       "        vertical-align: middle;\n",
       "    }\n",
       "\n",
       "    .dataframe tbody tr th {\n",
       "        vertical-align: top;\n",
       "    }\n",
       "\n",
       "    .dataframe thead th {\n",
       "        text-align: right;\n",
       "    }\n",
       "</style>\n",
       "<table border=\"1\" class=\"dataframe\">\n",
       "  <thead>\n",
       "    <tr style=\"text-align: right;\">\n",
       "      <th></th>\n",
       "      <th>category</th>\n",
       "      <th>token_text</th>\n",
       "    </tr>\n",
       "  </thead>\n",
       "  <tbody>\n",
       "    <tr>\n",
       "      <th>0</th>\n",
       "      <td>sports</td>\n",
       "      <td>[the, batsman, hit, a, six, over, midwicket]</td>\n",
       "    </tr>\n",
       "    <tr>\n",
       "      <th>1</th>\n",
       "      <td>sports</td>\n",
       "      <td>[the, striker, scored, two, goals, in, the, ma...</td>\n",
       "    </tr>\n",
       "    <tr>\n",
       "      <th>2</th>\n",
       "      <td>sports</td>\n",
       "      <td>[the, bowler, took, a, wicket, and, fans, chee...</td>\n",
       "    </tr>\n",
       "    <tr>\n",
       "      <th>3</th>\n",
       "      <td>food</td>\n",
       "      <td>[i, love, eating, fresh, apples, and, bananas]</td>\n",
       "    </tr>\n",
       "    <tr>\n",
       "      <th>4</th>\n",
       "      <td>food</td>\n",
       "      <td>[the, chef, cooked, pasta, with, tomato, sauce]</td>\n",
       "    </tr>\n",
       "    <tr>\n",
       "      <th>5</th>\n",
       "      <td>food</td>\n",
       "      <td>[the, bakery, sells, bread, and, delicious, ca...</td>\n",
       "    </tr>\n",
       "  </tbody>\n",
       "</table>\n",
       "</div>"
      ],
      "text/plain": [
       "  category                                         token_text\n",
       "0   sports       [the, batsman, hit, a, six, over, midwicket]\n",
       "1   sports  [the, striker, scored, two, goals, in, the, ma...\n",
       "2   sports  [the, bowler, took, a, wicket, and, fans, chee...\n",
       "3     food     [i, love, eating, fresh, apples, and, bananas]\n",
       "4     food    [the, chef, cooked, pasta, with, tomato, sauce]\n",
       "5     food  [the, bakery, sells, bread, and, delicious, ca..."
      ]
     },
     "execution_count": 19,
     "metadata": {},
     "output_type": "execute_result"
    }
   ],
   "source": [
    "df[['category', 'token_text']]"
   ]
  },
  {
   "cell_type": "code",
   "execution_count": 21,
   "id": "196e8996",
   "metadata": {},
   "outputs": [],
   "source": [
    "import gensim"
   ]
  },
  {
   "cell_type": "code",
   "execution_count": 42,
   "id": "2a98ec1e",
   "metadata": {},
   "outputs": [],
   "source": [
    "from gensim.models import Word2Vec\n",
    "Model = Word2Vec(df['token_text'].tolist(),vector_size = 100,sg =1,min_count=1)\n"
   ]
  },
  {
   "cell_type": "code",
   "execution_count": 45,
   "id": "fa16727f",
   "metadata": {},
   "outputs": [
    {
     "name": "stdout",
     "output_type": "stream",
     "text": [
      "Batsman Similarity [('bowler', 0.1783093959093094), ('six', 0.1314806044101715), ('striker', 0.07499625533819199)]\n",
      "bakery Similarity [('bowler', 0.17133139073848724), ('bread', 0.1566610485315323), ('match', 0.1472523808479309)]\n",
      "goals Similarity [('bananas', 0.18203969299793243), ('a', 0.17279359698295593)]\n"
     ]
    }
   ],
   "source": [
    "print(\"Batsman Similarity\",Model.wv.most_similar(\"batsman\",topn=3))\n",
    "print(\"bakery Similarity\",Model.wv.most_similar(\"bakery\",topn=3))\n",
    "print(\"goals Similarity\",Model.wv.most_similar(\"goals\",topn=2))"
   ]
  },
  {
   "cell_type": "code",
   "execution_count": 33,
   "id": "3ecbe69a",
   "metadata": {},
   "outputs": [
    {
     "name": "stdout",
     "output_type": "stream",
     "text": [
      "['the']\n"
     ]
    }
   ],
   "source": [
    "print(list(Model.wv.key_to_index.keys())[:50])  # Show first 50 words"
   ]
  },
  {
   "cell_type": "code",
   "execution_count": null,
   "id": "cf0470d0",
   "metadata": {},
   "outputs": [
    {
     "ename": "ModuleNotFoundError",
     "evalue": "No module named 'datasets'",
     "output_type": "error",
     "traceback": [
      "\u001b[31m---------------------------------------------------------------------------\u001b[39m",
      "\u001b[31mModuleNotFoundError\u001b[39m                       Traceback (most recent call last)",
      "\u001b[36mCell\u001b[39m\u001b[36m \u001b[39m\u001b[32mIn[46]\u001b[39m\u001b[32m, line 1\u001b[39m\n\u001b[32m----> \u001b[39m\u001b[32m1\u001b[39m \u001b[38;5;28;01mfrom\u001b[39;00m\u001b[38;5;250m \u001b[39m\u001b[34;01mdatasets\u001b[39;00m\u001b[38;5;250m \u001b[39m\u001b[38;5;28;01mimport\u001b[39;00m load_dataset\n\u001b[32m      3\u001b[39m ds = load_dataset(\u001b[33m\"\u001b[39m\u001b[33myuncongli/chat-sentiment-analysis\u001b[39m\u001b[33m\"\u001b[39m)\n",
      "\u001b[31mModuleNotFoundError\u001b[39m: No module named 'datasets'"
     ]
    }
   ],
   "source": [
    "from datasets import load_dataset\n",
    "\n",
    "ds = load_dataset(\"yuncongli/chat-sentiment-analysis\")"
   ]
  }
 ],
 "metadata": {
  "kernelspec": {
   "display_name": ".venv",
   "language": "python",
   "name": "python3"
  },
  "language_info": {
   "codemirror_mode": {
    "name": "ipython",
    "version": 3
   },
   "file_extension": ".py",
   "mimetype": "text/x-python",
   "name": "python",
   "nbconvert_exporter": "python",
   "pygments_lexer": "ipython3",
   "version": "3.11.9"
  }
 },
 "nbformat": 4,
 "nbformat_minor": 5
}
