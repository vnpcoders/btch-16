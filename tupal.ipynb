{
 "cells": [
  {
   "cell_type": "code",
   "execution_count": null,
   "id": "a40e7448",
   "metadata": {},
   "outputs": [],
   "source": [
    "#tupal\n",
    "\n",
    "a=()\n",
    "b=tuple()\n",
    "#it stores multipale hydrogenous data types\n",
    "#it is unchangeable or immutebal and orderd we can not change the value of tuple\n",
    "\n",
    "c="
   ]
  },
  {
   "cell_type": "code",
   "execution_count": 7,
   "id": "dd1cfee3",
   "metadata": {},
   "outputs": [
    {
     "name": "stdout",
     "output_type": "stream",
     "text": [
      "('hyy', 'vasude', 'patidar', 'vvvvvvvvvvvvv')\n",
      "13\n",
      "vvvvvvvvvvvvv\n"
     ]
    }
   ],
   "source": [
    "a=(\"hyy\",\"vasude\",\"patidar\",\"vvvvvvvvvvvvv\")\n",
    "\n",
    "y=0\n",
    "\n",
    "for i in a:\n",
    "    if len(i)>y:\n",
    "        y=len(i)\n",
    "print(a)\n",
    "print(y)\n",
    "print(i)\n"
   ]
  }
 ],
 "metadata": {
  "kernelspec": {
   "display_name": "Python 3",
   "language": "python",
   "name": "python3"
  },
  "language_info": {
   "codemirror_mode": {
    "name": "ipython",
    "version": 3
   },
   "file_extension": ".py",
   "mimetype": "text/x-python",
   "name": "python",
   "nbconvert_exporter": "python",
   "pygments_lexer": "ipython3",
   "version": "3.13.2"
  }
 },
 "nbformat": 4,
 "nbformat_minor": 5
}
