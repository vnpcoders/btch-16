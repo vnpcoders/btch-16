{
 "cells": [
  {
   "cell_type": "code",
   "execution_count": 3,
   "id": "74eaba98",
   "metadata": {},
   "outputs": [
    {
     "name": "stdout",
     "output_type": "stream",
     "text": [
      "\n",
      "*\n",
      "**\n",
      "***\n",
      "****\n",
      "*****\n"
     ]
    }
   ],
   "source": [
    "a = int(input(\"enter the number\"))\n",
    "\n",
    "for i in range(a):\n",
    "    for j in range(i):\n",
    "        print(\"*\", end = \"\")\n",
    "    print()    "
   ]
  },
  {
   "cell_type": "code",
   "execution_count": 4,
   "id": "25ed2114",
   "metadata": {},
   "outputs": [
    {
     "name": "stdout",
     "output_type": "stream",
     "text": [
      "******\n",
      "*****\n",
      "****\n",
      "***\n",
      "**\n",
      "*\n"
     ]
    }
   ],
   "source": [
    "a= int(input(\"enter the number\"))\n",
    "for i in range(a):\n",
    "    for j in range(a-i):\n",
    "        print(\"*\", end=\"\")\n",
    "    print()\n",
    "    "
   ]
  },
  {
   "cell_type": "code",
   "execution_count": 16,
   "id": "1533d375",
   "metadata": {},
   "outputs": [
    {
     "name": "stdout",
     "output_type": "stream",
     "text": [
      "      \n",
      "     *\n",
      "    ***\n",
      "   *****\n",
      "  *******\n",
      " *********\n"
     ]
    }
   ],
   "source": [
    "a = int (input(\"enter a number\"))\n",
    "\n",
    "for i in range(a):\n",
    "    for k in range(a-i):\n",
    "        print (\" \", end=\"\")\n",
    "\n",
    "    for j in range(i*2-1):\n",
    "        print (\"*\", end=\"\")\n",
    "    print()"
   ]
  },
  {
   "cell_type": "code",
   "execution_count": 21,
   "id": "16af81fc",
   "metadata": {},
   "outputs": [
    {
     "name": "stdout",
     "output_type": "stream",
     "text": [
      "*********\n",
      " *******\n",
      "  *****\n",
      "   ***\n",
      "    *\n"
     ]
    }
   ],
   "source": [
    "a = int(input(\"enter a number\"))\n",
    "for i in range(a,0,-1):\n",
    "    for k in range(a-i):\n",
    "        print (\" \", end=\"\")\n",
    "\n",
    "    for j in range(i*2-1):\n",
    "        print (\"*\", end=\"\")\n",
    "    print()"
   ]
  },
  {
   "cell_type": "code",
   "execution_count": 7,
   "id": "5fd02a21",
   "metadata": {},
   "outputs": [
    {
     "name": "stdout",
     "output_type": "stream",
     "text": [
      "x is 5 or less\n"
     ]
    }
   ],
   "source": [
    "\n",
    "x = 4\n",
    "\n",
    "if x > 5:\n",
    "    pass  # Placeholder for future logic\n",
    "else:\n",
    "    print(\"x is 5 or less\")"
   ]
  },
  {
   "cell_type": "code",
   "execution_count": 22,
   "id": "f1cc6d37",
   "metadata": {},
   "outputs": [
    {
     "name": "stdout",
     "output_type": "stream",
     "text": [
      "     \n",
      "    *\n",
      "   ***\n",
      "  *****\n",
      " *******\n",
      " *******\n",
      "  *****\n",
      "   ***\n",
      "    *\n"
     ]
    }
   ],
   "source": [
    "a = int (input(\"enter a number\"))\n",
    "\n",
    "for i in range(a):\n",
    "    for k in range(a-i):\n",
    "        print (\" \", end=\"\")\n",
    "\n",
    "    for j in range(i*2-1):\n",
    "        print (\"*\", end=\"\")\n",
    "    print()\n",
    "for i in range(a-1,0,-1):\n",
    "    for k in range(a-i):\n",
    "        print (\" \", end=\"\")\n",
    "\n",
    "    for j in range(i*2-1):\n",
    "        print (\"*\", end=\"\")\n",
    "    print()"
   ]
  },
  {
   "cell_type": "code",
   "execution_count": null,
   "id": "c3f25df5",
   "metadata": {},
   "outputs": [
    {
     "name": "stdout",
     "output_type": "stream",
     "text": [
      " ***********\n",
      "  *********\n",
      "   *******\n",
      "    *****\n",
      "     ***\n",
      "      *\n",
      "       \n",
      "      *\n",
      "     ***\n",
      "    *****\n",
      "   *******\n",
      "  *********\n",
      " ***********\n"
     ]
    }
   ],
   "source": [
    "a = int (input(\"enter a number\"))\n",
    "\n",
    "for i in range(a-1,0,-1):\n",
    "    for k in range(a-i):\n",
    "        print (\" \", end=\"\")\n",
    "\n",
    "    for j in range(i*2-1):\n",
    "        print (\"*\", end=\"\")\n",
    "    print()\n",
    "\n",
    "for i in range(a):\n",
    "    for k in range(a-i):\n",
    "        print (\" \", end=\"\")\n",
    "\n",
    "    for j in range(i*2-1):\n",
    "        print (\"*\", end=\"\")\n",
    "    print()\n"
   ]
  },
  {
   "cell_type": "code",
   "execution_count": 24,
   "id": "a49ac4b2",
   "metadata": {},
   "outputs": [
    {
     "name": "stdout",
     "output_type": "stream",
     "text": [
      "\n",
      "*\n",
      "**\n",
      "***\n",
      "****\n",
      "*****\n",
      "******\n",
      "*****\n",
      "****\n",
      "***\n",
      "**\n",
      "*\n"
     ]
    }
   ],
   "source": [
    "a = int(input(\"enter the number\"))\n",
    "\n",
    "for i in range(a):\n",
    "    for j in range(i):\n",
    "        print(\"*\", end = \"\")\n",
    "    print()  \n",
    "for i in range(a):\n",
    "    for j in range(a-i):\n",
    "        print(\"*\", end=\"\")\n",
    "    print()\n",
    "      "
   ]
  },
  {
   "cell_type": "code",
   "execution_count": null,
   "id": "2f3846b5",
   "metadata": {},
   "outputs": [],
   "source": [
    "l1=[1,32,\"rj\",\"hyy\"]\n",
    "\n",
    "for i in l1:\n",
    "    print(i,end=\"\")\n",
    "print(\"finish\")"
   ]
  },
  {
   "cell_type": "code",
   "execution_count": 2,
   "id": "502ef59e",
   "metadata": {},
   "outputs": [
    {
     "name": "stdout",
     "output_type": "stream",
     "text": [
      "name : vasu\n",
      "age : 20\n"
     ]
    }
   ],
   "source": [
    "d1={\"name\":\"vasu\",\"age\":20}\n",
    "\n",
    "for key,value in d1.items():\n",
    "    print(key,':',value)"
   ]
  },
  {
   "cell_type": "code",
   "execution_count": 8,
   "id": "64c9d19f",
   "metadata": {},
   "outputs": [
    {
     "name": "stdout",
     "output_type": "stream",
     "text": [
      "True\n",
      "455\n",
      "6.4\n",
      "name\n",
      "334\n"
     ]
    }
   ],
   "source": [
    "s1={334,455,True,'name',6.4}\n",
    "\n",
    "for i in s1:\n",
    "    print(i)\n"
   ]
  },
  {
   "cell_type": "code",
   "execution_count": 35,
   "id": "056839ad",
   "metadata": {},
   "outputs": [
    {
     "name": "stdout",
     "output_type": "stream",
     "text": [
      "2\n",
      "4\n",
      "6\n",
      "8\n",
      "10\n",
      "12\n",
      "14\n",
      "16\n",
      "18\n",
      "20\n",
      "22\n",
      "24\n",
      "26\n",
      "28\n",
      "30\n",
      "32\n",
      "34\n",
      "36\n",
      "38\n",
      "40\n",
      "42\n",
      "44\n",
      "46\n",
      "48\n"
     ]
    }
   ],
   "source": [
    "i=1\n",
    "for z in range(2,50,i*2):\n",
    "    print(z)"
   ]
  },
  {
   "cell_type": "code",
   "execution_count": null,
   "id": "3d6926a4",
   "metadata": {},
   "outputs": [
    {
     "name": "stdout",
     "output_type": "stream",
     "text": [
      "not prime 3\n"
     ]
    }
   ],
   "source": [
    "num= int(input(\"enter a number\"))\n",
    "\n",
    "for i in range(2,num):\n",
    "    if num % i == 0:\n",
    "        print(\"not prime\",)\n",
    "        break\n",
    "else:\n",
    "    print(\"prime number\")"
   ]
  },
  {
   "cell_type": "code",
   "execution_count": 48,
   "id": "6cb6f500",
   "metadata": {},
   "outputs": [
    {
     "name": "stdout",
     "output_type": "stream",
     "text": [
      "sum of all elements in the list is 85\n"
     ]
    }
   ],
   "source": [
    "a=[5,7,8,2,10,45,67,85]\n",
    "\n",
    "for i in range(len(a)):\n",
    "    sum=0\n",
    "    sum+= a[i]\n",
    "print(\"sum of all elements in the list is\", sum)"
   ]
  },
  {
   "cell_type": "code",
   "execution_count": 55,
   "id": "5672b125",
   "metadata": {},
   "outputs": [
    {
     "name": "stdout",
     "output_type": "stream",
     "text": [
      "50 is not a prime number\n",
      "51 is not a prime number\n",
      "52 is not a prime number\n",
      "53 is a prime number\n",
      "54 is not a prime number\n",
      "55 is not a prime number\n",
      "56 is not a prime number\n",
      "57 is not a prime number\n",
      "58 is not a prime number\n",
      "59 is a prime number\n",
      "60 is not a prime number\n",
      "61 is a prime number\n",
      "62 is not a prime number\n",
      "63 is not a prime number\n",
      "64 is not a prime number\n",
      "65 is not a prime number\n",
      "66 is not a prime number\n",
      "67 is a prime number\n",
      "68 is not a prime number\n",
      "69 is not a prime number\n",
      "70 is not a prime number\n",
      "71 is a prime number\n",
      "72 is not a prime number\n",
      "73 is a prime number\n",
      "74 is not a prime number\n",
      "75 is not a prime number\n",
      "76 is not a prime number\n",
      "77 is not a prime number\n",
      "78 is not a prime number\n",
      "79 is a prime number\n",
      "80 is not a prime number\n",
      "81 is not a prime number\n",
      "82 is not a prime number\n",
      "83 is a prime number\n",
      "84 is not a prime number\n",
      "85 is not a prime number\n",
      "86 is not a prime number\n",
      "87 is not a prime number\n",
      "88 is not a prime number\n",
      "89 is a prime number\n",
      "90 is not a prime number\n",
      "91 is not a prime number\n",
      "92 is not a prime number\n",
      "93 is not a prime number\n",
      "94 is not a prime number\n",
      "95 is not a prime number\n",
      "96 is not a prime number\n",
      "97 is a prime number\n",
      "98 is not a prime number\n",
      "99 is not a prime number\n"
     ]
    }
   ],
   "source": [
    "num= int(input(\"enter a number\"))\n",
    "num1= int (input(\"enter the second number\"))\n",
    "for i in range(num,num1):\n",
    "    if num>1:\n",
    "        for j in range(2,i):\n",
    "            if i % j == 0:\n",
    "                print(i,\"is not a prime number\")\n",
    "                break\n",
    "        else:\n",
    "            print(i,\"is a prime number\")\n"
   ]
  },
  {
   "cell_type": "code",
   "execution_count": 54,
   "id": "f7a9b50e",
   "metadata": {},
   "outputs": [
    {
     "name": "stdout",
     "output_type": "stream",
     "text": [
      "0\n",
      "1\n",
      "2\n",
      "3\n",
      "4\n",
      "5\n",
      "6\n",
      "7\n",
      "8\n",
      "9\n"
     ]
    }
   ],
   "source": [
    "a=0\n",
    "\n",
    "while a <10:\n",
    "    print(a)\n",
    "    a+=1"
   ]
  },
  {
   "cell_type": "code",
   "execution_count": 60,
   "id": "208edf60",
   "metadata": {},
   "outputs": [
    {
     "name": "stdout",
     "output_type": "stream",
     "text": [
      "3 is a prime number\n"
     ]
    }
   ],
   "source": [
    "a=2\n",
    "b=int (input(\"enter a number\"))\n",
    "while a<b:\n",
    "    if b%a==0:\n",
    "        print(b, \"is not a prime number\")\n",
    "        break\n",
    "    else:\n",
    "        print(b ,\"is a prime number\")\n",
    "    a+=1"
   ]
  },
  {
   "cell_type": "code",
   "execution_count": null,
   "id": "28f18b0c",
   "metadata": {},
   "outputs": [],
   "source": []
  }
 ],
 "metadata": {
  "kernelspec": {
   "display_name": "Python 3",
   "language": "python",
   "name": "python3"
  },
  "language_info": {
   "codemirror_mode": {
    "name": "ipython",
    "version": 3
   },
   "file_extension": ".py",
   "mimetype": "text/x-python",
   "name": "python",
   "nbconvert_exporter": "python",
   "pygments_lexer": "ipython3",
   "version": "3.13.2"
  }
 },
 "nbformat": 4,
 "nbformat_minor": 5
}
