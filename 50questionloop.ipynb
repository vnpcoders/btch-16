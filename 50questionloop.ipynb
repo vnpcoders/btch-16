{
 "cells": [
  {
   "cell_type": "code",
   "execution_count": 1,
   "id": "a5452d4a",
   "metadata": {},
   "outputs": [
    {
     "name": "stdout",
     "output_type": "stream",
     "text": [
      "1\n",
      "2\n",
      "3\n",
      "4\n",
      "5\n",
      "6\n",
      "7\n",
      "8\n",
      "9\n",
      "10\n"
     ]
    }
   ],
   "source": [
    "#. Print the numbers from 1 to 10 using a for loop. \n",
    "for i in range(1,11):\n",
    "    print(i)"
   ]
  },
  {
   "cell_type": "code",
   "execution_count": 3,
   "id": "409d2890",
   "metadata": {},
   "outputs": [
    {
     "name": "stdout",
     "output_type": "stream",
     "text": [
      "odd 1\n",
      "even 2\n",
      "odd 3\n",
      "even 4\n",
      "odd 5\n",
      "even 6\n",
      "odd 7\n",
      "even 8\n",
      "odd 9\n",
      "even 10\n",
      "odd 11\n",
      "even 12\n",
      "odd 13\n",
      "even 14\n",
      "odd 15\n",
      "even 16\n",
      "odd 17\n",
      "even 18\n",
      "odd 19\n",
      "even 20\n"
     ]
    }
   ],
   "source": [
    "#Print the even numbers from 1 to 20 using a while loop. \n",
    "for i in range(1,21):\n",
    "    if i%2==0:\n",
    "        print(\"even\",i)\n",
    "    else:\n",
    "        print(\"odd\",i)"
   ]
  },
  {
   "cell_type": "code",
   "execution_count": 11,
   "id": "b970261d",
   "metadata": {},
   "outputs": [
    {
     "name": "stdout",
     "output_type": "stream",
     "text": [
      "sum of 1 to 100 = 5050\n"
     ]
    }
   ],
   "source": [
    "#. Calculate and print the sum of numbers from 1 to 100 using a for loop.\n",
    "sum=0\n",
    "for i in range(1,101,1):\n",
    "    \n",
    "    sum=sum+i\n",
    "print(\"sum of 1 to 100 =\",sum)"
   ]
  },
  {
   "cell_type": "code",
   "execution_count": null,
   "id": "f51687c6",
   "metadata": {},
   "outputs": [
    {
     "name": "stdout",
     "output_type": "stream",
     "text": [
      "the table is 6\n",
      "the table is 12\n",
      "the table is 18\n",
      "the table is 24\n",
      "the table is 30\n",
      "the table is 36\n",
      "the table is 42\n",
      "the table is 48\n",
      "the table is 54\n"
     ]
    }
   ],
   "source": [
    "#4. Print a multiplication table for a given number using a for loop. \n",
    "\n",
    "a = int(input(\"enter the number\"))\n",
    "\n",
    "for i in range(1,10):\n",
    "    print(a*i)"
   ]
  },
  {
   "cell_type": "code",
   "execution_count": 1,
   "id": "6e9eb71d",
   "metadata": {},
   "outputs": [
    {
     "name": "stdout",
     "output_type": "stream",
     "text": [
      "0\n",
      "1\n",
      "1\n",
      "2\n",
      "3\n",
      "5\n"
     ]
    }
   ],
   "source": [
    "#5. Print the Fibonacci series up to a given number using a while loop. \n",
    "\n",
    "num1= int(input('enter the number'))\n",
    "a=0\n",
    "b=1\n",
    "\n",
    "while a<num1:\n",
    "    print(a)\n",
    "    a,b = b, a+b\n",
    "    \n",
    "\n",
    "    \n",
    " \n",
    " "
   ]
  },
  {
   "cell_type": "code",
   "execution_count": 17,
   "id": "71195213",
   "metadata": {},
   "outputs": [
    {
     "name": "stdout",
     "output_type": "stream",
     "text": [
      "vedusav"
     ]
    }
   ],
   "source": [
    "#Print the reverse of a given string using a for loop. \n",
    "a=\"vasudev\"\n",
    "\n",
    "for i in range(len(a)-1,-1,-1):\n",
    "    print(a[i],end='')"
   ]
  },
  {
   "cell_type": "code",
   "execution_count": 34,
   "id": "17f9e809",
   "metadata": {},
   "outputs": [
    {
     "name": "stdout",
     "output_type": "stream",
     "text": [
      "3628800\n"
     ]
    }
   ],
   "source": [
    "#Calculate and print the factorial of a given number using a while loop.\n",
    "\n",
    "n = int(input(\"enter the number\"))\n",
    "\n",
    "fact = 1\n",
    "\n",
    "while n>1:\n",
    "    fact = fact * n\n",
    "    n = n - 1\n",
    "print(fact)\n",
    "\n",
    "    \n",
    "\n"
   ]
  },
  {
   "cell_type": "code",
   "execution_count": null,
   "id": "3c8dee74",
   "metadata": {},
   "outputs": [],
   "source": [
    "#Print the ASCII value of each character in a given string using a for loop. \n",
    "\n"
   ]
  },
  {
   "cell_type": "code",
   "execution_count": 35,
   "id": "93b760df",
   "metadata": {},
   "outputs": [
    {
     "name": "stdout",
     "output_type": "stream",
     "text": [
      "average= 8.0\n"
     ]
    }
   ],
   "source": [
    "#Calculate and print the average of a list of numbers using a for loop. \n",
    "\n",
    "number=[2,4,6,8,10,12,14]\n",
    "sum=0\n",
    "for i in number:\n",
    "    sum= sum+i\n",
    "print(\"average=\",sum/len(number))\n"
   ]
  },
  {
   "cell_type": "code",
   "execution_count": null,
   "id": "728c5290",
   "metadata": {},
   "outputs": [
    {
     "name": "stdout",
     "output_type": "stream",
     "text": [
      "prime\n"
     ]
    }
   ],
   "source": [
    "#Check if a given number is prime using a while loop. \n",
    "\n",
    "n= int(input('number'))\n",
    "a=2\n",
    "while a<n:\n",
    "     \n",
    "    if n%a==0:\n",
    "        print('not a prime')\n",
    "        break\n",
    "    else:\n",
    "        print(\"prime\")\n",
    "        break\n",
    "    a+=1"
   ]
  },
  {
   "cell_type": "code",
   "execution_count": 45,
   "id": "80c9dc5c",
   "metadata": {},
   "outputs": [
    {
     "name": "stdout",
     "output_type": "stream",
     "text": [
      "1\n",
      "2\n",
      "4\n",
      "8\n",
      "16\n",
      "32\n",
      "64\n",
      "128\n",
      "256\n",
      "512\n",
      "1024\n",
      "2048\n",
      "4096\n",
      "8192\n",
      "16384\n"
     ]
    }
   ],
   "source": [
    "#. Print the first 10 terms of the geometric sequence with a common ratio of 2 using a for loop. \n",
    "\n",
    "n= int(input('enter the number'))\n",
    "sum=1\n",
    "print(1)\n",
    "for i in range(1,n):\n",
    "\n",
    "    sum= sum+sum\n",
    "    print(sum)"
   ]
  },
  {
   "cell_type": "code",
   "execution_count": 46,
   "id": "e5fd8c23",
   "metadata": {},
   "outputs": [
    {
     "name": "stdout",
     "output_type": "stream",
     "text": [
      "1\n",
      "4\n",
      "9\n",
      "16\n",
      "25\n",
      "36\n",
      "49\n",
      "64\n",
      "81\n",
      "100\n"
     ]
    }
   ],
   "source": [
    "#Print the square of each number from 1 to 10 using a for loop. \n",
    "\n",
    "for i in range(1,11):\n",
    "    i=i**2\n",
    "    print(i)"
   ]
  },
  {
   "cell_type": "code",
   "execution_count": null,
   "id": "99565fed",
   "metadata": {},
   "outputs": [
    {
     "name": "stdout",
     "output_type": "stream",
     "text": [
      "3\n"
     ]
    }
   ],
   "source": [
    "#. Count and print the number of vowels in a given string using a for loop. \n",
    "a=\"vasudev\"\n",
    "count=0\n",
    "for i in range(1,len(a)):\n",
    "    \n",
    "    if a[i]=='a'or a[i]=='e'or a[i]=='i'or a[i]=='o' or a[i]=='u':\n",
    "        count+=1\n",
    "    \n",
    "print(count)"
   ]
  },
  {
   "cell_type": "code",
   "execution_count": 56,
   "id": "d53bb288",
   "metadata": {},
   "outputs": [
    {
     "name": "stdout",
     "output_type": "stream",
     "text": [
      "1 is a factor of a 20\n",
      "2 is a factor of a 20\n",
      "4 is a factor of a 20\n",
      "5 is a factor of a 20\n",
      "10 is a factor of a 20\n"
     ]
    }
   ],
   "source": [
    "#. Print the factors of a given number using a while loop. \n",
    "a=int(input(\"enter the number\"))\n",
    "for i in range(1,a):\n",
    "    if a%i==0:\n",
    "        print(i,'is a factor of a',a)"
   ]
  },
  {
   "cell_type": "code",
   "execution_count": null,
   "id": "52ea7241",
   "metadata": {},
   "outputs": [
    {
     "name": "stdout",
     "output_type": "stream",
     "text": [
      "sum of digits= 5\n",
      "sum of digits= 9\n"
     ]
    }
   ],
   "source": [
    "#Calculate and print the sum of the digits of a given number using a for loop\n",
    "\n",
    "n = int(input(\"enter thed number\"))\n",
    "sum=0\n",
    "while n>0:\n",
    "    digit= n%10\n",
    "    sum=sum+digit\n",
    "    n=n//10\n",
    "print(\"sum of digits=\",sum)\n"
   ]
  },
  {
   "cell_type": "code",
   "execution_count": null,
   "id": "c3beb594",
   "metadata": {},
   "outputs": [
    {
     "name": "stdout",
     "output_type": "stream",
     "text": [
      "1\n",
      "12\n",
      "123\n",
      "1234\n",
      "12345\n",
      "123456\n",
      "1234567\n",
      "12345678\n"
     ]
    }
   ],
   "source": [
    "#Print a pattern of numbers from 1 to 5 using nested loops. \n",
    "n= int(input(\"enter the number\"))\n",
    "\n",
    "for i in range (1,n+1):\n",
    "    for j in range(1,i+1):\n",
    "        print(j,end='')\n",
    "    print()"
   ]
  },
  {
   "cell_type": "code",
   "execution_count": 60,
   "id": "d082a680",
   "metadata": {},
   "outputs": [
    {
     "name": "stdout",
     "output_type": "stream",
     "text": [
      "ABCDEFGHIJKLMN"
     ]
    }
   ],
   "source": [
    "#18. Print the uppercase letters of the alphabet using a for loop. \n",
    "a=\"abcdefghijklmn\"\n",
    "for i in a:\n",
    "    print(i.upper(),end=\"\")"
   ]
  },
  {
   "cell_type": "code",
   "execution_count": 65,
   "id": "9238cdaa",
   "metadata": {},
   "outputs": [
    {
     "name": "stdout",
     "output_type": "stream",
     "text": [
      "rqponmlkjihgfedcb"
     ]
    }
   ],
   "source": [
    "#19. Print the lowercase letters of the alphabet in reverse order using a while loop. \n",
    "a='ABCDEFGHIJKLMNOPQR'\n",
    "b= len(a)-1\n",
    "while b>0:\n",
    "    x=a[b].lower()\n",
    "    print(x,end='')\n",
    "    b-=1"
   ]
  },
  {
   "cell_type": "code",
   "execution_count": 75,
   "id": "fd78204c",
   "metadata": {},
   "outputs": [
    {
     "name": "stdout",
     "output_type": "stream",
     "text": [
      "2 is a prime number\n",
      "3 is a prime number\n",
      "5 is a prime number\n",
      "7 is a prime number\n",
      "11 is a prime number\n",
      "13 is a prime number\n",
      "17 is a prime number\n",
      "19 is a prime number\n",
      "23 is a prime number\n",
      "29 is a prime number\n"
     ]
    }
   ],
   "source": [
    "#. Generate and print the first 10 prime numbers using a for loop.\n",
    "count=0\n",
    "for i in range(2,100):\n",
    "    if count == 10:\n",
    "        break\n",
    "    else:\n",
    "        for j in range(2,i):\n",
    "            if i % j == 0:\n",
    "               \n",
    "                break\n",
    "        else:\n",
    "            print(i,\"is a prime number\")\n",
    "            count+=1\n",
    "   \n"
   ]
  },
  {
   "cell_type": "code",
   "execution_count": 77,
   "id": "07a4596b",
   "metadata": {},
   "outputs": [
    {
     "name": "stdout",
     "output_type": "stream",
     "text": [
      "12 ,10 ,8 ,6 ,4 ,1 ,"
     ]
    }
   ],
   "source": [
    "#Print the elements of a list in reverse order using a while loop.\n",
    "a=[1,4,6,8,10,12]\n",
    "b=len(a)-1\n",
    "while b>=0:\n",
    "    print(a[b],\",\",end='')\n",
    "    b-=1"
   ]
  },
  {
   "cell_type": "code",
   "execution_count": 78,
   "id": "10d1bcbe",
   "metadata": {},
   "outputs": [
    {
     "name": "stdout",
     "output_type": "stream",
     "text": [
      "2 ^ 1 = 2\n",
      "2 ^ 2 = 4\n",
      "2 ^ 3 = 8\n",
      "2 ^ 4 = 16\n",
      "2 ^ 5 = 32\n",
      "2 ^ 6 = 64\n",
      "2 ^ 7 = 128\n",
      "2 ^ 8 = 256\n",
      "2 ^ 9 = 512\n",
      "2 ^ 10 = 1024\n"
     ]
    }
   ],
   "source": [
    "#Calculate and print the power of a given number using a for loop. \n",
    "\n",
    "a=int(input(\"enter the number\"))\n",
    "\n",
    "for i in range(1,11):\n",
    "    sum=a**i\n",
    "\n",
    "    print(a,\"^\",i,\"=\",sum)"
   ]
  },
  {
   "cell_type": "code",
   "execution_count": 83,
   "id": "c94db050",
   "metadata": {},
   "outputs": [
    {
     "name": "stdout",
     "output_type": "stream",
     "text": [
      "not a palindrome\n"
     ]
    }
   ],
   "source": [
    "# 24.Check if a given string is a palindrome using a while loop. \n",
    "\n",
    "a = input(\"enter the string\")\n",
    "b= len(a)-1\n",
    "c=\"\"\n",
    "while b>=0:\n",
    "    c+= a[b]\n",
    "    b-=1\n",
    "if c==a:\n",
    "    print('palamdrome')\n",
    "else:\n",
    "    print('not a palindrome')"
   ]
  },
  {
   "cell_type": "code",
   "execution_count": null,
   "id": "ea7f7b2f",
   "metadata": {},
   "outputs": [
    {
     "name": "stdout",
     "output_type": "stream",
     "text": [
      "     \n",
      "    *\n",
      "   ***\n",
      "  *****\n",
      " *******\n"
     ]
    }
   ],
   "source": [
    "#25 Print a pattern of asterisks in the shape of a pyramid using nested loops. \n",
    "\n",
    "a=int(input(\"enter the number\"))\n",
    "\n",
    "for i in range(a):\n",
    "    for k in range(a-i):\n",
    "        print(\" \",end=\"\")\n",
    "    for j in range(i*2-1):\n",
    "        print(\"*\",end=\"\")\n",
    "    print()"
   ]
  },
  {
   "cell_type": "code",
   "execution_count": 4,
   "id": "5634998c",
   "metadata": {},
   "outputs": [
    {
     "name": "stdout",
     "output_type": "stream",
     "text": [
      "27\n"
     ]
    }
   ],
   "source": [
    "#26. Find and print the maximum element in a list using a for loop. \n",
    "\n",
    "a=[1,3,5,7,27,13,24]\n",
    "max_value = a[0]\n",
    "for i in a:\n",
    "    if i > max_value:\n",
    "        max_value = i\n",
    "print(max_value)"
   ]
  },
  {
   "cell_type": "code",
   "execution_count": 1,
   "id": "ad4e6c0d",
   "metadata": {},
   "outputs": [
    {
     "name": "stdout",
     "output_type": "stream",
     "text": [
      "6\n"
     ]
    }
   ],
   "source": [
    "#27. Calculate and print the factorial of each number from 1 to 10 using a for loop. \n",
    "for i in range(1,4):\n",
    "    fact = 1\n",
    "    for j in range(1,i+1):\n",
    "        fact = fact* j\n",
    "print(fact)\n"
   ]
  },
  {
   "cell_type": "code",
   "execution_count": 11,
   "id": "11f201a0",
   "metadata": {},
   "outputs": [
    {
     "name": "stdout",
     "output_type": "stream",
     "text": [
      "143 is not an armstrong number\n"
     ]
    }
   ],
   "source": [
    "# 28. Check if a given number is Armstrong using a while loop. \n",
    "\n",
    "n= int(input(\"print the number\"))\n",
    "sum=0\n",
    "temp = n \n",
    "while temp >0:\n",
    "    digit = temp%10\n",
    "    sum += digit**3\n",
    "    temp //=10\n",
    "if sum==n:\n",
    "    print(n,\"is an armstrong number\")\n",
    "else:\n",
    "    print(n,\"is not an armstrong number\")\n",
    "\n"
   ]
  },
  {
   "cell_type": "code",
   "execution_count": 2,
   "id": "d9029c0f",
   "metadata": {},
   "outputs": [
    {
     "name": "stdout",
     "output_type": "stream",
     "text": [
      "2 5 "
     ]
    }
   ],
   "source": [
    "#29. Print the prime factors of a given number using a for loop.\n",
    "\n",
    "n = int(input(\"enter the number\")) \n",
    "for i in range(2, n + 1):\n",
    "    while n % i == 0:\n",
    "        print(i, end=' ')\n",
    "        n //= i\n",
    "        "
   ]
  },
  {
   "cell_type": "code",
   "execution_count": 15,
   "id": "e89899a5",
   "metadata": {},
   "outputs": [
    {
     "name": "stdout",
     "output_type": "stream",
     "text": [
      "sum of even numbers between 1 to 50 is  600\n"
     ]
    }
   ],
   "source": [
    "#30. Calculate and print the sum of all even numbers between 1 and 50 using a while loop. \n",
    "\n",
    "sum=0\n",
    "n=1\n",
    "while n<50:\n",
    "    if n%2==0:\n",
    "        sum+=n\n",
    "        n+=1\n",
    "    else:\n",
    "        n+=1\n",
    "print(\"sum of even numbers between 1 to 50 is \", sum)"
   ]
  },
  {
   "cell_type": "code",
   "execution_count": 1,
   "id": "7865090a",
   "metadata": {},
   "outputs": [
    {
     "name": "stdout",
     "output_type": "stream",
     "text": [
      "1 * 1 = 1\n",
      "1 * 2 = 2\n",
      "1 * 3 = 3\n",
      "1 * 4 = 4\n",
      "1 * 5 = 5\n",
      "1 * 6 = 6\n",
      "1 * 7 = 7\n",
      "1 * 8 = 8\n",
      "1 * 9 = 9\n",
      "1 * 10 = 10\n",
      "\n",
      "2 * 1 = 2\n",
      "2 * 2 = 4\n",
      "2 * 3 = 6\n",
      "2 * 4 = 8\n",
      "2 * 5 = 10\n",
      "2 * 6 = 12\n",
      "2 * 7 = 14\n",
      "2 * 8 = 16\n",
      "2 * 9 = 18\n",
      "2 * 10 = 20\n",
      "\n",
      "3 * 1 = 3\n",
      "3 * 2 = 6\n",
      "3 * 3 = 9\n",
      "3 * 4 = 12\n",
      "3 * 5 = 15\n",
      "3 * 6 = 18\n",
      "3 * 7 = 21\n",
      "3 * 8 = 24\n",
      "3 * 9 = 27\n",
      "3 * 10 = 30\n",
      "\n",
      "4 * 1 = 4\n",
      "4 * 2 = 8\n",
      "4 * 3 = 12\n",
      "4 * 4 = 16\n",
      "4 * 5 = 20\n",
      "4 * 6 = 24\n",
      "4 * 7 = 28\n",
      "4 * 8 = 32\n",
      "4 * 9 = 36\n",
      "4 * 10 = 40\n",
      "\n",
      "5 * 1 = 5\n",
      "5 * 2 = 10\n",
      "5 * 3 = 15\n",
      "5 * 4 = 20\n",
      "5 * 5 = 25\n",
      "5 * 6 = 30\n",
      "5 * 7 = 35\n",
      "5 * 8 = 40\n",
      "5 * 9 = 45\n",
      "5 * 10 = 50\n",
      "\n"
     ]
    }
   ],
   "source": [
    "#31. Print the multiplication table of each number from 1 to 5 using nested loops.\n",
    "\n",
    "for i in range(1,6):\n",
    "    for j in range(1,11):\n",
    "        print(i,\"*\",j,\"=\",i*j)\n",
    "    print()"
   ]
  },
  {
   "cell_type": "code",
   "execution_count": 3,
   "id": "4a122f62",
   "metadata": {},
   "outputs": [
    {
     "name": "stdout",
     "output_type": "stream",
     "text": [
      "number of characters in 'hellow'is 6\n",
      "number of characters in 'world'is 5\n"
     ]
    }
   ],
   "source": [
    "#32. Print the number of characters in each word of a given sentence using nested loops.\n",
    "a=\"hellow world\"\n",
    "for j in a.split():# split() splits the string into words\n",
    "    count =0   \n",
    "    for i in j:\n",
    "        count +=1\n",
    "    print(f\"number of characters in '{j}'is {count}\")\n",
    "\n"
   ]
  },
  {
   "cell_type": "code",
   "execution_count": 24,
   "id": "7effedc4",
   "metadata": {},
   "outputs": [
    {
     "name": "stdout",
     "output_type": "stream",
     "text": [
      "palendrom\n",
      "palendrom\n",
      "palendrom\n",
      "palendrom\n",
      "palendrom\n",
      "palendrom\n",
      "palendrom\n",
      "palendrom\n",
      "palendrom\n"
     ]
    }
   ],
   "source": [
    "#33. Check if a given string is a pangram using a for loop. \n",
    "a=\"naman\"\n",
    "for i in a[0:len(a):1]:\n",
    "    for j in a[len(a)::-1]:\n",
    "        if i==j:\n",
    "            print(\"palendrom\")"
   ]
  },
  {
   "cell_type": "code",
   "execution_count": 3,
   "id": "db494cf6",
   "metadata": {},
   "outputs": [
    {
     "name": "stdout",
     "output_type": "stream",
     "text": [
      "1234"
     ]
    }
   ],
   "source": [
    "#34. Print the common elements between two lists using a for loop.\n",
    "\n",
    "list1=[1,2,3,4,5,6]\n",
    "list2=[1,2,3,4,7,8]\n",
    "\n",
    "a=[]\n",
    "for i in list1:\n",
    "    if i in list2:\n",
    "        a.append(i) # append is use to add elements to a list\n",
    "        print(i,end=\"\")\n"
   ]
  },
  {
   "cell_type": "code",
   "execution_count": 6,
   "id": "876cec95",
   "metadata": {},
   "outputs": [
    {
     "name": "stdout",
     "output_type": "stream",
     "text": [
      "sum of digits of 11 is 2\n",
      "sum of digits of 12 is 3\n",
      "sum of digits of 13 is 4\n",
      "sum of digits of 14 is 5\n",
      "sum of digits of 15 is 6\n",
      "sum of digits of 16 is 7\n",
      "sum of digits of 17 is 8\n",
      "sum of digits of 18 is 9\n",
      "sum of digits of 19 is 10\n",
      "sum of digits of 20 is 2\n"
     ]
    }
   ],
   "source": [
    "#35. Calculate and print the sum of the digits of each number from 1 to 10 using a for loop.\n",
    "\n",
    "for i in range(11,21):\n",
    "    n=i\n",
    "    sum=0\n",
    "    while n>0:\n",
    "        a=n%10\n",
    "        sum+=a\n",
    "        n=n//10\n",
    "    print(f\"sum of digits of {i} is {sum}\") "
   ]
  },
  {
   "cell_type": "code",
   "execution_count": 9,
   "id": "befaec6e",
   "metadata": {},
   "outputs": [
    {
     "name": "stdout",
     "output_type": "stream",
     "text": [
      "19\n",
      "17\n",
      "15\n",
      "13\n",
      "11\n",
      "9\n",
      "7\n",
      "5\n",
      "3\n",
      "1\n"
     ]
    }
   ],
   "source": [
    "#36. Print the odd numbers in reverse order from 20 to 1 using a while loop. \n",
    "\n",
    "n=20\n",
    "while n>=1:\n",
    "    if n%2!=0:\n",
    "        print(n)\n",
    "        n-=1\n",
    "    else:\n",
    "        n-=1"
   ]
  },
  {
   "cell_type": "code",
   "execution_count": 12,
   "id": "bf340b92",
   "metadata": {},
   "outputs": [],
   "source": [
    "#37. Check if a given number is a perfect number using a for loop. \n",
    "n = int(input(\"enter the number\"))\n",
    "sum=0\n",
    "for i in range(1,n):\n",
    "    if n%i==0:\n",
    "        sum +=i\n",
    "        if sum==n:\n",
    "            print(n,\"is a perfect number\")\n",
    "            break"
   ]
  },
  {
   "cell_type": "code",
   "execution_count": 13,
   "id": "c2d306b1",
   "metadata": {},
   "outputs": [
    {
     "name": "stdout",
     "output_type": "stream",
     "text": [
      "1 * 1 * 1\n",
      "1 * 2 * 2\n",
      "1 * 3 * 3\n",
      "1 * 4 * 4\n",
      "1 * 5 * 5\n",
      "1 * 6 * 6\n",
      "1 * 7 * 7\n",
      "1 * 8 * 8\n",
      "1 * 9 * 9\n",
      "1 * 10 * 10\n",
      "\n",
      "2 * 1 * 2\n",
      "2 * 2 * 4\n",
      "2 * 3 * 6\n",
      "2 * 4 * 8\n",
      "2 * 5 * 10\n",
      "2 * 6 * 12\n",
      "2 * 7 * 14\n",
      "2 * 8 * 16\n",
      "2 * 9 * 18\n",
      "2 * 10 * 20\n",
      "\n",
      "3 * 1 * 3\n",
      "3 * 2 * 6\n",
      "3 * 3 * 9\n",
      "3 * 4 * 12\n",
      "3 * 5 * 15\n",
      "3 * 6 * 18\n",
      "3 * 7 * 21\n",
      "3 * 8 * 24\n",
      "3 * 9 * 27\n",
      "3 * 10 * 30\n",
      "\n",
      "4 * 1 * 4\n",
      "4 * 2 * 8\n",
      "4 * 3 * 12\n",
      "4 * 4 * 16\n",
      "4 * 5 * 20\n",
      "4 * 6 * 24\n",
      "4 * 7 * 28\n",
      "4 * 8 * 32\n",
      "4 * 9 * 36\n",
      "4 * 10 * 40\n",
      "\n",
      "5 * 1 * 5\n",
      "5 * 2 * 10\n",
      "5 * 3 * 15\n",
      "5 * 4 * 20\n",
      "5 * 5 * 25\n",
      "5 * 6 * 30\n",
      "5 * 7 * 35\n",
      "5 * 8 * 40\n",
      "5 * 9 * 45\n",
      "5 * 10 * 50\n",
      "\n",
      "6 * 1 * 6\n",
      "6 * 2 * 12\n",
      "6 * 3 * 18\n",
      "6 * 4 * 24\n",
      "6 * 5 * 30\n",
      "6 * 6 * 36\n",
      "6 * 7 * 42\n",
      "6 * 8 * 48\n",
      "6 * 9 * 54\n",
      "6 * 10 * 60\n",
      "\n",
      "7 * 1 * 7\n",
      "7 * 2 * 14\n",
      "7 * 3 * 21\n",
      "7 * 4 * 28\n",
      "7 * 5 * 35\n",
      "7 * 6 * 42\n",
      "7 * 7 * 49\n",
      "7 * 8 * 56\n",
      "7 * 9 * 63\n",
      "7 * 10 * 70\n",
      "\n",
      "8 * 1 * 8\n",
      "8 * 2 * 16\n",
      "8 * 3 * 24\n",
      "8 * 4 * 32\n",
      "8 * 5 * 40\n",
      "8 * 6 * 48\n",
      "8 * 7 * 56\n",
      "8 * 8 * 64\n",
      "8 * 9 * 72\n",
      "8 * 10 * 80\n",
      "\n",
      "9 * 1 * 9\n",
      "9 * 2 * 18\n",
      "9 * 3 * 27\n",
      "9 * 4 * 36\n",
      "9 * 5 * 45\n",
      "9 * 6 * 54\n",
      "9 * 7 * 63\n",
      "9 * 8 * 72\n",
      "9 * 9 * 81\n",
      "9 * 10 * 90\n",
      "\n",
      "10 * 1 * 10\n",
      "10 * 2 * 20\n",
      "10 * 3 * 30\n",
      "10 * 4 * 40\n",
      "10 * 5 * 50\n",
      "10 * 6 * 60\n",
      "10 * 7 * 70\n",
      "10 * 8 * 80\n",
      "10 * 9 * 90\n",
      "10 * 10 * 100\n",
      "\n"
     ]
    }
   ],
   "source": [
    "#38. Generate and print a multiplication table for numbers 1 to 10 using nested loops.\n",
    "\n",
    "for i in range(1,11):\n",
    "    for j in range(1,11):\n",
    "        print(i,\"*\",j,\"*\",i*j)\n",
    "    print()"
   ]
  },
  {
   "cell_type": "code",
   "execution_count": 14,
   "id": "e0d3d696",
   "metadata": {},
   "outputs": [
    {
     "name": "stdout",
     "output_type": "stream",
     "text": [
      "AbCdEfGhIjKlMnOpQrStUvWxYz"
     ]
    }
   ],
   "source": [
    "#39. Print the uppercase and lowercase letters of the alphabet alternately using nested loops. \n",
    "\n",
    "a=\"abcdefghijklmnopqrstuvwxyz\"\n",
    "\n",
    "for i in range(len(a)):\n",
    "    if i%2==0:\n",
    "        print(a[i].upper(),end='')\n",
    "    else:\n",
    "        print(a[i].lower(),end=\"\")\n",
    "        "
   ]
  },
  {
   "cell_type": "code",
   "execution_count": 6,
   "id": "1f697b0a",
   "metadata": {},
   "outputs": [
    {
     "name": "stdout",
     "output_type": "stream",
     "text": [
      "gcd is 12\n"
     ]
    }
   ],
   "source": [
    "#40. Calculate and print the GCD (Greatest Common Divisor) of two numbers using a while loop. \n",
    "\n",
    "a= int(input(\"enter the first number\"))\n",
    "b= int(input(\"enter the second number\"))\n",
    "while b!=0:\n",
    "    a,b =b,a%b\n",
    "print(\"gcd is\",a)\n",
    "\n"
   ]
  },
  {
   "cell_type": "code",
   "execution_count": 8,
   "id": "2cd11784",
   "metadata": {},
   "outputs": [
    {
     "name": "stdout",
     "output_type": "stream",
     "text": [
      "A\n",
      "AB\n",
      "ABC\n",
      "ABCD\n",
      "ABCDE\n"
     ]
    }
   ],
   "source": [
    "#41. Print a pattern of alphabets from A to E using nested loops. \n",
    "\n",
    "for i in range(65,70):\n",
    "    for j in range(65,i+1):\n",
    "        print(chr(j), end='')\n",
    "    print()"
   ]
  },
  {
   "cell_type": "code",
   "execution_count": 10,
   "id": "95656f5b",
   "metadata": {},
   "outputs": [
    {
     "name": "stdout",
     "output_type": "stream",
     "text": [
      "2\n"
     ]
    }
   ],
   "source": [
    "#42. Find and print the minimum element in a list using a for loop. \n",
    "a=[3,6,8,4,5,2]\n",
    "\n",
    "min_value = a[0]\n",
    "for i in a:\n",
    "    if i< min_value:\n",
    "        min_value= i\n",
    "print(min_value)\n"
   ]
  },
  {
   "cell_type": "code",
   "execution_count": 11,
   "id": "d6aeddb1",
   "metadata": {},
   "outputs": [
    {
     "name": "stdout",
     "output_type": "stream",
     "text": [
      "625\n"
     ]
    }
   ],
   "source": [
    "#43. Calculate and print the sum of all odd numbers between 1 and 50 using a for loop. \n",
    "\n",
    "sum=0\n",
    "for i in range(1,51):\n",
    "    if i%2!=0:\n",
    "        sum+=i\n",
    "print(sum)"
   ]
  },
  {
   "cell_type": "code",
   "execution_count": null,
   "id": "ec6ad78c",
   "metadata": {},
   "outputs": [],
   "source": [
    "#44. Check if a given string is a palindrome ignoring spaces and case sensitivity using a while loop. \n",
    "a = input(\"enter the string\").replace(\" \", \"\").lower()  # Remove spaces and convert to lowercase\n",
    "b=0\n",
    "c= len(a)-1\n",
    "is_palindrome= True\n",
    "while b<c:\n",
    "    if a[b] != a[c]:\n",
    "        is_palindrome = False\n",
    "        break\n",
    "    b += 1\n",
    "    c -= 1\n",
    "if is_palindrome:\n",
    "    print(\"The string is a palindrome.\")\n",
    "else:\n",
    "    print(\"The string is not a palindrome.\")"
   ]
  },
  {
   "cell_type": "code",
   "execution_count": 33,
   "id": "9b4e684b",
   "metadata": {},
   "outputs": [
    {
     "name": "stdout",
     "output_type": "stream",
     "text": [
      "2 is a prime number\n",
      "3 is a prime number\n",
      "5 is a prime number\n",
      "7 is a prime number\n",
      "11 is a prime number\n",
      "13 is a prime number\n",
      "17 is a prime number\n",
      "19 is a prime number\n",
      "23 is a prime number\n",
      "29 is a prime number\n",
      "31 is a prime number\n",
      "37 is a prime number\n",
      "41 is a prime number\n",
      "43 is a prime number\n",
      "47 is a prime number\n",
      "53 is a prime number\n",
      "59 is a prime number\n",
      "61 is a prime number\n",
      "67 is a prime number\n",
      "71 is a prime number\n",
      "73 is a prime number\n",
      "79 is a prime number\n",
      "83 is a prime number\n",
      "89 is a prime number\n",
      "97 is a prime number\n"
     ]
    }
   ],
   "source": [
    "\n",
    "#47. Print the prime numbers between 1 and 100 using a for loop. \n",
    "for i in range(2,101):\n",
    "    if num>1:\n",
    "        for j in range(2,i):\n",
    "            if i % j == 0:\n",
    "             \n",
    "                break\n",
    "        else:\n",
    "            print(i,\"is a prime number\")\n"
   ]
  },
  {
   "cell_type": "code",
   "execution_count": 26,
   "id": "eed0ba1c",
   "metadata": {},
   "outputs": [
    {
     "name": "stdout",
     "output_type": "stream",
     "text": [
      "10 9 8 7 6 5 4 3 2 1 "
     ]
    }
   ],
   "source": [
    "#45. Print the numbers from 1 to 10 in reverse order using a for loop.\n",
    "\n",
    "for i in range(10,0,-1):\n",
    "    print(i, end=\" \")"
   ]
  },
  {
   "cell_type": "code",
   "execution_count": 2,
   "id": "5819ba9a",
   "metadata": {},
   "outputs": [
    {
     "name": "stdout",
     "output_type": "stream",
     "text": [
      "LCM is 35\n"
     ]
    }
   ],
   "source": [
    "#46. Calculate and print the LCM (Least Common Multiple) of two numbers using a while loop. \n",
    "a = int(input(\"enter the first number\"))\n",
    "b = int(input(\"enter the second number\"))\n",
    "lcm = max(a, b)\n",
    "while True:\n",
    "    if lcm % a == 0 and lcm % b == 0:\n",
    "        print(\"LCM is\", lcm)\n",
    "        break\n",
    "    lcm += 1"
   ]
  },
  {
   "cell_type": "code",
   "execution_count": 4,
   "id": "c1ffa65b",
   "metadata": {},
   "outputs": [
    {
     "name": "stdout",
     "output_type": "stream",
     "text": [
      "9 is a perfect squere\n"
     ]
    }
   ],
   "source": [
    "#48. Check if a given number is a perfect square using a while loop. \n",
    "\n",
    "a=9\n",
    "b=0\n",
    "while b*b<a:\n",
    "    b+=1\n",
    "    if b*b==a:\n",
    "        print(a, \"is a perfect squere\")\n",
    "        break\n",
    "else:\n",
    "        print('not a perfrect square')"
   ]
  },
  {
   "cell_type": "code",
   "execution_count": 5,
   "id": "fad71d2c",
   "metadata": {},
   "outputs": [
    {
     "name": "stdout",
     "output_type": "stream",
     "text": [
      "1\n",
      "2\n",
      "3\n",
      "4\n",
      "5\n",
      "6\n",
      "7\n",
      "8\n",
      "9\n"
     ]
    }
   ],
   "source": [
    "#49. Print the elements of a nested list using nested loops. \n",
    "\n",
    "a=[[1, 2, 3], [4, 5, 6], [7, 8, 9]]\n",
    "\n",
    "for i in a:\n",
    "    for j in i:\n",
    "        print(j) \n",
    "\n"
   ]
  },
  {
   "cell_type": "code",
   "execution_count": 14,
   "id": "bbcb774b",
   "metadata": {},
   "outputs": [
    {
     "name": "stdout",
     "output_type": "stream",
     "text": [
      "36\n"
     ]
    }
   ],
   "source": [
    "#50. Calculate and print the sum of all digits in a given sentence using a for loop.\n",
    "a=\"12345678\"\n",
    "\n",
    "sum=0\n",
    "for i in a:\n",
    "    b= int(i)\n",
    "    sum+=b\n",
    "print(sum)\n"
   ]
  },
  {
   "cell_type": "code",
   "execution_count": null,
   "id": "d64370c5",
   "metadata": {},
   "outputs": [
    {
     "data": {
      "text/plain": [
       "24"
      ]
     },
     "execution_count": 2,
     "metadata": {},
     "output_type": "execute_result"
    }
   ],
   "source": [
    "\n",
    "\n",
    "\n"
   ]
  },
  {
   "cell_type": "code",
   "execution_count": 5,
   "id": "73d301ba",
   "metadata": {},
   "outputs": [
    {
     "name": "stdout",
     "output_type": "stream",
     "text": [
      "palendrom\n"
     ]
    }
   ],
   "source": [
    "#7. Write a function to check if a string is a palindrome.\n",
    " \n",
    "def palindrome(a):\n",
    "    b=a[-1::-1]\n",
    "\n",
    "    if a==b:\n",
    "        print(\"palendrom\")\n",
    "    else:\n",
    "        print (\"not palendrom\")\n",
    "palindrome(\"naman\")"
   ]
  },
  {
   "cell_type": "code",
   "execution_count": null,
   "id": "c8ba1232",
   "metadata": {},
   "outputs": [],
   "source": [
    "#8. Create a function that generates a list of Fibonacci numbers.\n",
    "\n",
    "def fibonacci(a):\n",
    "    "
   ]
  }
 ],
 "metadata": {
  "kernelspec": {
   "display_name": "Python 3",
   "language": "python",
   "name": "python3"
  },
  "language_info": {
   "codemirror_mode": {
    "name": "ipython",
    "version": 3
   },
   "file_extension": ".py",
   "mimetype": "text/x-python",
   "name": "python",
   "nbconvert_exporter": "python",
   "pygments_lexer": "ipython3",
   "version": "3.13.5"
  }
 },
 "nbformat": 4,
 "nbformat_minor": 5
}
