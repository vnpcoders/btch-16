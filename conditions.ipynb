{
 "cells": [
  {
   "cell_type": "code",
   "execution_count": null,
   "id": "b2c11d32",
   "metadata": {},
   "outputs": [],
   "source": [
    "a=int(input(\"enter the value\"))\n",
    "b=int(input(\"enter the value\"))\n",
    "print(\"the value is\",a)\n",
    "print(\"the value is\",a)\n",
    "add = a+b\n",
    "print(\"the sum is\" + add )\n"
   ]
  },
  {
   "cell_type": "code",
   "execution_count": null,
   "id": "1ac5c065",
   "metadata": {},
   "outputs": [],
   "source": [
    "a = int(input())\n",
    "\n",
    "if a%2==0:\n",
    "    print(\"even\")\n",
    "else:\n",
    "    print(\"odd\")\n",
    "    "
   ]
  },
  {
   "cell_type": "code",
   "execution_count": null,
   "id": "1b8f6093",
   "metadata": {},
   "outputs": [],
   "source": [
    "a = int(input())\n",
    "\n",
    "if a<=18 and a>=100:\n",
    "    print(\"even\")\n",
    "else:\n",
    "    print(\"odd\")"
   ]
  },
  {
   "cell_type": "code",
   "execution_count": null,
   "id": "7289233f",
   "metadata": {},
   "outputs": [],
   "source": [
    "a= int(input(\"Enter a number:\"))\n",
    "\n",
    "if (a%4==0 and a%100!=0) or (a%400==0):\n",
    "    print(\"leap year\")\n",
    "else:\n",
    "    print(\"not a leap year\")\n"
   ]
  },
  {
   "cell_type": "code",
   "execution_count": null,
   "id": "932b884b",
   "metadata": {},
   "outputs": [],
   "source": [
    "a= int(input(\"Enter a number:\"))\n",
    "\n",
    "if a<33:\n",
    "    print(\"feil\")\n",
    "elif a>33 and a<60:\n",
    "      print(\"C\")\n",
    "elif a>60 and a<80:\n",
    "     print(\"B\")\n",
    "elif a>80 and a<100:\n",
    "     print(\"A\")\n",
    "else:\n",
    "     print(\"not considert enter vaalid number\")\n"
   ]
  },
  {
   "cell_type": "code",
   "execution_count": null,
   "id": "f2d81a77",
   "metadata": {},
   "outputs": [],
   "source": [
    "a= int(input(\"Enter a number:\"))\n",
    "\n",
    "if a==1:\n",
    "    print(\"monday\")\n",
    "elif a==2:\n",
    "      print(\"tusday\")\n",
    "elif a==3:\n",
    "     print(\"wednesday\")\n",
    "elif a==4:\n",
    "     print(\"thursday\")\n",
    "elif a==5:\n",
    "     print(\"friday\")\n",
    "elif a==6:\n",
    "     print(\"saterday\")\n",
    "elif a==7:\n",
    "     print(\"sunday\")\n",
    "else:\n",
    "     print(\"not a valid number\")\n"
   ]
  },
  {
   "cell_type": "code",
   "execution_count": null,
   "id": "e73e4ac0",
   "metadata": {},
   "outputs": [],
   "source": [
    "a = int(input(\"enter a unit:\"))\n",
    "\n",
    "if a<=100:\n",
    "    print(\"no charges\")\n",
    "elif a>100 and a<=200:\n",
    "    sum= a-100\n",
    "    sum= sum*5\n",
    "\n",
    "    print(\"your bill is:\" + sum)\n",
    "else:\n",
    "    sum= a-200\n",
    "    sum= sum*10\n",
    "    sum = sum +500\n",
    "    print(\"your bill is :\" + sum)"
   ]
  },
  {
   "cell_type": "code",
   "execution_count": null,
   "id": "61fac10f",
   "metadata": {},
   "outputs": [],
   "source": [
    "a = int (input (\"enter a number\"))\n",
    "b = int (input (\"enter a number\"))\n",
    "if a%5==0 and b%5==0:\n",
    "    print(\"it is multial of 5\")\n",
    "else :\n",
    "    print('it is not a multipal of 5')"
   ]
  },
  {
   "cell_type": "code",
   "execution_count": 1,
   "id": "a343fe36",
   "metadata": {},
   "outputs": [
    {
     "name": "stdout",
     "output_type": "stream",
     "text": [
      "gren light\n"
     ]
    }
   ],
   "source": [
    "a=int (input(\"enter the signal light number\"))\n",
    "\n",
    "if a==1:\n",
    "    print(\"red light\")\n",
    "elif a==2:\n",
    "    print(\"yellow light\")\n",
    "elif a==3:\n",
    "    print(\"gren light\")\n",
    "else:\n",
    "    print(\"not a valid number\")\n"
   ]
  },
  {
   "cell_type": "code",
   "execution_count": 3,
   "id": "dbd1ef75",
   "metadata": {},
   "outputs": [
    {
     "name": "stdout",
     "output_type": "stream",
     "text": [
      "the sum of digits is 6\n"
     ]
    }
   ],
   "source": [
    "num= int(input(\"enter a number:\"))\n",
    "a= num//100\n",
    "b=(num//10)%10\n",
    "c=num%10\n",
    "sum=a+b+c\n",
    "print(\"the sum of digits is\", sum)\n"
   ]
  },
  {
   "cell_type": "code",
   "execution_count": 1,
   "id": "8165307f",
   "metadata": {},
   "outputs": [
    {
     "name": "stdout",
     "output_type": "stream",
     "text": [
      "1\n"
     ]
    }
   ],
   "source": [
    "h={\"a\":1}\n",
    "print(h[\"a\"])"
   ]
  },
  {
   "cell_type": "code",
   "execution_count": 4,
   "id": "79f48daf",
   "metadata": {},
   "outputs": [
    {
     "name": "stdout",
     "output_type": "stream",
     "text": [
      "the last dicgit is divisble by 3\n"
     ]
    }
   ],
   "source": [
    "a = int(input(\"enter a nuimber \"))\n",
    "\n",
    "b= a%10\n",
    "if b%3==0:\n",
    "    print(\"the last dicgit is divisble by 3\")\n",
    "else:\n",
    "    print (\"it is not divisble by 3\")\n",
    "\n"
   ]
  },
  {
   "cell_type": "code",
   "execution_count": null,
   "id": "8a474f94",
   "metadata": {},
   "outputs": [],
   "source": [
    "a = int(input(\"enter the number\"))\n",
    "\n",
    "if a==1:\n",
    "    b= int (input (\"enter the number\"))\n",
    "    if a=="
   ]
  },
  {
   "cell_type": "code",
   "execution_count": null,
   "id": "d929a4c1",
   "metadata": {},
   "outputs": [
    {
     "name": "stdout",
     "output_type": "stream",
     "text": [
      "not a leap year\n"
     ]
    }
   ],
   "source": [
    "# nested condition\n",
    "\n",
    "a= int (input(\"enter the year\"))\n",
    "\n",
    "if(a%4==0 ):\n",
    "    if(a%100==0):\n",
    "        if(a%400==0):\n",
    "            print(\"leap year\")\n",
    "        else:\n",
    "            print(\"not a leap year\")\n",
    "    else:\n",
    "        print(\"leap year\")\n",
    "else:\n",
    "    print(\"not a leap year\")\n",
    "\n"
   ]
  },
  {
   "cell_type": "code",
   "execution_count": 3,
   "id": "e441f09d",
   "metadata": {},
   "outputs": [
    {
     "name": "stdout",
     "output_type": "stream",
     "text": [
      "b\n"
     ]
    }
   ],
   "source": [
    "a =int(input(\"enter the persentage\"))\n",
    "if a<90:\n",
    "    if a<60:\n",
    "        if a <40:\n",
    "            if a<33:\n",
    "                print(\"fail\")\n",
    "            else:\n",
    "                print(\"c\")\n",
    "        else:\n",
    "            print(\"pass\")\n",
    "    else:\n",
    "        print(\"b\")\n",
    "else:\n",
    "    print(\"a\")        "
   ]
  },
  {
   "cell_type": "code",
   "execution_count": null,
   "id": "f0dafc55",
   "metadata": {},
   "outputs": [],
   "source": []
  }
 ],
 "metadata": {
  "kernelspec": {
   "display_name": "Python 3",
   "language": "python",
   "name": "python3"
  },
  "language_info": {
   "codemirror_mode": {
    "name": "ipython",
    "version": 3
   },
   "file_extension": ".py",
   "mimetype": "text/x-python",
   "name": "python",
   "nbconvert_exporter": "python",
   "pygments_lexer": "ipython3",
   "version": "3.13.2"
  }
 },
 "nbformat": 4,
 "nbformat_minor": 5
}
