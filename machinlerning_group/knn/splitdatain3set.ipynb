{
 "cells": [
  {
   "cell_type": "code",
   "execution_count": null,
   "id": "f1330aca",
   "metadata": {},
   "outputs": [],
   "source": []
  },
  {
   "cell_type": "code",
   "execution_count": 2,
   "id": "75664135",
   "metadata": {},
   "outputs": [],
   "source": [
    "import warnings\n",
    "warnings.filterwarnings(\"ignore\")\n",
    "import pandas as pd \n",
    "import numpy as np\n",
    "import matplotlib.pyplot as plt\n",
    "import seaborn as sns"
   ]
  },
  {
   "cell_type": "code",
   "execution_count": 3,
   "id": "71bd92e2",
   "metadata": {},
   "outputs": [
    {
     "name": "stdout",
     "output_type": "stream",
     "text": [
      "{'uci_id': 31, 'name': 'Covertype', 'repository_url': 'https://archive.ics.uci.edu/dataset/31/covertype', 'data_url': 'https://archive.ics.uci.edu/static/public/31/data.csv', 'abstract': 'Classification of pixels into 7 forest cover types based on attributes such as elevation, aspect, slope, hillshade, soil-type, and more.', 'area': 'Biology', 'tasks': ['Classification'], 'characteristics': ['Multivariate'], 'num_instances': 581012, 'num_features': 54, 'feature_types': ['Categorical', 'Integer'], 'demographics': [], 'target_col': ['Cover_Type'], 'index_col': None, 'has_missing_values': 'no', 'missing_values_symbol': None, 'year_of_dataset_creation': 1998, 'last_updated': 'Sat Mar 16 2024', 'dataset_doi': '10.24432/C50K5N', 'creators': ['Jock Blackard'], 'intro_paper': None, 'additional_info': {'summary': 'Predicting forest cover type from cartographic variables only (no remotely sensed data).  The actual forest cover type for a given observation (30 x 30 meter cell) was determined from US Forest Service (USFS) Region 2 Resource Information System (RIS) data.  Independent variables were derived from data originally obtained from US Geological Survey (USGS) and USFS data.  Data is in raw form (not scaled) and contains binary (0 or 1) columns of data for qualitative independent variables (wilderness areas and soil types).\\r\\n\\r\\nThis study area includes four wilderness areas located in the Roosevelt National Forest of northern Colorado.  These areas represent forests with minimal human-caused disturbances, so that existing forest cover types are more a result of ecological processes rather than forest management practices.\\r\\n\\r\\nSome background information for these four wilderness areas: Neota (area 2) probably has the highest mean elevational value of the 4 wilderness areas. Rawah (area 1) and Comanche Peak (area 3) would have a lower mean elevational value, while Cache la Poudre (area 4) would have the lowest mean elevational value. \\r\\n\\r\\nAs for primary major tree species in these areas, Neota would have spruce/fir (type 1), while Rawah and Comanche Peak would probably have lodgepole pine (type 2) as their primary species, followed by spruce/fir and aspen (type 5). Cache la Poudre would tend to have Ponderosa pine (type 3), Douglas-fir (type 6), and cottonwood/willow (type 4).  \\r\\n\\r\\nThe Rawah and Comanche Peak areas would tend to be more typical of the overall dataset than either the Neota or Cache la Poudre, due to their assortment of tree species and range of predictive variable values (elevation, etc.)  Cache la Poudre would probably  be more unique than the others, due to its relatively low  elevation range and species composition. ', 'purpose': None, 'funded_by': None, 'instances_represent': None, 'recommended_data_splits': None, 'sensitive_data': None, 'preprocessing_description': None, 'variable_info': 'Given is the attribute name, attribute type, the measurement unit and a brief description.  The forest cover type is the classification  problem.  The order of this listing corresponds to the order of numerals along the rows of the database.\\r\\n\\r\\nName / Data Type / Measurement / Description\\r\\n\\r\\nElevation / quantitative /meters / Elevation in meters\\r\\nAspect / quantitative / azimuth / Aspect in degrees azimuth\\r\\nSlope / quantitative / degrees / Slope in degrees\\r\\nHorizontal_Distance_To_Hydrology / quantitative / meters / Horz Dist to nearest surface water features\\r\\nVertical_Distance_To_Hydrology / quantitative / meters / Vert Dist to nearest surface water features\\r\\nHorizontal_Distance_To_Roadways / quantitative / meters / Horz Dist to nearest roadway\\r\\nHillshade_9am / quantitative / 0 to 255 index / Hillshade index at 9am, summer solstice\\r\\nHillshade_Noon / quantitative / 0 to 255 index / Hillshade index at noon, summer soltice\\r\\nHillshade_3pm / quantitative / 0 to 255 index / Hillshade index at 3pm, summer solstice\\r\\nHorizontal_Distance_To_Fire_Points / quantitative / meters / Horz Dist to nearest wildfire ignition points\\r\\nWilderness_Area (4 binary columns) / qualitative / 0 (absence) or 1 (presence) / Wilderness area designation\\r\\nSoil_Type (40 binary columns) / qualitative / 0 (absence) or 1 (presence) / Soil Type designation\\r\\nCover_Type (7 types) / integer / 1 to 7 / Forest Cover Type designation', 'citation': None}}\n",
      "                                  name     role     type demographic  \\\n",
      "0                            Elevation  Feature  Integer        None   \n",
      "1                               Aspect  Feature  Integer        None   \n",
      "2                                Slope  Feature  Integer        None   \n",
      "3     Horizontal_Distance_To_Hydrology  Feature  Integer        None   \n",
      "4       Vertical_Distance_To_Hydrology  Feature  Integer        None   \n",
      "5      Horizontal_Distance_To_Roadways  Feature  Integer        None   \n",
      "6                        Hillshade_9am  Feature  Integer        None   \n",
      "7                       Hillshade_Noon  Feature  Integer        None   \n",
      "8                        Hillshade_3pm  Feature  Integer        None   \n",
      "9   Horizontal_Distance_To_Fire_Points  Feature  Integer        None   \n",
      "10                    Wilderness_Area1  Feature  Integer        None   \n",
      "11                          Soil_Type1  Feature  Integer        None   \n",
      "12                          Soil_Type2  Feature  Integer        None   \n",
      "13                          Soil_Type3  Feature  Integer        None   \n",
      "14                          Soil_Type4  Feature  Integer        None   \n",
      "15                          Soil_Type5  Feature  Integer        None   \n",
      "16                          Soil_Type6  Feature  Integer        None   \n",
      "17                          Soil_Type7  Feature  Integer        None   \n",
      "18                          Soil_Type8  Feature  Integer        None   \n",
      "19                          Soil_Type9  Feature  Integer        None   \n",
      "20                         Soil_Type10  Feature  Integer        None   \n",
      "21                         Soil_Type11  Feature  Integer        None   \n",
      "22                         Soil_Type12  Feature  Integer        None   \n",
      "23                         Soil_Type13  Feature  Integer        None   \n",
      "24                         Soil_Type14  Feature  Integer        None   \n",
      "25                         Soil_Type15  Feature  Integer        None   \n",
      "26                         Soil_Type16  Feature  Integer        None   \n",
      "27                         Soil_Type17  Feature  Integer        None   \n",
      "28                         Soil_Type18  Feature  Integer        None   \n",
      "29                         Soil_Type19  Feature  Integer        None   \n",
      "30                         Soil_Type20  Feature  Integer        None   \n",
      "31                         Soil_Type21  Feature  Integer        None   \n",
      "32                         Soil_Type22  Feature  Integer        None   \n",
      "33                         Soil_Type23  Feature  Integer        None   \n",
      "34                         Soil_Type24  Feature  Integer        None   \n",
      "35                         Soil_Type25  Feature  Integer        None   \n",
      "36                         Soil_Type26  Feature  Integer        None   \n",
      "37                         Soil_Type27  Feature  Integer        None   \n",
      "38                         Soil_Type28  Feature  Integer        None   \n",
      "39                         Soil_Type29  Feature  Integer        None   \n",
      "40                         Soil_Type30  Feature  Integer        None   \n",
      "41                         Soil_Type31  Feature  Integer        None   \n",
      "42                         Soil_Type32  Feature  Integer        None   \n",
      "43                         Soil_Type33  Feature  Integer        None   \n",
      "44                         Soil_Type34  Feature  Integer        None   \n",
      "45                         Soil_Type35  Feature  Integer        None   \n",
      "46                         Soil_Type36  Feature  Integer        None   \n",
      "47                         Soil_Type37  Feature  Integer        None   \n",
      "48                         Soil_Type38  Feature  Integer        None   \n",
      "49                         Soil_Type39  Feature  Integer        None   \n",
      "50                         Soil_Type40  Feature  Integer        None   \n",
      "51                          Cover_Type   Target  Integer        None   \n",
      "52                    Wilderness_Area2  Feature  Integer        None   \n",
      "53                    Wilderness_Area3  Feature  Integer        None   \n",
      "54                    Wilderness_Area4  Feature  Integer        None   \n",
      "\n",
      "   description units missing_values  \n",
      "0         None  None             no  \n",
      "1         None  None             no  \n",
      "2         None  None             no  \n",
      "3         None  None             no  \n",
      "4         None  None             no  \n",
      "5         None  None             no  \n",
      "6         None  None             no  \n",
      "7         None  None             no  \n",
      "8         None  None             no  \n",
      "9         None  None             no  \n",
      "10        None  None             no  \n",
      "11        None  None             no  \n",
      "12        None  None             no  \n",
      "13        None  None             no  \n",
      "14        None  None             no  \n",
      "15        None  None             no  \n",
      "16        None  None             no  \n",
      "17        None  None             no  \n",
      "18        None  None             no  \n",
      "19        None  None             no  \n",
      "20        None  None             no  \n",
      "21        None  None             no  \n",
      "22        None  None             no  \n",
      "23        None  None             no  \n",
      "24        None  None             no  \n",
      "25        None  None             no  \n",
      "26        None  None             no  \n",
      "27        None  None             no  \n",
      "28        None  None             no  \n",
      "29        None  None             no  \n",
      "30        None  None             no  \n",
      "31        None  None             no  \n",
      "32        None  None             no  \n",
      "33        None  None             no  \n",
      "34        None  None             no  \n",
      "35        None  None             no  \n",
      "36        None  None             no  \n",
      "37        None  None             no  \n",
      "38        None  None             no  \n",
      "39        None  None             no  \n",
      "40        None  None             no  \n",
      "41        None  None             no  \n",
      "42        None  None             no  \n",
      "43        None  None             no  \n",
      "44        None  None             no  \n",
      "45        None  None             no  \n",
      "46        None  None             no  \n",
      "47        None  None             no  \n",
      "48        None  None             no  \n",
      "49        None  None             no  \n",
      "50        None  None             no  \n",
      "51        None  None             no  \n",
      "52        None  None             no  \n",
      "53        None  None             no  \n",
      "54        None  None             no  \n"
     ]
    }
   ],
   "source": [
    "from ucimlrepo import fetch_ucirepo \n",
    "  \n",
    "# fetch dataset \n",
    "covertype = fetch_ucirepo(id=31) \n",
    "  \n",
    "# data (as pandas dataframes) \n",
    "X = covertype.data.features \n",
    "y = covertype.data.targets \n",
    "  \n",
    "# metadata \n",
    "print(covertype.metadata) \n",
    "  \n",
    "# variable information \n",
    "print(covertype.variables) \n"
   ]
  },
  {
   "cell_type": "code",
   "execution_count": 4,
   "id": "66093076",
   "metadata": {},
   "outputs": [
    {
     "data": {
      "text/plain": [
       "array([[-1.29780509, -0.93515698, -1.48281978, ..., -0.23285905,\n",
       "        -0.87936402, -0.26067295],\n",
       "       [-1.31923485, -0.89047967, -1.61636259, ..., -0.23285905,\n",
       "        -0.87936402, -0.26067295],\n",
       "       [-0.5549068 , -0.14883628, -0.68156292, ..., -0.23285905,\n",
       "        -0.87936402, -0.26067295],\n",
       "       ...,\n",
       "       [-2.04784663,  0.02987297,  0.38677957, ..., -0.23285905,\n",
       "         1.13718548, -0.26067295],\n",
       "       [-2.05498988,  0.12816306,  0.11969395, ..., -0.23285905,\n",
       "         1.13718548, -0.26067295],\n",
       "       [-2.05856151,  0.08348575, -0.14739167, ..., -0.23285905,\n",
       "         1.13718548, -0.26067295]], shape=(581012, 54))"
      ]
     },
     "execution_count": 4,
     "metadata": {},
     "output_type": "execute_result"
    }
   ],
   "source": [
    "from sklearn.preprocessing import StandardScaler\n",
    "st_scaler=StandardScaler()\n",
    "st_scaler.fit_transform(X)"
   ]
  },
  {
   "cell_type": "code",
   "execution_count": 5,
   "id": "2e56da90",
   "metadata": {},
   "outputs": [
    {
     "data": {
      "text/plain": [
       "array([[0.36868434, 0.14166667, 0.04545455, ..., 0.        , 0.        ,\n",
       "        0.        ],\n",
       "       [0.36568284, 0.15555556, 0.03030303, ..., 0.        , 0.        ,\n",
       "        0.        ],\n",
       "       [0.47273637, 0.38611111, 0.13636364, ..., 0.        , 0.        ,\n",
       "        0.        ],\n",
       "       ...,\n",
       "       [0.26363182, 0.44166667, 0.25757576, ..., 0.        , 1.        ,\n",
       "        0.        ],\n",
       "       [0.26263132, 0.47222222, 0.22727273, ..., 0.        , 1.        ,\n",
       "        0.        ],\n",
       "       [0.26213107, 0.45833333, 0.1969697 , ..., 0.        , 1.        ,\n",
       "        0.        ]], shape=(581012, 54))"
      ]
     },
     "execution_count": 5,
     "metadata": {},
     "output_type": "execute_result"
    }
   ],
   "source": [
    "from sklearn.preprocessing import MinMaxScaler\n",
    "Min_mex_Scaler=MinMaxScaler()\n",
    "Min_mex_Scaler.fit_transform(X)\n"
   ]
  },
  {
   "cell_type": "code",
   "execution_count": 6,
   "id": "9f9dada7",
   "metadata": {},
   "outputs": [],
   "source": [
    "from sklearn.svm import SVC\n",
    "svm_poly=SVC(kernel=\"linear\")\n",
    "svm_rbf=SVC(kernel=\"rbf\")"
   ]
  },
  {
   "cell_type": "code",
   "execution_count": 7,
   "id": "658fbad7",
   "metadata": {},
   "outputs": [],
   "source": [
    "from sklearn.model_selection import train_test_split\n",
    "x_train,x_comp,y_train,y_comp=train_test_split(X,y,test_size=0.5)"
   ]
  },
  {
   "cell_type": "code",
   "execution_count": 8,
   "id": "9e73fcd6",
   "metadata": {},
   "outputs": [],
   "source": [
    "x_test,x_val,y_test,y_val=train_test_split(x_comp,y_comp,test_size=0.5)"
   ]
  },
  {
   "cell_type": "code",
   "execution_count": null,
   "id": "923f8f22",
   "metadata": {},
   "outputs": [],
   "source": [
    "svm_poly.fit(x_train,y_train)"
   ]
  },
  {
   "cell_type": "code",
   "execution_count": null,
   "id": "1998b33f",
   "metadata": {},
   "outputs": [],
   "source": [
    "svm_poly.fit(x_val,y_val)"
   ]
  }
 ],
 "metadata": {
  "kernelspec": {
   "display_name": "Python 3",
   "language": "python",
   "name": "python3"
  },
  "language_info": {
   "codemirror_mode": {
    "name": "ipython",
    "version": 3
   },
   "file_extension": ".py",
   "mimetype": "text/x-python",
   "name": "python",
   "nbconvert_exporter": "python",
   "pygments_lexer": "ipython3",
   "version": "3.13.5"
  }
 },
 "nbformat": 4,
 "nbformat_minor": 5
}
