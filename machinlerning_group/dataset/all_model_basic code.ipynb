{
 "cells": [
  {
   "cell_type": "code",
   "execution_count": null,
   "id": "91c6326b",
   "metadata": {},
   "outputs": [],
   "source": [
    "#rendom forest model creation\n",
    "from sklearn.ensemble import RandomForestClassifier\n",
    "rf=RandomForestClassifier(criterion='entropy',n_estimators=50)\n",
    "rf.fit(x_train,y_train)"
   ]
  },
  {
   "cell_type": "code",
   "execution_count": null,
   "id": "d146d712",
   "metadata": {},
   "outputs": [],
   "source": [
    "# Decision Tree classifier\n",
    "from sklearn.tree import DecisionTreeClassifier\n",
    "dt=DecisionTreeClassifier(criterion=\"entropy\")\n",
    "dt.fit(x_train,y_train)"
   ]
  },
  {
   "cell_type": "code",
   "execution_count": null,
   "id": "1835b41e",
   "metadata": {},
   "outputs": [],
   "source": [
    "# LOgistic Regression \n",
    "from sklearn.linear_model import LogisticRegression\n",
    "lle=LogisticRegression()\n",
    "lle.fit(x_train,y_train)"
   ]
  },
  {
   "cell_type": "code",
   "execution_count": null,
   "id": "90010769",
   "metadata": {},
   "outputs": [],
   "source": [
    "#SVM (saport vector machin)\n",
    "from sklearn.svm import SVC\n",
    "svm=SVC(kernel=\"linear\")\n",
    "svm.fit(x_train,y_train)"
   ]
  },
  {
   "cell_type": "code",
   "execution_count": null,
   "id": "cd919db2",
   "metadata": {},
   "outputs": [],
   "source": [
    "#\n",
    "from sklearn.preprocessing import PolynomialFeatures\n",
    "poly_x = PolynomialFeatures()\n",
    "x_poly = poly_x.fit_transform(x)\n",
    "poly_x.fit(x_poly,y)"
   ]
  },
  {
   "cell_type": "code",
   "execution_count": null,
   "id": "d7a637e9",
   "metadata": {},
   "outputs": [],
   "source": []
  }
 ],
 "metadata": {
  "language_info": {
   "name": "python"
  }
 },
 "nbformat": 4,
 "nbformat_minor": 5
}
