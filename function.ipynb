{
 "cells": [
  {
   "cell_type": "code",
   "execution_count": 1,
   "id": "a601462d",
   "metadata": {},
   "outputs": [
    {
     "name": "stdout",
     "output_type": "stream",
     "text": [
      "vasudev patidar\n"
     ]
    }
   ],
   "source": [
    "def vasu(s):\n",
    "    print(\"vasudev\",s)\n",
    "\n",
    "vasu(\"patidar\")"
   ]
  },
  {
   "cell_type": "code",
   "execution_count": 6,
   "id": "7db83db9",
   "metadata": {},
   "outputs": [
    {
     "name": "stdout",
     "output_type": "stream",
     "text": [
      "vasu dev\n",
      "name\n"
     ]
    }
   ],
   "source": [
    "def hyy(s,v):\n",
    "    print(s,v)\n",
    "\n",
    "hyy(\"vasu\",\"dev\")\n",
    "\n",
    "def h (s,/):\n",
    "    print(s)\n",
    "\n",
    "h(\"name\")"
   ]
  },
  {
   "cell_type": "code",
   "execution_count": null,
   "id": "b3788b6f",
   "metadata": {},
   "outputs": [
    {
     "name": "stdout",
     "output_type": "stream",
     "text": [
      "he es\n"
     ]
    }
   ],
   "source": [
    "#positional \n",
    "def hyy(s,v):\n",
    "    print(s,v)\n",
    "\n",
    "hyy(v=\"es\",s=\"he\")#positional arg\n",
    "hyy(\"es\",\"he\")#keyword arg\n",
    "\n",
    "\n"
   ]
  },
  {
   "cell_type": "code",
   "execution_count": null,
   "id": "84c4dc5d",
   "metadata": {},
   "outputs": [
    {
     "data": {
      "text/plain": [
       "20"
      ]
     },
     "execution_count": 16,
     "metadata": {},
     "output_type": "execute_result"
    }
   ],
   "source": [
    "#defolt arg\n",
    "def hyy(s,v=10):\n",
    "    c=s+v\n",
    "    return c\n",
    "\n",
    "hyy(5,15)\n",
    "\n"
   ]
  },
  {
   "cell_type": "code",
   "execution_count": null,
   "id": "3a666c6b",
   "metadata": {},
   "outputs": [
    {
     "name": "stdout",
     "output_type": "stream",
     "text": [
      "<class 'tuple'>\n"
     ]
    }
   ],
   "source": [
    "#arbitrary argument\n",
    "\n",
    "def hyy(*s):\n",
    "    c=s\n",
    "    return c\n",
    "\n",
    "e=(hyy(1,2,3,3,4,5,6))\n",
    "\n",
    "print(type(e))\n",
    "\n"
   ]
  },
  {
   "cell_type": "code",
   "execution_count": 5,
   "id": "5e7686cf",
   "metadata": {},
   "outputs": [
    {
     "name": "stdout",
     "output_type": "stream",
     "text": [
      "33\n"
     ]
    }
   ],
   "source": [
    "def hyy(*s):\n",
    "    c=0\n",
    "    for i in s:\n",
    "        c+=i\n",
    "    return c\n",
    "\n",
    "e=(hyy(1,2,3,3,4,5,6))\n",
    "j=(hyy(*[1,3,5,7,8,9]))\n",
    "print (j)\n"
   ]
  },
  {
   "cell_type": "code",
   "execution_count": null,
   "id": "8c184d03",
   "metadata": {},
   "outputs": [
    {
     "name": "stdout",
     "output_type": "stream",
     "text": [
      "name:vasu\n",
      "age:22\n",
      "{'name': 'vasu', 'age': 22}\n"
     ]
    }
   ],
   "source": [
    "def hyy(**s):#kwarg\n",
    "    for k,h in s.items():\n",
    "        print(f\"{k}:{h}\")\n",
    "\n",
    "    return s\n",
    "    \n",
    "e=(hyy(name=\"vasu\",age=22))\n",
    "\n",
    "print (e)\n"
   ]
  },
  {
   "cell_type": "code",
   "execution_count": null,
   "id": "4d71b267",
   "metadata": {},
   "outputs": [],
   "source": [
    "def hyy (v):\n",
    "    temp=v\n",
    "    sum=0\n",
    "    digit=temp%10\n",
    "    a=digit**3\n",
    "    sum+=a\n",
    "    temp//=10\n",
    "    if sum==v:\n",
    "        print(\"amstrong\")\n",
    "    else:"
   ]
  },
  {
   "cell_type": "code",
   "execution_count": 12,
   "id": "a00a82ee",
   "metadata": {},
   "outputs": [],
   "source": [
    "def fact(v):\n",
    "    if v<=9:\n",
    "        return 0\n",
    "    elif v==1:\n",
    "        return 1\n",
    "    else:\n",
    "        return v*fact(v-1)"
   ]
  },
  {
   "cell_type": "code",
   "execution_count": null,
   "id": "7012cd1b",
   "metadata": {},
   "outputs": [],
   "source": [
    "#armstrong number=An Armstrong Number (also known as a narcissistic number, pluperfect number, or pluperfect digital invariant) is a number that is equal to the sum of its own digits each raised to the power of the number of digits.\n",
    "\n",
    "\n",
    " #perfect number=A Perfect Number is a positive integer that is equal to the sum of its proper divisors, excluding itself.\n",
    "#strong number=A Strong Number is a number in which the sum of the factorials of its digits is equal to the number itself.\n",
    "\n"
   ]
  },
  {
   "cell_type": "code",
   "execution_count": null,
   "id": "14228e17",
   "metadata": {},
   "outputs": [
    {
     "name": "stdout",
     "output_type": "stream",
     "text": [
      "1\n",
      "2\n",
      "3\n",
      "it is perfect\n",
      "not armstrong\n"
     ]
    }
   ],
   "source": [
    "#Perfect number\n",
    "def perfect(a):\n",
    "    sum=0\n",
    "    for i in range(1,a):\n",
    "        c=a%i\n",
    "        if c==0:\n",
    "            print(i)\n",
    "            sum+=i\n",
    "    if sum==a:\n",
    "        print(\"it is perfect\")\n",
    "    else:\n",
    "        print(\"it is not strong\")\n",
    "\n",
    "\n",
    "\n",
    "perfect(6)\n",
    "\n",
    "def armstrong(a):\n",
    "    temp=a\n",
    "    sum=0\n",
    "    while temp>0:\n",
    "\n",
    "        digit=temp%10\n",
    "        sum+=digit**3\n",
    "        temp//=10\n",
    "    if sum==a:\n",
    "        print('armstrong')\n",
    "    else:\n",
    "        print('not armstrong')\n",
    "armstrong(152)\n",
    "\n",
    "\n",
    "\n"
   ]
  },
  {
   "cell_type": "code",
   "execution_count": 45,
   "id": "184df0e8",
   "metadata": {},
   "outputs": [
    {
     "name": "stdout",
     "output_type": "stream",
     "text": [
      "[7, 5, 4, 3, 2, 1]\n"
     ]
    }
   ],
   "source": [
    "number=[1,5,7,3,4,2]\n",
    "number.sort(key=lambda X:X,reverse=True)\n",
    "print(number)"
   ]
  },
  {
   "cell_type": "code",
   "execution_count": 22,
   "id": "3f273e57",
   "metadata": {},
   "outputs": [
    {
     "name": "stdout",
     "output_type": "stream",
     "text": [
      "hyy\n"
     ]
    }
   ],
   "source": [
    "def hyy(h):\n",
    "    print(h)\n",
    "hyy(\"hyy\")"
   ]
  },
  {
   "cell_type": "code",
   "execution_count": 25,
   "id": "02372adb",
   "metadata": {},
   "outputs": [
    {
     "name": "stdout",
     "output_type": "stream",
     "text": [
      "9\n"
     ]
    }
   ],
   "source": [
    "#lambda fungtion\n",
    "#filter,map,reduce,sort, mathod of lambda fungtion\n",
    "\n",
    "add=lambda a,b :a+b\n",
    "print(add(4,5))"
   ]
  },
  {
   "cell_type": "code",
   "execution_count": 27,
   "id": "fdefb4e5",
   "metadata": {},
   "outputs": [
    {
     "name": "stdout",
     "output_type": "stream",
     "text": [
      "[2, 4, 6, 8, 10, 12, 14, 16, 18, 20, 22, 24, 26, 28, 30, 32, 34, 36, 38, 40, 42, 44, 46, 48, 50, 52, 54, 56, 58, 60, 62, 64, 66, 68, 70, 72, 74, 76, 78, 80, 82, 84, 86, 88, 90, 92, 94, 96, 98]\n",
      "[1, 3, 5, 7, 9, 11, 13, 15, 17, 19, 21, 23, 25, 27, 29, 31, 33, 35, 37, 39, 41, 43, 45, 47, 49, 51, 53, 55, 57, 59, 61, 63, 65, 67, 69, 71, 73, 75, 77, 79, 81, 83, 85, 87, 89, 91, 93, 95, 97, 99]\n"
     ]
    }
   ],
   "source": [
    "my_list=list(range(1,100))\n",
    "print(list(filter(lambda x: x%2==0,my_list)))\n",
    "print(list(filter(lambda x: x%2!=0,my_list)))"
   ]
  },
  {
   "cell_type": "code",
   "execution_count": null,
   "id": "2896492b",
   "metadata": {},
   "outputs": [
    {
     "name": "stdout",
     "output_type": "stream",
     "text": [
      "[False, True, False, True, False, True, False, True, False, True, False, True, False, True, False, True, False, True, False, True, False, True, False, True, False, True, False, True, False, True, False, True, False, True, False, True, False, True, False, True, False, True, False, True, False, True, False, True, False, True, False, True, False, True, False, True, False, True, False, True, False, True, False, True, False, True, False, True, False, True, False, True, False, True, False, True, False, True, False, True, False, True, False, True, False, True, False, True, False, True, False, True, False, True, False, True, False, True, False]\n",
      "[1, 3, 5, 7, 9, 11, 13, 15, 17, 19, 21, 23, 25, 27, 29, 31, 33, 35, 37, 39, 41, 43, 45, 47, 49, 51, 53, 55, 57, 59, 61, 63, 65, 67, 69, 71, 73, 75, 77, 79, 81, 83, 85, 87, 89, 91, 93, 95, 97, 99]\n",
      "[1, 3, 5, 7, 9, 11, 13, 15, 17, 19, 21, 23, 25, 27, 29, 31, 33, 35, 37, 39, 41, 43, 45, 47, 49, 51, 53, 55, 57, 59, 61, 63, 65, 67, 69, 71, 73, 75, 77, 79, 81, 83, 85, 87, 89, 91, 93, 95, 97, 99]\n",
      "[1, 3, 5, 7, 9, 11, 13, 15, 17, 19, 21, 23, 25, 27, 29, 31, 33, 35, 37, 39, 41, 43, 45, 47, 49, 51, 53, 55, 57, 59, 61, 63, 65, 67, 69, 71, 73, 75, 77, 79, 81, 83, 85, 87, 89, 91, 93, 95, 97, 99]\n",
      "Lambdas\n",
      "*******\n",
      "\n",
      "   lambda_expr ::= \"lambda\" [parameter_list] \":\" expression\n",
      "\n",
      "Lambda expressions (sometimes called lambda forms) are used to create\n",
      "anonymous functions. The expression \"lambda parameters: expression\"\n",
      "yields a function object.  The unnamed object behaves like a function\n",
      "object defined with:\n",
      "\n",
      "   def <lambda>(parameters):\n",
      "       return expression\n",
      "\n",
      "See section Function definitions for the syntax of parameter lists.\n",
      "Note that functions created with lambda expressions cannot contain\n",
      "statements or annotations.\n",
      "\n",
      "Related help topics: FUNCTIONS\n",
      "\n"
     ]
    }
   ],
   "source": [
    "my_list=list(range(1,100))\n",
    "print(list(map(lambda x: x%2==0,my_list)))\n",
    "print(list(filter(lambda x: x%2!=0,my_list)))\n",
    "print(list(filter(lambda x: x%2!=0,my_list)))\n",
    "print(list(filter(lambda x: x%2!=0,my_list)))\n",
    "help(\"lambda\")\n"
   ]
  },
  {
   "cell_type": "code",
   "execution_count": 41,
   "id": "c75c7f09",
   "metadata": {},
   "outputs": [
    {
     "name": "stdout",
     "output_type": "stream",
     "text": [
      "helow world bhai\n"
     ]
    }
   ],
   "source": [
    "from functools import reduce\n",
    "\n",
    "words=['helow','world','bhai']\n",
    "result=reduce(lambda x,y: x+' '+y,words)\n",
    "print(result)"
   ]
  },
  {
   "cell_type": "code",
   "execution_count": null,
   "id": "0690f75a",
   "metadata": {},
   "outputs": [
    {
     "name": "stdout",
     "output_type": "stream",
     "text": [
      "24\n"
     ]
    }
   ],
   "source": [
    "from functools import reduce\n",
    "\n",
    "list=[1,2,3,4]\n",
    "result=reduce(lambda x,y: x*y,list)\n",
    "print(result)\n"
   ]
  },
  {
   "cell_type": "code",
   "execution_count": 49,
   "id": "ac53befd",
   "metadata": {},
   "outputs": [
    {
     "name": "stdout",
     "output_type": "stream",
     "text": [
      "yes\n"
     ]
    }
   ],
   "source": [
    "a=6\n",
    "b=2\n",
    "if a%b==0:\n",
    "    print (\"yes\")"
   ]
  }
 ],
 "metadata": {
  "kernelspec": {
   "display_name": "Python 3",
   "language": "python",
   "name": "python3"
  },
  "language_info": {
   "codemirror_mode": {
    "name": "ipython",
    "version": 3
   },
   "file_extension": ".py",
   "mimetype": "text/x-python",
   "name": "python",
   "nbconvert_exporter": "python",
   "pygments_lexer": "ipython3",
   "version": "3.13.2"
  }
 },
 "nbformat": 4,
 "nbformat_minor": 5
}
