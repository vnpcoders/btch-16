{
 "cells": [
  {
   "cell_type": "code",
   "execution_count": 13,
   "id": "178c10ba",
   "metadata": {},
   "outputs": [
    {
     "name": "stdout",
     "output_type": "stream",
     "text": [
      "<re.Match object; span=(0, 2), match='th'>\n"
     ]
    }
   ],
   "source": [
    "import re\n",
    "\n",
    "txt=\"the rain in spane gth fth th\"\n",
    "x= re.search('th',txt)\n",
    "print(x)\n"
   ]
  },
  {
   "cell_type": "code",
   "execution_count": null,
   "id": "2575cf77",
   "metadata": {},
   "outputs": [],
   "source": [
    "import re\n",
    "\n",
    "txt=\"the rain in spane gth fth th\"\n",
    "x= re.findall('th',txt)\n",
    "print(x)\n"
   ]
  },
  {
   "cell_type": "code",
   "execution_count": null,
   "id": "ef1015d9",
   "metadata": {},
   "outputs": [],
   "source": [
    "import re\n",
    "\n",
    "txt=\"the rain in spane gth fth th\"\n",
    "x= re.match('th',txt)\n",
    "print(x)\n"
   ]
  },
  {
   "cell_type": "code",
   "execution_count": 32,
   "id": "2eb084ee",
   "metadata": {},
   "outputs": [
    {
     "name": "stdout",
     "output_type": "stream",
     "text": [
      "<re.Match object; span=(0, 5), match='hello'>\n",
      "(0, 5)\n",
      "0\n",
      "5\n",
      "hello vasudev i am hear for you\n",
      "hello\n"
     ]
    }
   ],
   "source": [
    "sent=\"hello vasudev i am hear for you\"\n",
    "pattern=\"hello\"\n",
    "result=re.match(pattern,sent)\n",
    "print(result)\n",
    "print(result.span())\n",
    "print(result.start())\n",
    "print(result.end())\n",
    "print(result.string)\n",
    "print(result.group())"
   ]
  },
  {
   "cell_type": "code",
   "execution_count": 20,
   "id": "74594636",
   "metadata": {},
   "outputs": [
    {
     "name": "stdout",
     "output_type": "stream",
     "text": [
      "<re.Match object; span=(19, 23), match='hear'>\n",
      "(19, 23)\n",
      "19\n",
      "23\n"
     ]
    }
   ],
   "source": [
    "sent=\"hello vasudev i am hear for you\"\n",
    "pattern=\"hear\"\n",
    "result=re.search(pattern,sent)\n",
    "print(result)\n",
    "print(result.span())\n",
    "print(result.start())\n",
    "print(result.end())\n"
   ]
  },
  {
   "cell_type": "code",
   "execution_count": null,
   "id": "af41ea95",
   "metadata": {},
   "outputs": [
    {
     "name": "stdout",
     "output_type": "stream",
     "text": [
      "['de', 'de', 'de']\n"
     ]
    }
   ],
   "source": [
    "sent=\"hello vasudev i am hearde for youde\"\n",
    "pattern=\"de\"\n",
    "result=re.findall(pattern,sent)\n",
    "print(result)\n",
    "print()"
   ]
  },
  {
   "cell_type": "code",
   "execution_count": 40,
   "id": "44bca144",
   "metadata": {},
   "outputs": [
    {
     "name": "stdout",
     "output_type": "stream",
     "text": [
      "<callable_iterator object at 0x00000289CE6C7460>\n",
      "\n"
     ]
    }
   ],
   "source": [
    "sent=\"hello vasudev i am hearde for youde\"\n",
    "pattern=\"de\"\n",
    "result=re.findall(pattern,sent)\n",
    "print(re.finditer(pattern,sent))\n",
    "print()"
   ]
  },
  {
   "cell_type": "code",
   "execution_count": 35,
   "id": "3566f6f2",
   "metadata": {},
   "outputs": [
    {
     "name": "stdout",
     "output_type": "stream",
     "text": [
      "['de', 'de', 'De']\n",
      "\n"
     ]
    }
   ],
   "source": [
    "sent=\"hello vasudev i am hearde for youDe\"\n",
    "pattern=\"de\"\n",
    "result=re.findall(pattern,sent,re.IGNORECASE)\n",
    "print(result)\n",
    "print()"
   ]
  },
  {
   "cell_type": "code",
   "execution_count": 28,
   "id": "c5134642",
   "metadata": {},
   "outputs": [
    {
     "name": "stdout",
     "output_type": "stream",
     "text": [
      "hello vasudev i am hear for you. vasudev wat are you dueng\n",
      "\n"
     ]
    }
   ],
   "source": [
    "sent=\"hello ram i am hear for you. ram wat are you dueng\"\n",
    "pattern=\"ram\"\n",
    "result=re.sub(pattern,\"vasudev\",sent)\n",
    "print(result)\n",
    "print()"
   ]
  },
  {
   "cell_type": "code",
   "execution_count": 29,
   "id": "231ef5e0",
   "metadata": {},
   "outputs": [
    {
     "name": "stdout",
     "output_type": "stream",
     "text": [
      "hello vasudev i am hear for you. vasudev wat are you dueng ram\n",
      "\n"
     ]
    },
    {
     "name": "stderr",
     "output_type": "stream",
     "text": [
      "C:\\Users\\vasud\\AppData\\Local\\Temp\\ipykernel_13108\\3314170386.py:3: DeprecationWarning: 'count' is passed as positional argument\n",
      "  result=re.sub(pattern,\"vasudev\",sent,2)\n"
     ]
    }
   ],
   "source": [
    "sent=\"hello ram i am hear for you. ram wat are you dueng ram\"\n",
    "pattern=\"ram\"\n",
    "result=re.sub(pattern,\"vasudev\",sent,2)\n",
    "print(result)\n",
    "print()\n"
   ]
  },
  {
   "cell_type": "code",
   "execution_count": 122,
   "id": "ecaf0767",
   "metadata": {},
   "outputs": [
    {
     "name": "stdout",
     "output_type": "stream",
     "text": [
      "['vsudevpatidar52@gmail.com', '9575189285']\n"
     ]
    }
   ],
   "source": [
    "import re\n",
    "a='vsudevpatidar52@gmail.com 9575189285'\n",
    "pa=r'\\w+\\d+@\\w+.\\w+|\\d+'\n",
    "pe='\\\\w+\\\\d+@\\\\w+.\\\\w+'\n",
    "p=r\"\\d+\"\n",
    "result=re.findall(pa,a)\n",
    "print(result)"
   ]
  },
  {
   "cell_type": "code",
   "execution_count": 84,
   "id": "3d483ca4",
   "metadata": {},
   "outputs": [
    {
     "name": "stdout",
     "output_type": "stream",
     "text": [
      "['vsudevpatidar52@gmail.com']\n"
     ]
    }
   ],
   "source": [
    "result = re.findall(pa, a)\n",
    "print(result)\n"
   ]
  },
  {
   "cell_type": "code",
   "execution_count": null,
   "id": "2b09a650",
   "metadata": {},
   "outputs": [
    {
     "name": "stdout",
     "output_type": "stream",
     "text": [
      "['25-04-0001', '43-00-1999']\n",
      "['66', '25', '04', '00', '01', '43', '00', '19', '99']\n"
     ]
    }
   ],
   "source": [
    "a=\"Amisha dob 66 is 25-04-0001 and jyoti dob is 43-00-1999\"\n",
    "pa=r\"\\d+-\\d+-\\d+\"\n",
    "pe=r\"\\d{2}[]\"\n",
    "result= re.findall(pa or pe,a)\n",
    "resul= re.findall(pe,a)\n",
    "print(result)\n",
    "print(resul)\n"
   ]
  },
  {
   "cell_type": "code",
   "execution_count": null,
   "id": "4461f850",
   "metadata": {},
   "outputs": [],
   "source": []
  }
 ],
 "metadata": {
  "kernelspec": {
   "display_name": "Python 3",
   "language": "python",
   "name": "python3"
  },
  "language_info": {
   "codemirror_mode": {
    "name": "ipython",
    "version": 3
   },
   "file_extension": ".py",
   "mimetype": "text/x-python",
   "name": "python",
   "nbconvert_exporter": "python",
   "pygments_lexer": "ipython3",
   "version": "3.13.2"
  }
 },
 "nbformat": 4,
 "nbformat_minor": 5
}
