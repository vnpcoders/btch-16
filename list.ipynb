{
 "cells": [
  {
   "cell_type": "code",
   "execution_count": 10,
   "id": "1dc22f02",
   "metadata": {},
   "outputs": [
    {
     "name": "stdout",
     "output_type": "stream",
     "text": [
      "Original list: ['vasu', 'vasudev', ['hyy', 'byy', 'h'], 'v']\n"
     ]
    }
   ],
   "source": [
    "import copy\n",
    "x=[\"vasu\",\"vasudev\",[\"hyy\",\"byy\",'h'],\"v\"]\n",
    "\n",
    "print(\"Original list:\", x)\n",
    "\n"
   ]
  },
  {
   "cell_type": "code",
   "execution_count": 11,
   "id": "9f92caa3",
   "metadata": {},
   "outputs": [
    {
     "name": "stdout",
     "output_type": "stream",
     "text": [
      "['vasu', 'vasudev', ['hyy', 'byy', 'h'], 'v']\n"
     ]
    }
   ],
   "source": [
    "shallow_copy= copy.copy(x)\n",
    "\n",
    "print(shallow_copy)"
   ]
  },
  {
   "cell_type": "code",
   "execution_count": 12,
   "id": "372c03e8",
   "metadata": {},
   "outputs": [
    {
     "name": "stdout",
     "output_type": "stream",
     "text": [
      "['vasu', 'vasudev', ['hyy', 'byy', 'h'], 'v']\n"
     ]
    }
   ],
   "source": [
    "deep_copy= copy.deepcopy(x)\n",
    "print(deep_copy)"
   ]
  },
  {
   "cell_type": "code",
   "execution_count": null,
   "id": "f4e142da",
   "metadata": {},
   "outputs": [
    {
     "name": "stdout",
     "output_type": "stream",
     "text": [
      "[2, 4, 6, 8, 10, 12, 14, 16, 18, 20, 22, 24]\n"
     ]
    }
   ],
   "source": [
    "\n",
    "num=[n for n in range(1,25) if n%2==0]\n",
    "print(num)"
   ]
  },
  {
   "cell_type": "code",
   "execution_count": 2,
   "id": "5e7506d3",
   "metadata": {},
   "outputs": [
    {
     "name": "stdout",
     "output_type": "stream",
     "text": [
      "['vasu', 'vasudev', 'patidar']\n"
     ]
    }
   ],
   "source": [
    "u=['vasu','VASudev','patIDar']\n",
    "result_u=[n.lower() for n in u ]\n",
    "print(result_u)"
   ]
  },
  {
   "cell_type": "code",
   "execution_count": 6,
   "id": "31ebd618",
   "metadata": {},
   "outputs": [
    {
     "name": "stdout",
     "output_type": "stream",
     "text": [
      "[1, 2, 3, 4, 5, 6, 7, 'vasu', 'dev', 'hyy']\n"
     ]
    }
   ],
   "source": [
    "u=[[1,2,3,4,5,6,7],['vasu','dev','hyy']]\n",
    "hyy=[]\n",
    "h=[j  for n in u  for j in n  ]\n",
    "print(h)"
   ]
  },
  {
   "cell_type": "code",
   "execution_count": null,
   "id": "140c95f1",
   "metadata": {},
   "outputs": [],
   "source": []
  }
 ],
 "metadata": {
  "kernelspec": {
   "display_name": "Python 3",
   "language": "python",
   "name": "python3"
  },
  "language_info": {
   "codemirror_mode": {
    "name": "ipython",
    "version": 3
   },
   "file_extension": ".py",
   "mimetype": "text/x-python",
   "name": "python",
   "nbconvert_exporter": "python",
   "pygments_lexer": "ipython3",
   "version": "3.13.2"
  }
 },
 "nbformat": 4,
 "nbformat_minor": 5
}
