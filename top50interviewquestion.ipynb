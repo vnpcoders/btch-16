{
 "cells": [
  {
   "cell_type": "code",
   "execution_count": null,
   "id": "1919105d",
   "metadata": {},
   "outputs": [],
   "source": [
    "#Print the even numbers from 1 to 20 using a while loop. \n",
    "for i in range(1,21):\n",
    "    if i%2==0:\n",
    "        print(\"even\",i)\n",
    "    else:\n",
    "        print(\"odd\",i)"
   ]
  },
  {
   "cell_type": "code",
   "execution_count": null,
   "id": "0ebe6bbd",
   "metadata": {},
   "outputs": [],
   "source": [
    "#5. Print the Fibonacci series up to a given number using a while loop. \n",
    "\n",
    "num1= int(input('enter the number'))\n",
    "a=0\n",
    "b=1\n",
    "\n",
    "while a<num1:\n",
    "    print(a)\n",
    "    a,b = b, a+b\n",
    "    \n"
   ]
  },
  {
   "cell_type": "code",
   "execution_count": null,
   "id": "a3d691e4",
   "metadata": {},
   "outputs": [],
   "source": [
    "#Print the reverse of a given string using a for loop. \n",
    "a=\"vasudev\"\n",
    "\n",
    "for i in range(len(a)-1,-1,-1):\n",
    "    print(a[i],end='')"
   ]
  },
  {
   "cell_type": "code",
   "execution_count": null,
   "id": "db0ade73",
   "metadata": {},
   "outputs": [],
   "source": [
    "#Calculate and print the factorial of a given number using a while loop.\n",
    "\n",
    "n = int(input(\"enter the number\"))\n",
    "\n",
    "fact = 1\n",
    "\n",
    "while n>1:\n",
    "    fact = fact * n\n",
    "    n = n - 1\n",
    "print(fact)\n"
   ]
  },
  {
   "cell_type": "code",
   "execution_count": null,
   "id": "74982453",
   "metadata": {},
   "outputs": [],
   "source": [
    "#Check if a given number is prime using a while loop. \n",
    "\n",
    "n= int(input('number'))\n",
    "a=2\n",
    "while a<n:\n",
    "     \n",
    "    if n%a==0:\n",
    "        print('not a prime')\n",
    "        break\n",
    "    else:\n",
    "        print(\"prime\")\n",
    "        break\n",
    "    a+=1"
   ]
  },
  {
   "cell_type": "code",
   "execution_count": null,
   "id": "f4974dd9",
   "metadata": {},
   "outputs": [],
   "source": [
    "#. Print the first 10 terms of the geometric sequence with a common ratio of 2 using a for loop. \n",
    "\n",
    "n= int(input('enter the number'))\n",
    "sum=1\n",
    "print(1)\n",
    "for i in range(1,n):\n",
    "\n",
    "    sum= sum+sum\n",
    "    print(sum)"
   ]
  },
  {
   "cell_type": "code",
   "execution_count": null,
   "id": "b091c7c8",
   "metadata": {},
   "outputs": [],
   "source": [
    "#. Count and print the number of vowels in a given string using a for loop. \n",
    "a=\"vasudev\"\n",
    "count=0\n",
    "for i in range(1,len(a)):\n",
    "    \n",
    "    if a[i]=='a'or a[i]=='e'or a[i]=='i'or a[i]=='o' or a[i]=='u':\n",
    "        count+=1\n",
    "    \n",
    "print(count)"
   ]
  },
  {
   "cell_type": "code",
   "execution_count": null,
   "id": "57769c82",
   "metadata": {},
   "outputs": [],
   "source": [
    "#. Print the factors of a given number using a while loop. \n",
    "a=int(input(\"enter the number\"))\n",
    "for i in range(1,a):\n",
    "    if a%i==0:\n",
    "        print(i,'is a factor of a',a)"
   ]
  },
  {
   "cell_type": "code",
   "execution_count": null,
   "id": "c0376293",
   "metadata": {},
   "outputs": [],
   "source": [
    "#Calculate and print the sum of the digits of a given number using a for loop\n",
    "\n",
    "n = int(input(\"enter thed number\"))\n",
    "sum=0\n",
    "while n>0:\n",
    "    digit= n%10\n",
    "    sum=sum+digit\n",
    "    n=n//10\n",
    "print(\"sum of digits=\",sum)\n"
   ]
  },
  {
   "cell_type": "code",
   "execution_count": 4,
   "id": "5439422a",
   "metadata": {},
   "outputs": [
    {
     "name": "stdout",
     "output_type": "stream",
     "text": [
      "[1, 4, 2, 2]\n",
      "[2, 2, 4, 1]\n"
     ]
    }
   ],
   "source": [
    "#swap the number so the sum of element are equel number of element or sum of element\n",
    "\n",
    "a=[2,4,2,2]\n",
    "b=[1,2,4,1]\n",
    "\n",
    "if len(a)==len(b):\n",
    "    for i in range(len(a)):\n",
    "        for j in range(len(a)):\n",
    "            a[i],b[j]=b[j],a[i]\n",
    "         \n",
    "            if sum(a)==sum(b):\n",
    "                print(a)\n",
    "                print(b)\n",
    "                break\n",
    "            elif sum(a)!=sum(b):\n",
    "                a[i],b[j]=b[j],a[i]\n",
    "\n",
    "        if sum(a)==sum(b):\n",
    "            break\n",
    "    else:\n",
    "        print(-1)          \n",
    "\n"
   ]
  },
  {
   "cell_type": "code",
   "execution_count": null,
   "id": "7628162a",
   "metadata": {},
   "outputs": [
    {
     "name": "stdout",
     "output_type": "stream",
     "text": [
      "7\n",
      "5\n"
     ]
    }
   ],
   "source": [
    "a=5\n",
    "b=7\n",
    "a,b=b,a\n",
    "print(a)\n",
    "print(b3333333)"
   ]
  },
  {
   "cell_type": "code",
   "execution_count": 14,
   "id": "da9f6995",
   "metadata": {},
   "outputs": [
    {
     "name": "stdout",
     "output_type": "stream",
     "text": [
      "[1, 4, 2, 2]\n",
      "[1, 2, 4, 2]\n",
      "[2, 4, 2, 2]\n",
      "[1, 2, 4, 1]\n"
     ]
    }
   ],
   "source": [
    "a=[2,4,2,2]\n",
    "b=[1,2,4,1]\n",
    "\n",
    "a[0],b[3]=b[3],a[0]\n",
    "print(a)\n",
    "print(b)\n",
    "a[0],b[3]=b[3],a[0]\n",
    "print(a)\n",
    "print(b)\n"
   ]
  },
  {
   "cell_type": "code",
   "execution_count": 5,
   "id": "c4012148",
   "metadata": {},
   "outputs": [
    {
     "name": "stdout",
     "output_type": "stream",
     "text": [
      "True\n"
     ]
    }
   ],
   "source": [
    "s=\"ab\"\n",
    "p=\".*\"\n",
    "\n",
    "if len(s)==len(p):\n",
    "    if s==p:\n",
    "        print(True)\n",
    "    elif s[0]==p[0]and p[1]==\"*\":\n",
    "        print(True)\n",
    "    elif p[0]==\".\"and p[1]==\"*\":\n",
    "        print(True)\n",
    "    else:\n",
    "        print(False)\n",
    "else:\n",
    "    print(False)       "
   ]
  },
  {
   "cell_type": "code",
   "execution_count": null,
   "id": "676318ef",
   "metadata": {},
   "outputs": [
    {
     "data": {
      "text/plain": [
       "[6, 8, 9, 1, 4, 5]"
      ]
     },
     "execution_count": 36,
     "metadata": {},
     "output_type": "execute_result"
    }
   ],
   "source": [
    "def rotate(num,k):\n",
    "    return num[-k:]+ num[:-k]\n",
    "num=[1,4,5,6,8,9]\n",
    "rotate(num,3)"
   ]
  },
  {
   "cell_type": "code",
   "execution_count": 37,
   "id": "c5b2afbc",
   "metadata": {},
   "outputs": [
    {
     "data": {
      "text/plain": [
       "[6, 8, 9, 1, 4, 5]"
      ]
     },
     "execution_count": 37,
     "metadata": {},
     "output_type": "execute_result"
    }
   ],
   "source": [
    "def rotat(num,k):\n",
    "    b=[]\n",
    "    for i in num[0:k]:\n",
    "        b.append(i)\n",
    "        num.remove(i)\n",
    "    return num+b\n",
    "num=[1,4,5,6,8,9]\n",
    "rotate(num,3)"
   ]
  },
  {
   "cell_type": "code",
   "execution_count": 2,
   "id": "e4394da7",
   "metadata": {},
   "outputs": [
    {
     "name": "stdout",
     "output_type": "stream",
     "text": [
      "[1, 2, 3, 4, 5, 6, 7, 8, 9, 10]\n"
     ]
    }
   ],
   "source": [
    "list1=[1,3,5,7,10]\n",
    "list2=[2,4,6,8,9]\n",
    "for i in list2:\n",
    "    list1.append(i)\n",
    "    list1.sort()\n",
    "print(list1)"
   ]
  },
  {
   "cell_type": "code",
   "execution_count": 3,
   "id": "3417756a",
   "metadata": {},
   "outputs": [
    {
     "data": {
      "text/plain": [
       "[1, 2, 3, 4, 5, 6, 7, 8, 9, 10]"
      ]
     },
     "execution_count": 3,
     "metadata": {},
     "output_type": "execute_result"
    }
   ],
   "source": [
    "list1=[1,3,5,7,10]\n",
    "list2=[2,4,6,8,9]\n",
    "for i in list2:\n",
    "    list1.append(i)\n",
    "list1\n",
    "for i in range(len(list1)):\n",
    "    for j in range(i+1,len(list1)):\n",
    "        if list1[i]>list1[j]:\n",
    "            list1[i],list1[j]=list1[j],list1[i]\n",
    "list1"
   ]
  },
  {
   "cell_type": "code",
   "execution_count": 2,
   "id": "f4ec56eb",
   "metadata": {},
   "outputs": [
    {
     "name": "stdout",
     "output_type": "stream",
     "text": [
      "[2, 4, 6, 8, 9]\n"
     ]
    }
   ],
   "source": [
    "list1=[1,3,5,7,10]\n",
    "\n",
    "b=[]\n",
    "for i in range(1,10):\n",
    "    if i not in list1:\n",
    "        b.append(i)\n",
    "print(b)"
   ]
  },
  {
   "cell_type": "code",
   "execution_count": 39,
   "id": "0990e9fe",
   "metadata": {},
   "outputs": [
    {
     "name": "stdout",
     "output_type": "stream",
     "text": [
      "4\n"
     ]
    }
   ],
   "source": [
    "s=\"naan samemas intetni splilps vasudev\"\n",
    "b=s.split()\n",
    "count=0\n",
    "for i in b:\n",
    "    if i==i[::-1]:\n",
    "        count+=1\n",
    "print(count)"
   ]
  },
  {
   "cell_type": "code",
   "execution_count": 52,
   "id": "f0b72327",
   "metadata": {},
   "outputs": [],
   "source": [
    "\n",
    "\n",
    "def armstrong(a):\n",
    "    sum=0\n",
    "    while a>0:\n",
    "        digit=a%10\n",
    "        sum=sum+digit**3\n",
    "        a=a//10\n",
    "    return sum\n",
    "a=152\n",
    "armstrong(a)\n",
    "if armstrong(a)==a:\n",
    "    print(\"armstrong\")\n",
    "\n"
   ]
  },
  {
   "cell_type": "code",
   "execution_count": 17,
   "id": "95c3bbc9",
   "metadata": {},
   "outputs": [
    {
     "name": "stdout",
     "output_type": "stream",
     "text": [
      "[2, 2, 3]\n"
     ]
    }
   ],
   "source": [
    "a=[1,2,2,3,4,5]\n",
    "b=[2,2,3,6,7]\n",
    "c=[]\n",
    "for i in a:\n",
    "    if i in b:\n",
    "        c.append(i)\n",
    "print(c)"
   ]
  },
  {
   "cell_type": "code",
   "execution_count": 26,
   "id": "5326db7d",
   "metadata": {},
   "outputs": [
    {
     "name": "stdout",
     "output_type": "stream",
     "text": [
      "4321"
     ]
    }
   ],
   "source": [
    "a=1234\n",
    "while a>0:\n",
    "    b=a%10\n",
    "    c=a//10\n",
    "    a=c\n",
    "    d=b\n",
    "    print(d,end='')"
   ]
  },
  {
   "cell_type": "code",
   "execution_count": 2,
   "id": "e41f814a",
   "metadata": {},
   "outputs": [
    {
     "name": "stdout",
     "output_type": "stream",
     "text": [
      "{'b': 1, 'a': 3, 'n': 2}\n"
     ]
    }
   ],
   "source": [
    "s = \"banana\"\n",
    "count = {}\n",
    "for ch in s:\n",
    "    count[ch] = count.get(ch,0)+1\n",
    "print(count)   # {'b':1, 'a':3, 'n':2}"
   ]
  },
  {
   "cell_type": "code",
   "execution_count": null,
   "id": "fddf3de6",
   "metadata": {},
   "outputs": [],
   "source": [
    "a=5\n",
    "\n",
    "for i in range(a):\n",
    "    for j in range (i):\n",
    "        if j==1 or j==i:\n",
    "            print(\"\")"
   ]
  }
 ],
 "metadata": {
  "kernelspec": {
   "display_name": "Python 3",
   "language": "python",
   "name": "python3"
  },
  "language_info": {
   "codemirror_mode": {
    "name": "ipython",
    "version": 3
   },
   "file_extension": ".py",
   "mimetype": "text/x-python",
   "name": "python",
   "nbconvert_exporter": "python",
   "pygments_lexer": "ipython3",
   "version": "3.13.5"
  }
 },
 "nbformat": 4,
 "nbformat_minor": 5
}
