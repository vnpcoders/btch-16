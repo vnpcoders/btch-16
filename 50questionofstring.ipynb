{
 "cells": [
  {
   "cell_type": "code",
   "execution_count": 5,
   "id": "abe15bd4",
   "metadata": {},
   "outputs": [
    {
     "name": "stdout",
     "output_type": "stream",
     "text": [
      "3\n"
     ]
    }
   ],
   "source": [
    "#1) Question: Count the number of vowels in a given string. \n",
    "\n",
    "a=\"hello world\"\n",
    "count=0\n",
    "for i in a:\n",
    "    if i in \"aeiouAeiou\":\n",
    "        count +=1\n",
    "print(count)"
   ]
  },
  {
   "cell_type": "code",
   "execution_count": null,
   "id": "4a13453f",
   "metadata": {},
   "outputs": [
    {
     "name": "stdout",
     "output_type": "stream",
     "text": [
      "dlrow olleh\n"
     ]
    }
   ],
   "source": [
    "#2\n",
    "a=\"hello world\"\n",
    "\n",
    "print(a[-1::-1])"
   ]
  },
  {
   "cell_type": "code",
   "execution_count": null,
   "id": "fcc4688b",
   "metadata": {},
   "outputs": [
    {
     "name": "stdout",
     "output_type": "stream",
     "text": [
      "palandrom\n"
     ]
    }
   ],
   "source": [
    "#3\n",
    "a=\"naman\"\n",
    "\n",
    "b=a[::-1]\n",
    "if a==b:\n",
    "    print(\"palandrom\")\n",
    "else:\n",
    "    print(\"not palandrom\")"
   ]
  },
  {
   "cell_type": "code",
   "execution_count": 9,
   "id": "fa52b840",
   "metadata": {},
   "outputs": [
    {
     "name": "stdout",
     "output_type": "stream",
     "text": [
      "helloworld\n"
     ]
    }
   ],
   "source": [
    "#4\n",
    "a=\" hello world \".replace(\" \",\"\")\n",
    "print(a)\n"
   ]
  },
  {
   "cell_type": "code",
   "execution_count": 11,
   "id": "98d1012a",
   "metadata": {},
   "outputs": [
    {
     "name": "stdout",
     "output_type": "stream",
     "text": [
      "5\n"
     ]
    }
   ],
   "source": [
    "#5\n",
    "a=\"I love python programming vasudev\"\n",
    "\n",
    "b=a.split()\n",
    "print(len(b))\n",
    "\n",
    "\n"
   ]
  },
  {
   "cell_type": "code",
   "execution_count": 27,
   "id": "65e35d24",
   "metadata": {},
   "outputs": [
    {
     "name": "stdout",
     "output_type": "stream",
     "text": [
      "{'a': 1, 'p': 2, 'l': 1, 'e': 1}\n"
     ]
    }
   ],
   "source": [
    "#6 find the feqwency of each carecter in a string\n",
    "a=\"apple\"\n",
    "dir={}\n",
    "for i in a:\n",
    "    dir[i]=a.count(i)\n",
    "print(dir)\n",
    "\n"
   ]
  },
  {
   "cell_type": "code",
   "execution_count": 19,
   "id": "18991fb7",
   "metadata": {},
   "outputs": [
    {
     "name": "stdout",
     "output_type": "stream",
     "text": [
      "[3, 10]\n"
     ]
    }
   ],
   "source": [
    "#7\n",
    "\n",
    "a=\"programming\"\n",
    "li=[]\n",
    "b='g'\n",
    "for i in range(len(a)):\n",
    "    if a[i]==b:\n",
    "        li.append(i)\n",
    "print(li)\n",
    "    \n"
   ]
  },
  {
   "cell_type": "code",
   "execution_count": 22,
   "id": "cedd2062",
   "metadata": {},
   "outputs": [
    {
     "name": "stdout",
     "output_type": "stream",
     "text": [
      "Python Is Fun\n"
     ]
    }
   ],
   "source": [
    "#8\n",
    "a=\"python is fun\"\n",
    "b=a.title()\n",
    "print(b)"
   ]
  },
  {
   "cell_type": "code",
   "execution_count": 23,
   "id": "f7a6af55",
   "metadata": {},
   "outputs": [
    {
     "name": "stdout",
     "output_type": "stream",
     "text": [
      "a sky is blue\n"
     ]
    }
   ],
   "source": [
    "#9\n",
    "a=\"the sky is blue\".replace(\"the\",\"a\")\n",
    "print(a)"
   ]
  },
  {
   "cell_type": "code",
   "execution_count": 24,
   "id": "31f7f9bf",
   "metadata": {},
   "outputs": [
    {
     "name": "stdout",
     "output_type": "stream",
     "text": [
      "programing\n",
      "progamin\n"
     ]
    }
   ],
   "source": [
    "#10\n",
    "\n",
    "a=\"programing\"\n",
    "b=\"\"\n",
    "print(a)\n",
    "for i in a:\n",
    "    if i not in b:\n",
    "        b+=i\n",
    "print(b)\n",
    "\n"
   ]
  },
  {
   "cell_type": "code",
   "execution_count": 28,
   "id": "6a762b89",
   "metadata": {},
   "outputs": [
    {
     "name": "stdout",
     "output_type": "stream",
     "text": [
      "upper 2 , lower 8\n"
     ]
    }
   ],
   "source": [
    "#11\n",
    "\n",
    "a=\"Hello World\"\n",
    "count1=0\n",
    "count2=0\n",
    "for i in a:\n",
    "    if i.isupper():\n",
    "        count1 +=1\n",
    "    elif i.islower():\n",
    "        count2 +=1\n",
    "    else:\n",
    "        pass\n",
    "print(\"upper\",count1,\",\",\"lower\",count2)\n",
    "\n",
    "\n"
   ]
  },
  {
   "cell_type": "code",
   "execution_count": 29,
   "id": "56b93369",
   "metadata": {},
   "outputs": [
    {
     "name": "stdout",
     "output_type": "stream",
     "text": [
      "HEllow\n"
     ]
    }
   ],
   "source": [
    "#12\n",
    "a=\"heLLOW\"\n",
    "b=a.swapcase()\n",
    "print(b)"
   ]
  },
  {
   "cell_type": "code",
   "execution_count": 47,
   "id": "ab6619ed",
   "metadata": {},
   "outputs": [
    {
     "name": "stdout",
     "output_type": "stream",
     "text": [
      "anagram\n"
     ]
    }
   ],
   "source": [
    "a=\"vasudev\"\n",
    "b=\"evvasud\"\n",
    "if sorted(a)==sorted(b):\n",
    "        print(\"anagram\")\n",
    "else:\n",
    "        print(\"not anagram\")\n",
    "\n"
   ]
  },
  {
   "cell_type": "code",
   "execution_count": 41,
   "id": "f442db87",
   "metadata": {},
   "outputs": [
    {
     "name": "stdout",
     "output_type": "stream",
     "text": [
      "heow word\n"
     ]
    }
   ],
   "source": [
    "#14\n",
    "a=\"hellow world\"\n",
    "b=\"l\"\n",
    "c=a.replace(b,\"\")\n",
    "\n",
    "print(c)"
   ]
  },
  {
   "cell_type": "code",
   "execution_count": 52,
   "id": "7698d458",
   "metadata": {},
   "outputs": [
    {
     "name": "stdout",
     "output_type": "stream",
     "text": [
      "['v', 'a', 's', 'u', 'd', 'e', 'v', 'j', 'g']\n"
     ]
    }
   ],
   "source": [
    "a=\"vasudev jg\".replace(\" \",\"\")\n",
    "b=list(a)\n",
    "print(b)"
   ]
  },
  {
   "cell_type": "code",
   "execution_count": 3,
   "id": "5775cc42",
   "metadata": {},
   "outputs": [
    {
     "name": "stdout",
     "output_type": "stream",
     "text": [
      "hellow1324"
     ]
    }
   ],
   "source": [
    "a=\"hellow@1324\"\n",
    "\n",
    "for i in a:\n",
    "    if i.isalnum():\n",
    "        print(i,end=\"\")\n"
   ]
  },
  {
   "cell_type": "code",
   "execution_count": 2,
   "id": "e4f1ba60",
   "metadata": {},
   "outputs": [
    {
     "name": "stdout",
     "output_type": "stream",
     "text": [
      "h*ll*w\n",
      "aaabaa\n"
     ]
    }
   ],
   "source": [
    "trans=str.maketrans(\"aeiou\",\"*****\")\n",
    "text=\"hellow\"\n",
    "print(text.translate(trans))\n",
    "\n",
    "\n",
    "a=str.maketrans(\" \",\"c\")\n",
    "b=\"aaabaa\"\n",
    "print(b.translate(a))\n",
    "\n",
    "\n"
   ]
  },
  {
   "cell_type": "code",
   "execution_count": 22,
   "id": "793abf03",
   "metadata": {},
   "outputs": [
    {
     "name": "stdout",
     "output_type": "stream",
     "text": [
      "abcde\n"
     ]
    }
   ],
   "source": [
    "a=\"bcead\"\n",
    "print(\"\".join(sorted(a)))"
   ]
  },
  {
   "cell_type": "code",
   "execution_count": 56,
   "id": "17dc2082",
   "metadata": {},
   "outputs": [
    {
     "name": "stdout",
     "output_type": "stream",
     "text": [
      "{'a': 1, 'c': 6, 'b': 2, 'd': 2}\n",
      "b\n",
      "d\n"
     ]
    }
   ],
   "source": [
    "a=\"acbbcddcccc\"\n",
    "dict={}\n",
    "large=0\n",
    "sec=0\n",
    "for i in a:\n",
    "    dict[i]=a.count(i)\n",
    "print(dict)\n",
    "\n",
    "for y in dict.values():\n",
    "    if y>large:\n",
    "        large=y\n",
    "for y in dict.values():\n",
    "    if y>sec and y!=large:\n",
    "        sec=y\n",
    "\n",
    "for x,y in dict.items():\n",
    "    if y==sec:\n",
    "        print(x)\n",
    "\n"
   ]
  },
  {
   "cell_type": "code",
   "execution_count": 61,
   "id": "5c75fefb",
   "metadata": {},
   "outputs": [
    {
     "name": "stdout",
     "output_type": "stream",
     "text": [
      "valed\n"
     ]
    }
   ],
   "source": [
    "a=\"vasudev@gmail.com\"\n",
    "\n",
    "if \"@\" in a and \".\" in a :\n",
    "    print (\"valed\")\n"
   ]
  },
  {
   "cell_type": "code",
   "execution_count": 64,
   "id": "fa5e2d36",
   "metadata": {},
   "outputs": [
    {
     "name": "stdout",
     "output_type": "stream",
     "text": [
      "vasudev patidar is great\n",
      "vasudev  patidar   is great\n"
     ]
    }
   ],
   "source": [
    "a=\"vasudev  patidar   is great\"\n",
    "\n",
    "b= \" \".join(a.split())\n",
    "print(b)\n",
    "print(a)"
   ]
  },
  {
   "cell_type": "code",
   "execution_count": null,
   "id": "076b4811",
   "metadata": {},
   "outputs": [],
   "source": [
    "a=\"vasudev patidar is great\"\n",
    "\n",
    "b=[]\n",
    "c=''\n",
    "\n",
    "for i in a:\n",
    "    if i!=\" \":\n",
    "        c"
   ]
  },
  {
   "cell_type": "code",
   "execution_count": 67,
   "id": "39f54b72",
   "metadata": {},
   "outputs": [
    {
     "name": "stdout",
     "output_type": "stream",
     "text": [
      "['v', 's', 'd', 'v', 'p', 't', 'd', 'r']\n"
     ]
    }
   ],
   "source": [
    "a=\"vasudev patidar\"\n",
    "b=[]\n",
    "for i in a[::2]:\n",
    "    b.append(i)\n",
    "print(b)"
   ]
  },
  {
   "cell_type": "code",
   "execution_count": 68,
   "id": "afde6afe",
   "metadata": {},
   "outputs": [
    {
     "name": "stdout",
     "output_type": "stream",
     "text": [
      "['a', 'u', 'e', ' ', 'a', 'i', 'a']\n"
     ]
    }
   ],
   "source": [
    "a=\"vasudev patidar\"\n",
    "b=[]\n",
    "for i in a[1::2]:\n",
    "    b.append(i)\n",
    "print(b)"
   ]
  },
  {
   "cell_type": "code",
   "execution_count": null,
   "id": "9edd9f57",
   "metadata": {},
   "outputs": [
    {
     "name": "stdout",
     "output_type": "stream",
     "text": [
      "False\n"
     ]
    }
   ],
   "source": [
    "a=\"1234567\"\n",
    "print(a.isdigit())"
   ]
  },
  {
   "cell_type": "code",
   "execution_count": 77,
   "id": "60b328ff",
   "metadata": {},
   "outputs": [
    {
     "name": "stdout",
     "output_type": "stream",
     "text": [
      "numbers= 5\n",
      "charecter= 14\n",
      "symbol= 2\n"
     ]
    }
   ],
   "source": [
    "a=\"vasudev@gmai12345.com\".strip()\n",
    "count1=0\n",
    "count2=0\n",
    "count3=0\n",
    "for i in a:\n",
    "    if i.isdigit():\n",
    "        count1+=1\n",
    "    elif i.isalpha():\n",
    "        count2+=1\n",
    "    else:\n",
    "        count3+=1\n",
    "print(\"numbers=\",count1)\n",
    "print(\"charecter=\",count2)\n",
    "print(\"symbol=\",count3)\n"
   ]
  },
  {
   "cell_type": "code",
   "execution_count": 82,
   "id": "f15d6dcb",
   "metadata": {},
   "outputs": [
    {
     "name": "stdout",
     "output_type": "stream",
     "text": [
      " a ab abc  b bc  c "
     ]
    }
   ],
   "source": [
    "a='abc'\n",
    "\n",
    "for i in range(len(a)):\n",
    "    for j in range(i,len(a)+1):\n",
    "        print(a[i:j],end=' ')\n"
   ]
  },
  {
   "cell_type": "code",
   "execution_count": 83,
   "id": "146eaa55",
   "metadata": {},
   "outputs": [
    {
     "name": "stdout",
     "output_type": "stream",
     "text": [
      "Vasudev Patidar\n"
     ]
    }
   ],
   "source": [
    "a=\"vasudev patidar\".title()\n",
    "print(a)"
   ]
  },
  {
   "cell_type": "code",
   "execution_count": 85,
   "id": "0f79b9e3",
   "metadata": {},
   "outputs": [
    {
     "name": "stdout",
     "output_type": "stream",
     "text": [
      "wolleh dlrow yyh "
     ]
    }
   ],
   "source": [
    "#29\n",
    "a=\"hellow world hyy\".split()\n",
    "\n",
    "for i in a:\n",
    "    for j in i[::-1]:\n",
    "        print(j,end='')\n",
    "    print(\" \",end=\"\")\n"
   ]
  },
  {
   "cell_type": "code",
   "execution_count": 89,
   "id": "f1048a83",
   "metadata": {},
   "outputs": [
    {
     "name": "stdout",
     "output_type": "stream",
     "text": [
      "hello vasudev\n"
     ]
    }
   ],
   "source": [
    "#31\n",
    "\n",
    "a=\"HELLO Vasudev\"\n",
    "b=''\n",
    "for i in a:\n",
    "    if ord(i)>=65 and ord(i)<=90:\n",
    "        b+=chr(ord(i)+32)\n",
    "    else:\n",
    "        b+=i\n",
    "print(b)"
   ]
  },
  {
   "cell_type": "code",
   "execution_count": 95,
   "id": "82ca1eb8",
   "metadata": {},
   "outputs": [
    {
     "name": "stdout",
     "output_type": "stream",
     "text": [
      "True\n"
     ]
    }
   ],
   "source": [
    "a=\"vasudev esv\"\n",
    "\n",
    "if a[0]==a[-1]:\n",
    "    print(True)"
   ]
  },
  {
   "cell_type": "code",
   "execution_count": 97,
   "id": "8e33480a",
   "metadata": {},
   "outputs": [
    {
     "name": "stdout",
     "output_type": "stream",
     "text": [
      "wbtvefw"
     ]
    }
   ],
   "source": [
    "a=\"vasudev\"\n",
    "for i in a:\n",
    "    print(chr(ord(i)+1),end=\"\")"
   ]
  },
  {
   "cell_type": "code",
   "execution_count": 110,
   "id": "fdb1015f",
   "metadata": {},
   "outputs": [
    {
     "name": "stdout",
     "output_type": "stream",
     "text": [
      "vasudevpatidar"
     ]
    }
   ],
   "source": [
    "#34\n",
    "\n",
    "a=\"vasudev,patidar\"\n",
    "b=\"\"\n",
    "for i in a:\n",
    "    if i.isalpha() or i==\" \" or i.isdigit():\n",
    "        print(i,end=\"\")\n",
    "        #b+=i\n",
    "\n",
    "#print(b,end=\"\")\n",
    "\n"
   ]
  },
  {
   "cell_type": "code",
   "execution_count": null,
   "id": "965772d9",
   "metadata": {},
   "outputs": [],
   "source": [
    "#35list comprehension\n",
    "\n",
    "fruits = [\"apple\", \"banana\", \"cherry\", \"kiwi\", \"mango\"]\n",
    "\n",
    "newlist = [x for x in fruits if \"a\" in x]\n",
    "#list comprehension [expression loop condition]\n",
    "\n",
    "print(newlist)\n",
    "# Output: ['apple', 'banana', 'mango']"
   ]
  },
  {
   "cell_type": "code",
   "execution_count": 2,
   "id": "00f72e69",
   "metadata": {},
   "outputs": [
    {
     "name": "stdout",
     "output_type": "stream",
     "text": [
      "my_variable_name\n"
     ]
    }
   ],
   "source": [
    "#3️6️) Question: Convert camel case to snake case.\n",
    "I=\"myVariableName\"\n",
    "b=[I[0].lower()]\n",
    "\n",
    "for i in I[1:]:\n",
    "    if i.isupper():\n",
    "        b.append(\"_\")\n",
    "        b.append(i.lower())\n",
    "    else:\n",
    "        b.append(i)\n",
    "c=\"\".join(b)\n",
    "print(c)\n"
   ]
  },
  {
   "cell_type": "code",
   "execution_count": 2,
   "id": "03ec3168",
   "metadata": {},
   "outputs": [
    {
     "name": "stdout",
     "output_type": "stream",
     "text": [
      "{'python': 2, 'is': 1, 'fun': 1}\n"
     ]
    }
   ],
   "source": [
    "#3️8️) Question: Count occurrences of each word.\n",
    "a=\"python is fun python\".split()\n",
    "\n",
    "disc={}\n",
    "for i in a:\n",
    "    disc[i]=a.count(i)\n",
    "print(disc)\n"
   ]
  },
  {
   "cell_type": "code",
   "execution_count": null,
   "id": "5ab0073b",
   "metadata": {},
   "outputs": [],
   "source": [
    "#3️7️) Question: Check if one string is a rotation of another.\n",
    "I=\"abcd\"\n",
    "\n"
   ]
  },
  {
   "cell_type": "code",
   "execution_count": null,
   "id": "41c90241",
   "metadata": {},
   "outputs": [],
   "source": [
    "#3️9️)Question: Convert sentence to Pig Latin.\n",
    "I=\"python is fun\"\n",
    "\n"
   ]
  },
  {
   "cell_type": "markdown",
   "id": "23aeb0fe",
   "metadata": {},
   "source": [
    "37,39"
   ]
  },
  {
   "cell_type": "code",
   "execution_count": null,
   "id": "661b0cfa",
   "metadata": {},
   "outputs": [
    {
     "name": "stdout",
     "output_type": "stream",
     "text": [
      "[1, 2, 2, 3, 3, 3, 4, 4, 4, 4]\n"
     ]
    }
   ],
   "source": [
    "\n"
   ]
  },
  {
   "cell_type": "code",
   "execution_count": null,
   "id": "9eed7d9a",
   "metadata": {},
   "outputs": [
    {
     "name": "stdout",
     "output_type": "stream",
     "text": [
      "[1, 2, 6, 24]\n"
     ]
    }
   ],
   "source": [
    "\n"
   ]
  },
  {
   "cell_type": "code",
   "execution_count": null,
   "id": "49c07793",
   "metadata": {},
   "outputs": [
    {
     "name": "stdout",
     "output_type": "stream",
     "text": [
      "3\n"
     ]
    }
   ],
   "source": []
  },
  {
   "cell_type": "code",
   "execution_count": null,
   "id": "2d38ad47",
   "metadata": {},
   "outputs": [
    {
     "name": "stdout",
     "output_type": "stream",
     "text": [
      "[(1, 3), (1, 4), (2, 3), (2, 4)]\n"
     ]
    }
   ],
   "source": []
  }
 ],
 "metadata": {
  "kernelspec": {
   "display_name": "Python 3",
   "language": "python",
   "name": "python3"
  },
  "language_info": {
   "codemirror_mode": {
    "name": "ipython",
    "version": 3
   },
   "file_extension": ".py",
   "mimetype": "text/x-python",
   "name": "python",
   "nbconvert_exporter": "python",
   "pygments_lexer": "ipython3",
   "version": "3.13.2"
  }
 },
 "nbformat": 4,
 "nbformat_minor": 5
}
