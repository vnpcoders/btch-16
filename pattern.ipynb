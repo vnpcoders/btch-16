{
 "cells": [
  {
   "cell_type": "code",
   "execution_count": 6,
   "id": "d3fd1a51",
   "metadata": {},
   "outputs": [
    {
     "name": "stdout",
     "output_type": "stream",
     "text": [
      "*****\n",
      "****\n",
      "***\n",
      "**\n",
      "*\n",
      "\n",
      "*     \n",
      "**    \n",
      "***   \n",
      "****  \n",
      "***** \n",
      "******\n"
     ]
    }
   ],
   "source": [
    "a = int(input(\"enter the number \"))\n",
    "\n",
    "for i in range(1,a+1):\n",
    "    for j in range(a,i,-1):\n",
    "        print(\"*\", end=\"\")\n",
    "    for j in range(a-i,0,-1):\n",
    "        print(\"\", end=\"\")\n",
    "    print()\n",
    "for i in range(1,a+1):\n",
    "    for j in range(1,i+1):\n",
    "        print(\"*\", end=\"\")\n",
    "    for j in range(a-i,0,-1):\n",
    "        print(\" \", end=\"\")\n",
    "    print()\n"
   ]
  },
  {
   "cell_type": "code",
   "execution_count": 16,
   "id": "37e79a30",
   "metadata": {},
   "outputs": [
    {
     "name": "stdout",
     "output_type": "stream",
     "text": [
      "*****\n",
      " ****\n",
      "  ***\n",
      "   **\n",
      "    *\n"
     ]
    }
   ],
   "source": [
    "a = int(input(\"enter the number \"))\n",
    "for i in range(a,0,-1):\n",
    "    for j in range(i,a):\n",
    "        print(\" \", end=\"\")\n",
    "    for j in range(1,i+1):\n",
    "        print(\"*\", end=\"\")\n",
    "    print()"
   ]
  },
  {
   "cell_type": "code",
   "execution_count": null,
   "id": "06fc4cb6",
   "metadata": {},
   "outputs": [],
   "source": [
    "\n",
    "for i in range(1,a+1):\n",
    "    for j in range(a,i,-1):\n",
    "        print(\"*\", end=\"\")\n",
    "    for j in range(a-i,0,-1):\n",
    "        print(\"\", end=\"\")\n",
    "    print()\n",
    "for i in range(a,0,-1):\n",
    "    for j in range(i,a):\n",
    "        print(\" \", end=\"\")\n",
    "    for j in range(1,i+1):\n",
    "        print(\"*\", end=\"\")\n",
    "    print()"
   ]
  },
  {
   "cell_type": "code",
   "execution_count": 4,
   "id": "799c90d6",
   "metadata": {},
   "outputs": [
    {
     "name": "stdout",
     "output_type": "stream",
     "text": [
      "     *\n",
      "    ***\n",
      "   *****\n",
      "  *******\n",
      " *********\n"
     ]
    }
   ],
   "source": [
    "a=int(input(\"enter the number\"))\n",
    "\n",
    "for i in range(1,a):\n",
    "    for j in range(a,i,-1):\n",
    "        print(\" \",end=\"\")\n",
    "    \n",
    "    for j in range(i*2-1):\n",
    "        print(\"*\", end=\"\")\n",
    "    print()"
   ]
  },
  {
   "cell_type": "code",
   "execution_count": 7,
   "id": "54afedea",
   "metadata": {},
   "outputs": [
    {
     "name": "stdout",
     "output_type": "stream",
     "text": [
      "123456\n",
      "12345 \n",
      "1234  \n",
      "123   \n",
      "12    \n",
      "1     \n"
     ]
    }
   ],
   "source": [
    "a=6\n",
    "\n",
    "for i in range(a,0,-1):\n",
    "    for j in range(1,i+1):\n",
    "        print(j, end=\"\")\n",
    "    for j in range(a-i,0,-1):\n",
    "        print(\" \", end=\"\")\n",
    "    print()\n"
   ]
  },
  {
   "cell_type": "code",
   "execution_count": 33,
   "id": "35cefad5",
   "metadata": {},
   "outputs": [
    {
     "name": "stdout",
     "output_type": "stream",
     "text": [
      "       A\n",
      "      AB1\n",
      "     ABC21\n",
      "    ABCD321\n",
      "   ABCDE4321\n",
      "  ABCDEF54321\n",
      " ABCDEFG654321\n",
      "ABCDEFGH7654321\n",
      " 1234567654321\n",
      "  12345654321\n",
      "   123454321\n",
      "    1234321\n",
      "     12321\n",
      "      121\n",
      "       1\n"
     ]
    }
   ],
   "source": [
    "a=8\n",
    "\n",
    "for i in range(1,a+1):\n",
    "    for j in range(a-i):\n",
    "        print(\" \",end=\"\")\n",
    "    for k in range(1,i+1):\n",
    "        print(chr(64+k),end=\"\")\n",
    "    for k in range(i-1,0,-1):\n",
    "        print(k,end=\"\")\n",
    "    print()\n",
    "\n",
    "for i in range(a-1,0,-1):\n",
    "    for j in range(a-i):\n",
    "        print(\" \",end=\"\")\n",
    "    for k in range(1,i+1):\n",
    "        print(k,end=\"\")\n",
    "    for k in range(i-1,0,-1):\n",
    "        print(k,end=\"\")\n",
    "    print()\n"
   ]
  },
  {
   "cell_type": "code",
   "execution_count": 36,
   "id": "cf987929",
   "metadata": {},
   "outputs": [
    {
     "name": "stdout",
     "output_type": "stream",
     "text": [
      "      A\n",
      "     BBB\n",
      "    CCCCC\n",
      "   DDDDDDD\n",
      "  EEEEEEEEE\n"
     ]
    }
   ],
   "source": [
    "a=6\n",
    "for i in range(1,6):\n",
    "    print(\" \"*(a-i),chr(64+i)*(i*2-1))\n"
   ]
  },
  {
   "cell_type": "code",
   "execution_count": 41,
   "id": "0252d723",
   "metadata": {},
   "outputs": [
    {
     "name": "stdout",
     "output_type": "stream",
     "text": [
      "                     1  \n",
      "                  1  2  1  \n",
      "               1  2  3  2  1  \n",
      "            1  2  3  4  3  2  1  \n",
      "         1  2  3  4  5  4  3  2  1  \n",
      "      1  2  3  4  5  6  5  4  3  2  1  \n",
      "   1  2  3  4  5  6  7  6  5  4  3  2  1  \n",
      "1  2  3  4  5  6  7  8  7  6  5  4  3  2  1  \n"
     ]
    }
   ],
   "source": [
    "a=8\n",
    "\n",
    "for i in range(1,a+1):\n",
    "    for j in range(a-i):\n",
    "        print(\"   \",end=\"\")\n",
    "    for k in range(1,i+1):\n",
    "        print(k,\" \",end=\"\")\n",
    "    for k in range(i-1,0,-1):\n",
    "        print(k,\" \",end=\"\")\n",
    "    print()"
   ]
  },
  {
   "cell_type": "code",
   "execution_count": null,
   "id": "13c8b32c",
   "metadata": {},
   "outputs": [],
   "source": [
    "a=7\n",
    "\n",
    "for i in range(1,a+1):\n",
    "    for j in range(0,a-i):\n",
    "        print(' ',end='')\n",
    "    for k in range(i*2-1):\n",
    "        if k==0 or k==(i*2-2) or i==a:\n",
    "            print('*',end=\"\")\n",
    "        elif i==a:\n",
    "            print(' ',end=\"\")\n",
    "\n",
    "        else:\n",
    "            print(' ',end=\"\")\n",
    "    print()\n",
    "    \n",
    "    "
   ]
  },
  {
   "cell_type": "code",
   "execution_count": 77,
   "id": "3b08d299",
   "metadata": {},
   "outputs": [
    {
     "name": "stdout",
     "output_type": "stream",
     "text": [
      "      *\n",
      "     * *\n",
      "    *   *\n",
      "   *     *\n",
      "  *       *\n",
      " *         *\n",
      "* * * * * * *\n"
     ]
    }
   ],
   "source": [
    "a=7\n",
    "\n",
    "for i in range(1,a+1):\n",
    "    for j in range(0,a-i):\n",
    "        print(' ',end='')\n",
    "    for k in range(i*2-1):\n",
    "        if k==0 or k==(i*2-2):\n",
    "            print('*',end=\"\")\n",
    "        elif i==a:\n",
    "            if k%2==0:\n",
    "                print('*',end=\"\")\n",
    "            else:\n",
    "                print(' ',end=\"\")\n",
    "        else:\n",
    "            print(' ',end=\"\")\n",
    "    print()\n",
    "    \n",
    "    "
   ]
  },
  {
   "cell_type": "code",
   "execution_count": 83,
   "id": "16666e08",
   "metadata": {},
   "outputs": [
    {
     "name": "stdout",
     "output_type": "stream",
     "text": [
      "* * * * * * *\n",
      " *         *\n",
      "  *       *\n",
      "   *     *\n",
      "    *   *\n",
      "     * *\n",
      "      *\n"
     ]
    }
   ],
   "source": [
    "a=7\n",
    "\n",
    "for i in range(a,0,-1):\n",
    "    for j in range(0,a-i):\n",
    "        print(' ',end='')\n",
    "    for k in range(i*2-1):\n",
    "        if k==0 or k==(i*2-2):\n",
    "            print('*',end=\"\")\n",
    "        elif i==a:\n",
    "            if k%2==0:\n",
    "                print('*',end=\"\")\n",
    "            else:\n",
    "                print(' ',end=\"\")\n",
    "        else:\n",
    "            print(' ',end=\"\")\n",
    "    print()\n",
    "    \n",
    "    "
   ]
  },
  {
   "cell_type": "code",
   "execution_count": 93,
   "id": "b9da6caa",
   "metadata": {},
   "outputs": [
    {
     "name": "stdout",
     "output_type": "stream",
     "text": [
      "* * * * * * *\n",
      "**         *\n",
      "* *       *\n",
      "*  *     *\n",
      "*   *   *\n",
      "*    * *\n",
      "*     *\n",
      "*    * *\n",
      "*   *   *\n",
      "*  *     *\n",
      "* *       *\n",
      "**         *\n",
      "* * * * * * *\n"
     ]
    }
   ],
   "source": [
    "a=7\n",
    "\n",
    "for i in range(a,0,-1):\n",
    "    for j in range(0,a-i):\n",
    "        if j==0:\n",
    "            print('*',end='')\n",
    "        else:\n",
    "            print(' ',end='')\n",
    "    for k in range(i*2-1):\n",
    "        if k==0 or k==(i*2-2):\n",
    "            print('*',end=\"\")\n",
    "        elif i==a:\n",
    "            if k%2==0:\n",
    "                print('*',end=\"\")\n",
    "            else:\n",
    "                print(' ',end=\"\")\n",
    "        else:\n",
    "            print(' ',end=\"\")\n",
    "    print()\n",
    "    \n",
    "    \n",
    "\n",
    "for i in range(2,a+1):\n",
    "    for j in range(0,a-i):\n",
    "        if j==0:\n",
    "            print('*',end='')\n",
    "        else:\n",
    "            print(' ',end='')\n",
    "    for k in range(i*2-1):\n",
    "        if k==0 or k==(i*2-2):\n",
    "            print('*',end=\"\")\n",
    "        elif i==a:\n",
    "            if k%2==0:\n",
    "                print('*',end=\"\")\n",
    "            else:\n",
    "                print(' ',end=\"\")\n",
    "        else:\n",
    "            print(' ',end=\"\")\n",
    "    print()\n",
    "    "
   ]
  },
  {
   "cell_type": "code",
   "execution_count": null,
   "id": "5d969e4c",
   "metadata": {},
   "outputs": [],
   "source": []
  }
 ],
 "metadata": {
  "kernelspec": {
   "display_name": "Python 3",
   "language": "python",
   "name": "python3"
  },
  "language_info": {
   "codemirror_mode": {
    "name": "ipython",
    "version": 3
   },
   "file_extension": ".py",
   "mimetype": "text/x-python",
   "name": "python",
   "nbconvert_exporter": "python",
   "pygments_lexer": "ipython3",
   "version": "3.13.2"
  }
 },
 "nbformat": 4,
 "nbformat_minor": 5
}
