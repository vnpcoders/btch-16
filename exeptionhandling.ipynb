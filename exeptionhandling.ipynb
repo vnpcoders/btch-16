{
 "cells": [
  {
   "cell_type": "code",
   "execution_count": 1,
   "id": "faa0b666",
   "metadata": {},
   "outputs": [
    {
     "name": "stdout",
     "output_type": "stream",
     "text": [
      "error [Errno 2] No such file or directory: 'bottel.txt'\n"
     ]
    }
   ],
   "source": [
    "try:\n",
    "    with open (\"bottel.txt\")as file:\n",
    "        file.read()\n",
    "except Exception as arg:\n",
    "    print(\"error\",arg)"
   ]
  },
  {
   "cell_type": "code",
   "execution_count": null,
   "id": "11a1b52c",
   "metadata": {},
   "outputs": [],
   "source": []
  }
 ],
 "metadata": {
  "kernelspec": {
   "display_name": "Python 3",
   "language": "python",
   "name": "python3"
  },
  "language_info": {
   "codemirror_mode": {
    "name": "ipython",
    "version": 3
   },
   "file_extension": ".py",
   "mimetype": "text/x-python",
   "name": "python",
   "nbconvert_exporter": "python",
   "pygments_lexer": "ipython3",
   "version": "3.13.2"
  }
 },
 "nbformat": 4,
 "nbformat_minor": 5
}
