{
 "cells": [
  {
   "cell_type": "code",
   "execution_count": null,
   "id": "852fa7cf",
   "metadata": {},
   "outputs": [],
   "source": [
    "#sentex\n",
    "#class Myclass:\n",
    "\n",
    "#drived code\n",
    "#object=classname()\n"
   ]
  },
  {
   "cell_type": "code",
   "execution_count": 2,
   "id": "6526f02a",
   "metadata": {},
   "outputs": [
    {
     "name": "stdout",
     "output_type": "stream",
     "text": [
      "helow vasudev\n",
      "True\n"
     ]
    }
   ],
   "source": [
    "class Myclass:\n",
    "    print(\"helow vasudev\")\n",
    "\n",
    "ob=Myclass()\n",
    "ob\n",
    "print(isinstance(ob,Myclass))"
   ]
  },
  {
   "cell_type": "code",
   "execution_count": 3,
   "id": "4e841527",
   "metadata": {},
   "outputs": [
    {
     "name": "stdout",
     "output_type": "stream",
     "text": [
      "my name vasu\n",
      "my age 23\n"
     ]
    }
   ],
   "source": [
    "class Employ:\n",
    "    def __init__(self,Name,age):\n",
    "        self.Name=Name\n",
    "        self.age=age\n",
    "        print(\"my name\",Name)\n",
    "        print(\"my age\",age)\n",
    "emp=Employ(\"vasu\",23)\n",
    "\n",
    "        "
   ]
  },
  {
   "cell_type": "code",
   "execution_count": 6,
   "id": "89c4ec35",
   "metadata": {},
   "outputs": [
    {
     "name": "stdout",
     "output_type": "stream",
     "text": [
      "my name vasu\n",
      "my age 23\n"
     ]
    }
   ],
   "source": [
    "class Employ:\n",
    "    def __init__(self,Name,age):\n",
    "        self.Name=Name\n",
    "        self.age=age\n",
    "    def about(self):\n",
    "        print(\"my name\",self.Name)\n",
    "        print(\"my age\",self.age)\n",
    "emp=Employ(\"vasu\",23)\n",
    "emp.about()\n"
   ]
  },
  {
   "cell_type": "code",
   "execution_count": null,
   "id": "8c47c4df",
   "metadata": {},
   "outputs": [],
   "source": [
    "class School:\n",
    "    def __init__(self):\n",
    "        "
   ]
  },
  {
   "cell_type": "code",
   "execution_count": 8,
   "id": "2a4e646c",
   "metadata": {},
   "outputs": [
    {
     "name": "stdout",
     "output_type": "stream",
     "text": [
      "Bank name axis Bank\n",
      "location dewas\n",
      "Staph 45\n",
      "Bank name sbi Bank\n",
      "location indore\n",
      "Staph 51\n"
     ]
    }
   ],
   "source": [
    "class Banking:\n",
    "    def __init__(self,B_name,location,Size):\n",
    "        self.B_name=B_name\n",
    "        self.location=location\n",
    "        self.Size=Size\n",
    "    def show(self):\n",
    "        print(\"Bank name\",self.B_name)\n",
    "        print(\"location\",self.location)\n",
    "        print(\"Staph\",self.Size)\n",
    "\n",
    "bank=Banking(\"axis Bank\",\"dewas\",45)\n",
    "bank.show()\n",
    "bank=Banking(\"sbi Bank\",\"indore\",51)\n",
    "bank.show()\n"
   ]
  },
  {
   "cell_type": "code",
   "execution_count": 9,
   "id": "a8d93d99",
   "metadata": {},
   "outputs": [
    {
     "name": "stdout",
     "output_type": "stream",
     "text": [
      "Collage bura\n",
      "department nahi pata\n",
      "Hod ghatiya\n"
     ]
    }
   ],
   "source": [
    "class Collage:\n",
    "    def __init__(call,C_name,d_name,HOD,):\n",
    "        call.C_name=C_name\n",
    "        call.d_name=d_name\n",
    "        call.HOD=HOD\n",
    "\n",
    "    def btech(call):\n",
    "       \n",
    "        print(\"Collage\",call.C_name)\n",
    "        print(\"department\",call.d_name)\n",
    "        print(\"Hod\",call.HOD)\n",
    "b=Collage(\"bura\",\"nahi pata\",\"ghatiya\")\n",
    "b.btech()\n",
    "\n",
    "        "
   ]
  },
  {
   "cell_type": "code",
   "execution_count": 12,
   "id": "1d44cdc1",
   "metadata": {},
   "outputs": [
    {
     "name": "stdout",
     "output_type": "stream",
     "text": [
      "Name= Vasudev\n",
      "city= dewas\n",
      "salary= 2000000\n",
      "age= 23\n"
     ]
    }
   ],
   "source": [
    "class Vasu:\n",
    "    Name=\"Vasudev\"\n",
    "    city=\"dewas\"\n",
    "    def __init__(self,salary,age):\n",
    "        self.salary=salary\n",
    "        self.age=age\n",
    "    def about(self):\n",
    "        print(\"Name=\",self.Name)\n",
    "        print(\"city=\",self.city)\n",
    "        print(\"salary=\",self.salary)\n",
    "        print(\"age=\",self.age)\n",
    "v=Vasu(2000000,23)\n",
    "v.about()\n",
    "\n",
    "\n",
    "        "
   ]
  },
  {
   "cell_type": "code",
   "execution_count": 13,
   "id": "14fc6535",
   "metadata": {},
   "outputs": [
    {
     "name": "stdout",
     "output_type": "stream",
     "text": [
      "600\n"
     ]
    }
   ],
   "source": [
    "class Area:\n",
    "    def __init__(self,side1,side2):\n",
    "        self.side1=side1\n",
    "        self.side2=side2\n",
    "\n",
    "    def rectangal(self):\n",
    "        c=self.side1*self.side2\n",
    "        print(c)\n",
    "a=Area(24,25)\n",
    "a.rectangal()"
   ]
  },
  {
   "cell_type": "code",
   "execution_count": null,
   "id": "d83e36b9",
   "metadata": {},
   "outputs": [],
   "source": [
    "class Area:\n",
    "    def __init__(self,side1,side2):\n",
    "        self.side1=side1\n",
    "        self.side2=side2\n",
    "\n",
    "    def rectangal(self):\n",
    "        c=self.side1*self.side2\n",
    "        print(c)\n",
    "a=Area(24,25)\n",
    "a.rectangal()"
   ]
  },
  {
   "cell_type": "code",
   "execution_count": 3,
   "id": "6e0425a2",
   "metadata": {},
   "outputs": [
    {
     "name": "stdout",
     "output_type": "stream",
     "text": [
      "[0, 2]\n"
     ]
    }
   ],
   "source": [
    "class Solution(object):\n",
    "    def __init__(self, nums, target):\n",
    "        self.nums = nums\n",
    "        self.target = target\n",
    "        self.sum = []\n",
    "\n",
    "    def about(self):\n",
    "        for i in range(len(self.nums)):\n",
    "            for j in range(i + 1, len(self.nums)):\n",
    "                if self.nums[i] + self.nums[j] == self.target:\n",
    "                    self.sum.append(i)\n",
    "                    self.sum.append(j)\n",
    "                    print(self.sum)\n",
    "                    return  # Stop after finding the first pair\n",
    "b=[2,4,7,9]\n",
    "a = Solution(b, 9)\n",
    "a.about()"
   ]
  },
  {
   "cell_type": "code",
   "execution_count": null,
   "id": "67c72991",
   "metadata": {},
   "outputs": [
    {
     "ename": "TypeError",
     "evalue": "Solution() takes no arguments",
     "output_type": "error",
     "traceback": [
      "\u001b[31m---------------------------------------------------------------------------\u001b[39m",
      "\u001b[31mTypeError\u001b[39m                                 Traceback (most recent call last)",
      "\u001b[36mCell\u001b[39m\u001b[36m \u001b[39m\u001b[32mIn[5]\u001b[39m\u001b[32m, line 16\u001b[39m\n\u001b[32m     14\u001b[39m nums=\u001b[38;5;28mlist\u001b[39m(\u001b[38;5;28minput\u001b[39m(\u001b[33m\"\u001b[39m\u001b[33minter a number\u001b[39m\u001b[33m\"\u001b[39m))\n\u001b[32m     15\u001b[39m target=\u001b[38;5;28mint\u001b[39m(\u001b[38;5;28minput\u001b[39m(\u001b[33m\"\u001b[39m\u001b[33minter a number\u001b[39m\u001b[33m\"\u001b[39m))\n\u001b[32m---> \u001b[39m\u001b[32m16\u001b[39m a=\u001b[43mSolution\u001b[49m\u001b[43m(\u001b[49m\u001b[43mnums\u001b[49m\u001b[43m,\u001b[49m\u001b[43mtarget\u001b[49m\u001b[43m)\u001b[49m\n\u001b[32m     17\u001b[39m a.about()\n",
      "\u001b[31mTypeError\u001b[39m: Solution() takes no arguments"
     ]
    }
   ],
   "source": [
    "class Solution(object):\n",
    "    def __init__(self, nums, target):\n",
    "        self.nums = nums\n",
    "        self.target = target\n",
    "        self.sum = []\n",
    "\n",
    "    def about(self):\n",
    "        for i in range(len(self.nums)):\n",
    "            for j in range(i + 1, len(self.nums)):\n",
    "                if self.nums[i] + self.nums[j] == self.target:\n",
    "                    self.sum.append(i)\n",
    "                    self.sum.append(j)\n",
    "                    print(self.sum)\n",
    "                    return\n",
    "\n",
    "# Example usage:\n",
    "nums = [int(x) for x in input(\"Enter numbers separated by space: \").split()]\n",
    "target = int(input(\"Enter target number: \"))\n",
    "a = Solution(nums, target)\n",
    "a.about()"
   ]
  },
  {
   "cell_type": "code",
   "execution_count": null,
   "id": "6dcfb28f",
   "metadata": {},
   "outputs": [
    {
     "ename": "SyntaxError",
     "evalue": "invalid syntax (3216813561.py, line 1)",
     "output_type": "error",
     "traceback": [
      "  \u001b[36mCell\u001b[39m\u001b[36m \u001b[39m\u001b[32mIn[6]\u001b[39m\u001b[32m, line 1\u001b[39m\n\u001b[31m    \u001b[39m\u001b[31mGiven an array of integers nums and an integer target, return indices of the two numbers such that they add up to target.\u001b[39m\n          ^\n\u001b[31mSyntaxError\u001b[39m\u001b[31m:\u001b[39m invalid syntax\n"
     ]
    }
   ],
   "source": [
    "# Given an array of integers nums and an integer target, return indices of the two numbers such that they add up to target.\n",
    "# You may assume that each input would have exactly one solution, and you may not use the same element twice.\n",
    "\n",
    "def two_sum(nums, target):\n",
    "    for i in range(len(nums)):\n",
    "        for j in range(i + 1, len(nums)):\n",
    "            if nums[i] + nums[j] == target:\n",
    "                return [i, j]\n",
    "\n",
    "result = two_sum(b, target)\n",
    "print(result)"
   ]
  }
 ],
 "metadata": {
  "kernelspec": {
   "display_name": "Python 3",
   "language": "python",
   "name": "python3"
  },
  "language_info": {
   "codemirror_mode": {
    "name": "ipython",
    "version": 3
   },
   "file_extension": ".py",
   "mimetype": "text/x-python",
   "name": "python",
   "nbconvert_exporter": "python",
   "pygments_lexer": "ipython3",
   "version": "3.13.5"
  }
 },
 "nbformat": 4,
 "nbformat_minor": 5
}
