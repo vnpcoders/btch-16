{
 "cells": [
  {
   "cell_type": "code",
   "execution_count": 1,
   "id": "c86bf385",
   "metadata": {},
   "outputs": [
    {
     "data": {
      "text/plain": [
       "120"
      ]
     },
     "execution_count": 1,
     "metadata": {},
     "output_type": "execute_result"
    }
   ],
   "source": [
    "# 1. Write a function to calculate the factorial of a number.\n",
    "\n",
    "def factorial(a):\n",
    "    mul=1\n",
    "    for i in range(a,0,-1):\n",
    "        mul*=i\n",
    "    return mul\n",
    "factorial(5)\n",
    "    "
   ]
  },
  {
   "cell_type": "code",
   "execution_count": 2,
   "id": "45c086ad",
   "metadata": {},
   "outputs": [
    {
     "name": "stdout",
     "output_type": "stream",
     "text": [
      "prime number\n"
     ]
    }
   ],
   "source": [
    "# 2. Create a function to check if a number is prime.\n",
    "\n",
    "def prime (a):\n",
    "    for i in range(2,a):\n",
    "        \n",
    "        if a%i==0:\n",
    "            print(\"not a prime\")\n",
    "            break\n",
    "    else:\n",
    "        print(\"prime number\")\n",
    "prime(7)\n",
    "    \n"
   ]
  },
  {
   "cell_type": "code",
   "execution_count": 3,
   "id": "79989f7d",
   "metadata": {},
   "outputs": [
    {
     "name": "stdout",
     "output_type": "stream",
     "text": [
      "vedusav\n"
     ]
    }
   ],
   "source": [
    "# 3. Implement a function that reverses a string.\n",
    "\n",
    "def string(a):\n",
    "    print(a[len(a)-1::-1])\n",
    "\n",
    "string(\"vasudev\")\n"
   ]
  },
  {
   "cell_type": "code",
   "execution_count": 4,
   "id": "e16627cf",
   "metadata": {},
   "outputs": [
    {
     "data": {
      "text/plain": [
       "8"
      ]
     },
     "execution_count": 4,
     "metadata": {},
     "output_type": "execute_result"
    }
   ],
   "source": [
    "#4. Write a function to calculate the sum of digits in a number.\n",
    "\n",
    "def hes(a):\n",
    "    itam=a\n",
    "    sum=0\n",
    "    while itam>0:\n",
    "        digit=itam%10\n",
    "        sum+=digit\n",
    "        itam//=10\n",
    "    return sum\n",
    "\n",
    "hes(134)\n",
    "        \n",
    "\n"
   ]
  },
  {
   "cell_type": "code",
   "execution_count": 5,
   "id": "4751e4fa",
   "metadata": {},
   "outputs": [
    {
     "data": {
      "text/plain": [
       "10"
      ]
     },
     "execution_count": 5,
     "metadata": {},
     "output_type": "execute_result"
    }
   ],
   "source": [
    "# #5. Create a function to find the greatest common divisor (GCD) of two\n",
    "# numbers.\n",
    "\n",
    "def gcd(a,b):\n",
    "    while b!=0:\n",
    "        a,b=b,a%b\n",
    "    return a\n",
    "\n",
    "gcd(10,20)\n",
    "    \n"
   ]
  },
  {
   "cell_type": "code",
   "execution_count": 6,
   "id": "9a99a83f",
   "metadata": {},
   "outputs": [
    {
     "data": {
      "text/plain": [
       "2"
      ]
     },
     "execution_count": 6,
     "metadata": {},
     "output_type": "execute_result"
    }
   ],
   "source": [
    "#6. Implement a function that counts the occurrences of a character in a\n",
    "#string.\n",
    "def character(a,b):\n",
    "    count=0\n",
    "    for i in a:\n",
    "        if i==b:\n",
    "            count+=1\n",
    "    return count\n",
    "\n",
    "character(\"vasudev\",\"v\")"
   ]
  },
  {
   "cell_type": "code",
   "execution_count": 7,
   "id": "df3e2c85",
   "metadata": {},
   "outputs": [
    {
     "name": "stdout",
     "output_type": "stream",
     "text": [
      "palendrom\n"
     ]
    }
   ],
   "source": [
    "#7. Write a function to check if a string is a palindrome.\n",
    " \n",
    "def palindrome(a):\n",
    "    b=a[-1::-1]\n",
    "\n",
    "    if a==b:\n",
    "        print(\"palendrom\")\n",
    "    else:\n",
    "        print (\"not palendrom\")\n",
    "palindrome(\"naman\")"
   ]
  },
  {
   "cell_type": "code",
   "execution_count": 8,
   "id": "5a3e175b",
   "metadata": {},
   "outputs": [
    {
     "name": "stdout",
     "output_type": "stream",
     "text": [
      "0\n",
      "1\n",
      "1\n",
      "2\n",
      "3\n",
      "5\n",
      "8\n"
     ]
    }
   ],
   "source": [
    "#8. Create a function that generates a list of Fibonacci numbers.\n",
    "\n",
    "def fibonacci(a):\n",
    "    \n",
    "    b=0\n",
    "    c=1\n",
    "    while b<a:\n",
    "        print(b)\n",
    "        b,c=c,b+c\n",
    "    \n",
    "\n",
    "fibonacci(10)"
   ]
  },
  {
   "cell_type": "code",
   "execution_count": 9,
   "id": "c884ad8c",
   "metadata": {},
   "outputs": [
    {
     "data": {
      "text/plain": [
       "78.5"
      ]
     },
     "execution_count": 9,
     "metadata": {},
     "output_type": "execute_result"
    }
   ],
   "source": [
    "#9. Implement a function to calculate the area of a circle.\n",
    "\n",
    "def area(r):\n",
    "    area=3.14*r*r\n",
    "    return(area)\n",
    "\n",
    "area(5)\n"
   ]
  },
  {
   "cell_type": "code",
   "execution_count": 10,
   "id": "95b37793",
   "metadata": {},
   "outputs": [
    {
     "data": {
      "text/plain": [
       "[2, 3, 5, 6, 8]"
      ]
     },
     "execution_count": 10,
     "metadata": {},
     "output_type": "execute_result"
    }
   ],
   "source": [
    "# 10. Write a function that sorts a list of numbers using the bubble sort\n",
    "# algorithm.\n",
    "\n",
    "def bobalshort(*a):\n",
    "    I=list(a)\n",
    "    for i in range(len(I)):\n",
    "        for j in range(i+1, len(I)):\n",
    "            if I[i]>I[j]:\n",
    "                b=I[j]\n",
    "                I[j]=I[i]\n",
    "                I[i]=b\n",
    "    return I\n",
    "\n",
    "bobalshort(5,6,8,3,2)\n",
    "\n"
   ]
  },
  {
   "cell_type": "code",
   "execution_count": 11,
   "id": "fdbc1538",
   "metadata": {},
   "outputs": [
    {
     "data": {
      "text/plain": [
       "48.2"
      ]
     },
     "execution_count": 11,
     "metadata": {},
     "output_type": "execute_result"
    }
   ],
   "source": [
    "#11. Create a function to convert Celsius to Fahrenheit.\n",
    "\n",
    "def celsius(a):\n",
    "    f=(a*9/5)+32\n",
    "    return f\n",
    "celsius(int(input(\"entr the value\")))"
   ]
  },
  {
   "cell_type": "code",
   "execution_count": 12,
   "id": "13bfd728",
   "metadata": {},
   "outputs": [
    {
     "name": "stdout",
     "output_type": "stream",
     "text": [
      "3\n"
     ]
    }
   ],
   "source": [
    "# 12. Implement a function that finds the median of a list of numbers.\n",
    "def median(*a):\n",
    "    li=list(a)\n",
    "    \n",
    "    sorted(li)\n",
    "    if len(li)%2==0:\n",
    "        b=int((len(li))/2)-1\n",
    "        c=int((len(li)/2)+1)-1\n",
    "        d=(li[b]+li[c])/2\n",
    "        print(d)\n",
    "\n",
    "    elif len(li)%2!=0:\n",
    "      \n",
    "        h=(len(li)+1)/2\n",
    "        g=int(h-1)\n",
    "        e=li[g]\n",
    "        print(e)\n",
    "    \n",
    "\n",
    "median(1,2,3,4,5)\n",
    "\n",
    "\n"
   ]
  },
  {
   "cell_type": "code",
   "execution_count": 13,
   "id": "49517c7e",
   "metadata": {},
   "outputs": [
    {
     "name": "stdout",
     "output_type": "stream",
     "text": [
      "6 is the list multipal\n"
     ]
    },
    {
     "data": {
      "text/plain": [
       "6"
      ]
     },
     "execution_count": 13,
     "metadata": {},
     "output_type": "execute_result"
    }
   ],
   "source": [
    "#13. Write a function to find the least common multiple (LCM) of two\n",
    "#numbers.\n",
    "\n",
    "def lcm(a,b):\n",
    "    lcm=max(a,b)\n",
    "    while True:\n",
    "        if lcm%a==0 and lcm%b==0:\n",
    "            print(lcm,\"is the list multipal\")\n",
    "            break\n",
    "        lcm+=1\n",
    "    return lcm\n",
    "lcm(2,3)"
   ]
  },
  {
   "cell_type": "code",
   "execution_count": 14,
   "id": "57dd3abb",
   "metadata": {},
   "outputs": [
    {
     "name": "stdout",
     "output_type": "stream",
     "text": [
      "it is a anagram\n"
     ]
    }
   ],
   "source": [
    "#14. Create a function that checks if two strings are anagrams.\n",
    "def anagrams(a,b):\n",
    "    \n",
    "    \n",
    "    if sorted(a)==  sorted(b):\n",
    "        print (\"it is a anagram\")\n",
    "    else: \n",
    "        print(\"not a anagrasm\")\n",
    "\n",
    "anagrams(\"listen\",\"silent\")"
   ]
  },
  {
   "cell_type": "code",
   "execution_count": 15,
   "id": "7bb327b5",
   "metadata": {},
   "outputs": [
    {
     "data": {
      "text/plain": [
       "24"
      ]
     },
     "execution_count": 15,
     "metadata": {},
     "output_type": "execute_result"
    }
   ],
   "source": [
    "# 15. Implement a function to calculate the perimeter of a rectangle.\n",
    "\n",
    "def por(a,b):\n",
    "    c=2*(a+b)\n",
    "    return c\n",
    "\n",
    "por(5,7)\n",
    "\n"
   ]
  },
  {
   "cell_type": "code",
   "execution_count": 16,
   "id": "e8904df6",
   "metadata": {},
   "outputs": [
    {
     "name": "stdout",
     "output_type": "stream",
     "text": [
      "not a liap year\n"
     ]
    }
   ],
   "source": [
    "#16. Write a function to check if a year is a leap year.\n",
    "\n",
    "def leap_year(a):\n",
    "    if (a%4==0 and (a%100!=0 or a%400==0)):\n",
    "        print (\"liap year\")\n",
    "    else:\n",
    "        print(\"not a liap year\")\n",
    "\n",
    "leap_year(2027)"
   ]
  },
  {
   "cell_type": "code",
   "execution_count": 17,
   "id": "0be8531b",
   "metadata": {},
   "outputs": [],
   "source": [
    "#17. Create a function that calculates the power of a number using\n",
    "# recursion.\n",
    "\n"
   ]
  },
  {
   "cell_type": "code",
   "execution_count": 18,
   "id": "bd619a65",
   "metadata": {},
   "outputs": [
    {
     "data": {
      "text/plain": [
       "9"
      ]
     },
     "execution_count": 18,
     "metadata": {},
     "output_type": "execute_result"
    }
   ],
   "source": [
    "def find_max(lst):\n",
    "    max_elem = lst[0]\n",
    "    for num in lst:\n",
    "        if num > max_elem:\n",
    "            max_elem = num\n",
    "    return max_elem\n",
    "\n",
    "find_max([3, 7, 2, 9, 5])\n"
   ]
  },
  {
   "cell_type": "code",
   "execution_count": 19,
   "id": "74e0e030",
   "metadata": {},
   "outputs": [
    {
     "name": "stdout",
     "output_type": "stream",
     "text": [
      "not a liap year\n",
      "it is a anagram\n",
      "6 is the list multipal\n",
      "liap year\n"
     ]
    }
   ],
   "source": [
    "from module1 import leap_year\n",
    "\n",
    "leap_year(2024)\n"
   ]
  },
  {
   "cell_type": "code",
   "execution_count": 20,
   "id": "7973e36b",
   "metadata": {},
   "outputs": [
    {
     "data": {
      "text/plain": [
       "58.787753826796276"
      ]
     },
     "execution_count": 20,
     "metadata": {},
     "output_type": "execute_result"
    }
   ],
   "source": [
    "# Write a function to calculate the area of a triangle given its sides.\n",
    "def area(a,b,c):\n",
    "   s= (a+b+c)/2\n",
    "   area=(s*(s-a)*(s-b)*(s-c))**(1/2)\n",
    "   return area\n",
    "\n",
    "area(10,12,14)"
   ]
  },
  {
   "cell_type": "code",
   "execution_count": null,
   "id": "370d47da",
   "metadata": {},
   "outputs": [],
   "source": []
  }
 ],
 "metadata": {
  "kernelspec": {
   "display_name": "Python 3",
   "language": "python",
   "name": "python3"
  },
  "language_info": {
   "codemirror_mode": {
    "name": "ipython",
    "version": 3
   },
   "file_extension": ".py",
   "mimetype": "text/x-python",
   "name": "python",
   "nbconvert_exporter": "python",
   "pygments_lexer": "ipython3",
   "version": "3.13.5"
  }
 },
 "nbformat": 4,
 "nbformat_minor": 5
}
