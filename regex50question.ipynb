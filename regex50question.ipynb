{
 "cells": [
  {
   "cell_type": "code",
   "execution_count": 2,
   "id": "30cbf264",
   "metadata": {},
   "outputs": [
    {
     "name": "stdout",
     "output_type": "stream",
     "text": [
      "['info@example.com', 'support@company.org']\n"
     ]
    }
   ],
   "source": [
    "import re\n",
    "# Question 1: Extract all email addresses from a given text.\n",
    "# Test String: \"Contact us at info@example.com or support@company.org for\n",
    "# assistance.\"\n",
    "\n",
    "a= \"Contact us at info@example.com or support@company.org for assistance.\"\n",
    "pa=r'\\w+@\\w+.\\w+'\n",
    "r=re.findall(pa,a)\n",
    "print(r)"
   ]
  },
  {
   "cell_type": "code",
   "execution_count": 10,
   "id": "b6aa7219",
   "metadata": {},
   "outputs": [
    {
     "name": "stdout",
     "output_type": "stream",
     "text": [
      "['https://www.python.org', 'http://example.com for']\n"
     ]
    }
   ],
   "source": [
    "# Question 2: Find all valid URLs (http or https) in a string.\n",
    "# Test String: \"Visit https://www.python.org or http://example.com for more\n",
    "# info.\"\n",
    "a=\"Visit https://www.python.org or http://example.com for more info.\"\n",
    "b=r\"\\w+://\\w+.\\w+.\\w+|\\w+://\\w+.\\w\"\n",
    "h= re.findall(b,a)\n",
    "print(h)"
   ]
  },
  {
   "cell_type": "code",
   "execution_count": 14,
   "id": "dca7e426",
   "metadata": {},
   "outputs": [
    {
     "name": "stdout",
     "output_type": "stream",
     "text": [
      "['https://www.python.org', 'http://example.com']\n"
     ]
    }
   ],
   "source": [
    "\n",
    "    # Question 2: Find all valid URLs (http or https) in a string.\n",
    "# Test String: \"Visit https://www.python.org or http://example.com for more\n",
    "# info.\"\n",
    "a=\"Visit https://www.python.org or http://example.com for more info.\"\n",
    "b=r\"https://\\w+.\\w+.\\w+|http://\\w+.\\w+\"\n",
    "h= re.findall(b,a)\n",
    "print(h)\n"
   ]
  },
  {
   "cell_type": "code",
   "execution_count": 3,
   "id": "adc7629c",
   "metadata": {},
   "outputs": [
    {
     "name": "stdout",
     "output_type": "stream",
     "text": [
      "This is a  day for  Python regex!\n",
      "['#great', '#learning']\n"
     ]
    }
   ],
   "source": [
    "import re\n",
    "# Question 3: Problem: Extract all hashtags (words starting with #) from a tweet.\n",
    "# Test String: \"This is a #great day for #learning Python regex!\"\n",
    "a=\"This is a #great day for #learning Python regex!\"\n",
    "b=r\"#\\w+\"\n",
    "r=re.sub(b,\"\",a)\n",
    "h=re.findall(b,a)\n",
    "print(r)\n",
    "print(h)"
   ]
  },
  {
   "cell_type": "code",
   "execution_count": 20,
   "id": "40609953",
   "metadata": {},
   "outputs": [
    {
     "name": "stdout",
     "output_type": "stream",
     "text": [
      "['1999', '2003', '2023']\n"
     ]
    }
   ],
   "source": [
    "# Question 4: Problem: Find all four-digit years in a string. Test String: \"The years 1999,\n",
    "# 2005, and 2023 were significant.\"\n",
    "\n",
    "a=\"The years 1999,2003, and 2023 were significant.\"\n",
    "b=r'\\d{4}'\n",
    "h= re.findall(b,a)\n",
    "print(h)"
   ]
  },
  {
   "cell_type": "code",
   "execution_count": 32,
   "id": "bb67d4dc",
   "metadata": {},
   "outputs": [
    {
     "name": "stdout",
     "output_type": "stream",
     "text": [
      "['(123) 456-7890', '(987) 654-3210']\n"
     ]
    }
   ],
   "source": [
    "# Question 5: Problem: Extract all phone numbers in the format (XXX) XXX-XXXX. Test String:\n",
    "# \"Call us at (123) 456-7890 or (987) 654-3210.\"\n",
    "\n",
    "a=\"Call us at (123) 456-7890 or (987) 654-3210.\"\n",
    "b=r\"\\(\\d{3}\\) \\d{3}-\\d{4}\"\n",
    "h=re.findall(b,a)\n",
    "print(h)"
   ]
  },
  {
   "cell_type": "code",
   "execution_count": null,
   "id": "9f11542c",
   "metadata": {},
   "outputs": [
    {
     "name": "stdout",
     "output_type": "stream",
     "text": [
      "['256.0.0.1']\n",
      "True\n"
     ]
    }
   ],
   "source": [
    "import re\n",
    "# Question 6: Problem: Validate if a string is a valid IPv4 address. Test String 1:\n",
    "# \"192.168.1.1\" Test String 2: \"256.0.0.1\"\n",
    "\n",
    "a=\"192.168.1.1\"\n",
    "b=\"256.0.0.1\"\n",
    "c=r\"\\d{1,3}.\\d{1,3}.\\d{1,3}.\\d{1,3}\"\n",
    "h= re.findall(c,b)\n",
    "if h:\n",
    "    print(h)\n",
    "    print(True)\n"
   ]
  },
  {
   "cell_type": "code",
   "execution_count": 90,
   "id": "b2180965",
   "metadata": {},
   "outputs": [
    {
     "name": "stdout",
     "output_type": "stream",
     "text": [
      "java is fun. java is powerful. java is versatile.\n"
     ]
    }
   ],
   "source": [
    "# Question 7: Problem: Replace all occurrences of \"Python\" (case-insensitive) with \"Java\". Test\n",
    "# String: \"Python is fun. python is powerful. PYTHON is versatile.\"\n",
    "a=\"Python is fun. python is powerful. PYTHON is versatile.\"\n",
    "b=\"python\"\n",
    "r=re.sub(b,\"java\",a,flags=re.IGNORECASE)\n",
    "print(r)\n"
   ]
  },
  {
   "cell_type": "code",
   "execution_count": 49,
   "id": "7d4666ed",
   "metadata": {},
   "outputs": [
    {
     "name": "stdout",
     "output_type": "stream",
     "text": [
      "Hello World\n"
     ]
    }
   ],
   "source": [
    "# Question 8: Problem: Remove all leading and trailing whitespace from a string. Test String: \"\n",
    "# Hello World \"\n",
    "\n",
    "a=\" Hello World \"\n",
    "b=r\"\\w+\"\n",
    "c=re.findall(b,a)\n",
    "\n",
    "print(\" \".join(c))\n"
   ]
  },
  {
   "cell_type": "code",
   "execution_count": 51,
   "id": "a56c2147",
   "metadata": {},
   "outputs": [
    {
     "name": "stdout",
     "output_type": "stream",
     "text": [
      "This has too many spaces.\n"
     ]
    }
   ],
   "source": [
    "# Question 9: Problem: Replace multiple spaces with a single space. Test String: \"This has\n",
    "# too many spaces.\"\n",
    "a=\"This has    too many spaces.\"\n",
    "b=\" +\"\n",
    "r=re.sub(b,\" \",a)\n",
    "print(r)\n"
   ]
  },
  {
   "cell_type": "code",
   "execution_count": null,
   "id": "18ee26cb",
   "metadata": {},
   "outputs": [
    {
     "name": "stdout",
     "output_type": "stream",
     "text": [
      "[]\n"
     ]
    }
   ],
   "source": [
    "import re\n",
    "\n",
    "# Question 10: Problem: Capitalize the first letter of each word in a sentence. Test String:\n",
    "# \"hello world, how are you?\"\n",
    "# Use regex to capitalize the first letter of each word without using title() or capitalize()\n",
    "\n",
    "def capitalize_match(match):\n",
    "    return match.group(0)[0].upper() + match.group(0)[1:]\n",
    "\n",
    "result = re.sub(r'\\b\\w+\\b', capitalize_match, a)\n",
    "print(result)\n",
    "a=\"hello world, how are you?\"\n",
    "\n",
    "b=r'\\w \\w, \\w \\w \\w?'\n",
    "c=re.findall(b,a)\n",
    "print(c)"
   ]
  },
  {
   "cell_type": "code",
   "execution_count": 76,
   "id": "b5301218",
   "metadata": {},
   "outputs": [
    {
     "name": "stdout",
     "output_type": "stream",
     "text": [
      "username: user.name\n",
      "domain example.co.uk\n"
     ]
    }
   ],
   "source": [
    "# Question 11: Problem: Extract the username and domain from an email address. Test String:\n",
    "# \"user.name@example.co.uk\"\n",
    "a=\"user.name@example.co.uk\"\n",
    "b=r\"([\\w.]+)@([\\w.]+)\"\n",
    "c=re.match(b,a)\n",
    "if c:\n",
    "    username=c.group(1)\n",
    "    domain=c.group(2)\n",
    "    print(\"username:\",username)\n",
    "    print(\"domain\",domain)\n"
   ]
  },
  {
   "cell_type": "code",
   "execution_count": 63,
   "id": "f4aafcc1",
   "metadata": {},
   "outputs": [
    {
     "name": "stdout",
     "output_type": "stream",
     "text": [
      "['Precaution', 'presentation', 'preparation']\n"
     ]
    }
   ],
   "source": [
    "# Question 12: Problem: Find all words that start with \"pre\" and end with \"tion\". Test String:\n",
    "# \"Precaution and presentation are important for preparation.\"\n",
    "\n",
    "a=\"Precaution and presentation are important for preparation.\"\n",
    "b=r'\\bpre\\w*tion\\b'\n",
    "c=re.findall(b,a,re.IGNORECASE)\n",
    "print(c)\n"
   ]
  },
  {
   "cell_type": "code",
   "execution_count": 81,
   "id": "d84101f9",
   "metadata": {},
   "outputs": [
    {
     "name": "stdout",
     "output_type": "stream",
     "text": [
      "['10', '5.5']\n"
     ]
    }
   ],
   "source": [
    "# Question 13: Problem: Extract all numbers that are immediately followed by \"kg\". Test String:\n",
    "# \"The package weighs 10kg and another 5.5kg.\"\n",
    "a=\"The package weighs 10kg and another 5.5kg.\"\n",
    "b=r\"(\\d.?\\d)kg\"\n",
    "c=re.findall(b,a)\n",
    "print(c)"
   ]
  },
  {
   "cell_type": "code",
   "execution_count": 87,
   "id": "abcc60d3",
   "metadata": {},
   "outputs": [
    {
     "name": "stdout",
     "output_type": "stream",
     "text": [
      "['A', 'B', 'D']\n"
     ]
    }
   ],
   "source": [
    "# Question 14: Problem: Find all occurrences of words that have at least one digit in them. Test\n",
    "# String: \"Item A1, B23, and C are available. D4 is out of stock.\"\n",
    "a=\"Item A1, B23, and C are available. D4 is out of stock.\"\n",
    "b=r\"(\\w)\\d+\"\n",
    "c=re.findall(b,a)\n",
    "print(c)"
   ]
  },
  {
   "cell_type": "code",
   "execution_count": 94,
   "id": "71f34907",
   "metadata": {},
   "outputs": [
    {
     "name": "stdout",
     "output_type": "stream",
     "text": [
      "['Hello World', 'Goodbye.']\n"
     ]
    }
   ],
   "source": [
    "# Question 15: Problem: Extract content enclosed in double quotes. Test String: He said\n",
    "# \"Hello World\" and then \"Goodbye.\"\n",
    "a=\"'Hello World' and then 'Goodbye.'\"\n",
    "b=r\"'(\\w+\\s?\\w+\\.?)'\"\n",
    "c=re.findall(b,a)\n",
    "print(c)"
   ]
  },
  {
   "cell_type": "code",
   "execution_count": 99,
   "id": "22394793",
   "metadata": {},
   "outputs": [
    {
     "name": "stdout",
     "output_type": "stream",
     "text": [
      "['Rhythm', 'sky']\n"
     ]
    }
   ],
   "source": [
    "# Question 16: Problem: Find words that do not contain any vowels (a, e, i, o, u). Test String:\n",
    "# \"Rhythm and sky are unique words.\"\n",
    "a=\"Rhythm and sky are unique words.\"\n",
    "b=r\"\\b[^aeiou\\W]+\\b\"\n",
    "c=re.findall(b,a)\n",
    "print(c)\n"
   ]
  },
  {
   "cell_type": "code",
   "execution_count": 115,
   "id": "f70fe0aa",
   "metadata": {},
   "outputs": [
    {
     "name": "stdout",
     "output_type": "stream",
     "text": [
      "['50']\n"
     ]
    }
   ],
   "source": [
    "import re\n",
    "\n",
    "# Question 17: Problem: Extract all numbers that are NOT preceded by a dollar sign. Test\n",
    "# String: \"Price is $100. The quantity is 50. Discount is $20.\"\n",
    "\n",
    "a = \"Price is $100. The quantity is 50. Discount is $20.\"\n",
    "# Match numbers not preceded by a dollar sign\n",
    "b = r'(?<!\\$)\\b\\d+\\b'\n",
    "c = re.findall(b, a)\n",
    "print(c)\n"
   ]
  },
  {
   "cell_type": "code",
   "execution_count": 120,
   "id": "b2b9725d",
   "metadata": {},
   "outputs": [
    {
     "name": "stdout",
     "output_type": "stream",
     "text": [
      "['Apple', 'Grape', 'Mango']\n"
     ]
    }
   ],
   "source": [
    "# Question 18: Problem: Find words that are exactly 5 characters long. Test String: \"Apple,\n",
    "# Banana, Grape, Cherry, Mango\"\n",
    "a=\"Apple,Banana, Grape, Cherry, Mango\"\n",
    "b=r\"(\\w+)\"\n",
    "c= re.findall(b,a)\n",
    "print([i for i in c if len(i)==5])"
   ]
  },
  {
   "cell_type": "code",
   "execution_count": null,
   "id": "2aa387b4",
   "metadata": {},
   "outputs": [
    {
     "name": "stdout",
     "output_type": "stream",
     "text": [
      "['The', 'color', 'is', 'red', 'This', 'coloring', 'book', 'has', 'many', 'colors']\n"
     ]
    }
   ],
   "source": [
    "import re\n",
    "# Question 19: Problem: Replace all occurrences of \"color\" with \"colour\", but only if \"color\" is a\n",
    "# whole word. Test String: \"The color is red. This coloring book has many\n",
    "# colors.\"\n",
    "\n",
    "a=\"The color is red. This coloring book has many colors.\"\n",
    "b=r\"\\w+\"\n",
    "c=re.findall(b,a)\n",
    "print([i for i in c if i==color])"
   ]
  },
  {
   "cell_type": "code",
   "execution_count": 16,
   "id": "da358724",
   "metadata": {},
   "outputs": [
    {
     "name": "stdout",
     "output_type": "stream",
     "text": [
      "['important data', 'more data']\n"
     ]
    }
   ],
   "source": [
    "# Question 20: Problem: Extract text between <start> and <end> tags. Test String: \"This\n",
    "# is <start>important data</end> and this is <start>more data</end>.\"\n",
    "a=\"This is <start>important data</end> and this is <start>more data</end>.\"\n",
    "b=r\"<start>(\\w+.?\\w+)</end>\"\n",
    "c=re.findall(b,a)\n",
    "print(c)"
   ]
  },
  {
   "cell_type": "code",
   "execution_count": 6,
   "id": "38cd0103",
   "metadata": {},
   "outputs": [
    {
     "name": "stdout",
     "output_type": "stream",
     "text": [
      "[]\n"
     ]
    }
   ],
   "source": [
    "import re\n",
    "\n",
    "#  21: Problem: Find all words that contain at least three consecutive identical\n",
    "# characters. Test String: \"Bookkeeper, Mississippi, Yellow, Pudding, Success\"\n",
    "a = \"Bookkeeper, Mississippi, Yellow, Pudding, Success\"\n",
    "b = r'\\b\\w*(\\w)\\1\\1\\w*\\b'\n",
    "c = re.findall(b, a, re.IGNORECASE)\n",
    "words = re.findall(r'\\b\\w+\\b', a)\n",
    "result = [word for word in words if re.search(r'(.)\\1\\1', word, re.IGNORECASE)]\n",
    "print(result)\n"
   ]
  },
  {
   "cell_type": "code",
   "execution_count": 4,
   "id": "bbacf618",
   "metadata": {},
   "outputs": [
    {
     "name": "stdout",
     "output_type": "stream",
     "text": [
      "['5', '99', '0', '20']\n"
     ]
    }
   ],
   "source": [
    "import re\n",
    "# Question 22: Problem: Extract all numbers that are between 1 and 100 (inclusive). Test\n",
    "# String: \"Numbers are 5, 105, 99, 0, 750, and 20.\"\n",
    "a = \"Numbers are 5, 105, 99, 0, 750, and 20.\"\n",
    "\n",
    "# Regex to match numbers from 1 to 100 (inclusive)\n",
    "b = r'\\b(100|[1-9]?[0-9])\\b'\n",
    "c = re.findall(b,a)\n",
    "print(c)"
   ]
  },
  {
   "cell_type": "code",
   "execution_count": null,
   "id": "588e339a",
   "metadata": {},
   "outputs": [
    {
     "name": "stdout",
     "output_type": "stream",
     "text": [
      "['apple', 'tree']\n"
     ]
    }
   ],
   "source": [
    "import re\n",
    "\n",
    "# Question 23: Problem: Find all words that have exactly two vowels. Test String:\n",
    "# \"Beautiful, apple, tree, sky, rhythm, fantastic\"\n",
    "\n",
    "a = \"Beautiful, apple, tree, sky, rhythm, fantastic\"\n",
    "words = re.findall(r'\\b\\w+\\b', a)\n",
    "result = [word for word in words if len(re.findall(r'[aeiouAEIOU]', word)) == 2]\n",
    "print(result)\n",
    "#do it agen"
   ]
  },
  {
   "cell_type": "code",
   "execution_count": 39,
   "id": "b721ad31",
   "metadata": {},
   "outputs": [
    {
     "name": "stdout",
     "output_type": "stream",
     "text": [
      "True\n"
     ]
    }
   ],
   "source": [
    "import re\n",
    "a=\"04:00\"\n",
    "# 24-hour time regex: HH:MM where HH is 00-23 and MM is 00-59\n",
    "b = r'^(?:[01]\\d|2[0-3]):[0-5]\\d$'\n",
    "c = re.findall(b, a)\n",
    "if c:\n",
    "    print(True)\n",
    "else:\n",
    "    print(False)\n"
   ]
  },
  {
   "cell_type": "code",
   "execution_count": null,
   "id": "189d50c7",
   "metadata": {},
   "outputs": [],
   "source": [
    "# Question 24: Problem: Validate if a string represents a time in 24-hour format (HH:MM). Test\n",
    "# String 1: \"14:30\" Test String 2: \"25:00\"\n",
    "\n",
    "a=\"25:00\"\n",
    "b=\"[0-2]?[0-4]:[0-6]?[0-9]\"\n",
    "c=re.findall(b,a)\n",
    "if c:\n",
    "    print(True)"
   ]
  },
  {
   "cell_type": "code",
   "execution_count": 67,
   "id": "4b5271b7",
   "metadata": {},
   "outputs": [
    {
     "name": "stdout",
     "output_type": "stream",
     "text": [
      "['#FF0000', '#00F', '#AABBCC']\n"
     ]
    }
   ],
   "source": [
    "# Question 25: Problem: Extract all hexadecimal color codes (e.g., #RRGGBB or #RGB). Test\n",
    "# String: \"Colors include #FF0000, #00F, and #AABBCC.\"\n",
    "a=\"Colors include #FF0000, #00F, and #AABBCC.\"\n",
    "b=r\"#\\d+\\w+|#\\w+\\d+|#\\w+\"\n",
    "c=re.findall(b,a)\n",
    "print(c)"
   ]
  },
  {
   "cell_type": "code",
   "execution_count": 70,
   "id": "110e1754",
   "metadata": {},
   "outputs": [
    {
     "name": "stdout",
     "output_type": "stream",
     "text": [
      "['Level', 'Madam', 'Racecar', 'Noon']\n"
     ]
    }
   ],
   "source": [
    "# Question 26: Problem: Find all words that start and end with the same letter. Test String:\n",
    "# \"Level, Madam, Racecar, Noon, Hello, World\"\n",
    "a=\"Level, Madam, Racecar, Noon, Hello, World\"\n",
    "b=r\"\\w+\"\n",
    "c=re.findall(b,a)\n",
    "print([i for i in c if i[0].lower()==i[-1].lower()])"
   ]
  },
  {
   "cell_type": "code",
   "execution_count": 73,
   "id": "6977a80c",
   "metadata": {},
   "outputs": [
    {
     "name": "stdout",
     "output_type": "stream",
     "text": [
      "['05/07/2025', '12/01/2024']\n"
     ]
    }
   ],
   "source": [
    "# Question 27: Problem: Extract all dates in DD/MM/YYYY format. Test String: \"Today is\n",
    "# 05/07/2025. Another date is 12/01/2024.\"\n",
    "a=\"Today is 05/07/2025. Another date is 12/01/2024.\"\n",
    "b=r\"\\d\\d/\\d\\d/\\d\\d\\d\\d\"\n",
    "c=re.findall(b,a)\n",
    "if c:\n",
    "    print(c)"
   ]
  },
  {
   "cell_type": "code",
   "execution_count": null,
   "id": "b1ea6689",
   "metadata": {},
   "outputs": [
    {
     "name": "stdout",
     "output_type": "stream",
     "text": [
      "Hello__World__This_is_a_test__123_abc_\n"
     ]
    }
   ],
   "source": [
    "# Question 28: Problem: Replace all non-alphanumeric characters with an underscore. Test\n",
    "# String: \"Hello, World! This is a test. 123@abc.\"\n",
    "\n",
    "a=\"Hello, World! This is a test. 123@abc.\"\n",
    "b=\"[^A-Za-z0-9]\"\n",
    "c=re.sub(b,\"_\",a)\n",
    "print(c)\n"
   ]
  },
  {
   "cell_type": "code",
   "execution_count": 79,
   "id": "f94d542e",
   "metadata": {},
   "outputs": [
    {
     "name": "stdout",
     "output_type": "stream",
     "text": [
      "['Madam', 'level', 'racecar', 'noon', 'refer']\n"
     ]
    },
    {
     "name": "stderr",
     "output_type": "stream",
     "text": [
      "<>:4: SyntaxWarning: invalid escape sequence '\\w'\n",
      "<>:4: SyntaxWarning: invalid escape sequence '\\w'\n",
      "C:\\Users\\vasud\\AppData\\Local\\Temp\\ipykernel_15996\\2776314922.py:4: SyntaxWarning: invalid escape sequence '\\w'\n",
      "  b='\\w+'\n"
     ]
    }
   ],
   "source": [
    "# Question 29: Problem: Find all words that are palindromes (case-insensitive). Test String:\n",
    "# \"Madam, level, racecar, noon, refer, hello\"\n",
    "a=\"Madam, level, racecar, noon, refer, hello\"\n",
    "b='\\w+'\n",
    "c=re.findall(b,a)\n",
    "print([i for i in c if i[0::].lower()==i[-1::-1].lower()])"
   ]
  },
  {
   "cell_type": "code",
   "execution_count": 80,
   "id": "6ee68b7c",
   "metadata": {},
   "outputs": [
    {
     "name": "stdout",
     "output_type": "stream",
     "text": [
      "['John Doe', 'Jane Smith']\n"
     ]
    }
   ],
   "source": [
    "import re\n",
    "\n",
    "# Question 30: Problem: Extract the full name from a string in \"Lastname, Firstname\" format.\n",
    "# Test String: \"Doe, John and Smith, Jane were present.\"\n",
    "a = \"Doe, John and Smith, Jane were present.\"\n",
    "b = r'(\\w+), (\\w+)'\n",
    "c = re.findall(b, a)\n",
    "full_names = [f\"{first} {last}\" for last, first in c]\n",
    "print(full_names)"
   ]
  },
  {
   "cell_type": "code",
   "execution_count": 83,
   "id": "980a18ec",
   "metadata": {},
   "outputs": [
    {
     "name": "stdout",
     "output_type": "stream",
     "text": [
      "['500']\n"
     ]
    }
   ],
   "source": [
    "# Question 31: Problem: Extract all numbers that are followed by \" USD\". Test String: \"The\n",
    "# cost is 500 USD. The item is 123 EUR.\"\n",
    "a=\"The cost is 500 USD. The item is 123 EUR.\"\n",
    "b=r\"(\\d+) USD\"\n",
    "c=re.findall(b,a)\n",
    "print(c)"
   ]
  },
  {
   "cell_type": "code",
   "execution_count": 86,
   "id": "5fd5b5d8",
   "metadata": {},
   "outputs": [
    {
     "name": "stdout",
     "output_type": "stream",
     "text": [
      "[('quick', ''), ('', 'lazy')]\n"
     ]
    }
   ],
   "source": [
    "# Question 32: Problem: Find words that are preceded by \"The \". Test String: \"The quick\n",
    "# brown fox jumps over the lazy dog.\"\n",
    "a=\"The quick brown fox jumps over the lazy dog.\"\n",
    "b=r\"The (\\w+)|the (\\w+)\"\n",
    "c=re.findall(b,a)\n",
    "print(c)"
   ]
  },
  {
   "cell_type": "code",
   "execution_count": null,
   "id": "63469ae4",
   "metadata": {},
   "outputs": [],
   "source": [
    "# Question 33: Problem: Replace any sequence of three or more consecutive identical\n",
    "# characters with a single instance of that character. Test String: \"Heeelloo Wooorld!\n",
    "# Miiississippi\""
   ]
  },
  {
   "cell_type": "code",
   "execution_count": 88,
   "id": "7cf3be30",
   "metadata": {},
   "outputs": [
    {
     "name": "stdout",
     "output_type": "stream",
     "text": [
      "['content here', 'more']\n"
     ]
    },
    {
     "name": "stderr",
     "output_type": "stream",
     "text": [
      "<>:4: SyntaxWarning: invalid escape sequence '\\('\n",
      "<>:4: SyntaxWarning: invalid escape sequence '\\('\n",
      "C:\\Users\\vasud\\AppData\\Local\\Temp\\ipykernel_15996\\3937023424.py:4: SyntaxWarning: invalid escape sequence '\\('\n",
      "  b=\"\\((\\w+\\s?\\w+)\\)\"\n"
     ]
    }
   ],
   "source": [
    "# Question 34: Problem: Extract content inside parentheses, but only if they are not empty. Test\n",
    "# String: \"Some text (content here) and (more) but also () empty ones.\"\n",
    "a=\"Some text (content here) and (more) but also () empty ones.\"\n",
    "b=\"\\((\\w+\\s?\\w+)\\)\"\n",
    "c=re.findall(b,a)\n",
    "print(c)"
   ]
  },
  {
   "cell_type": "code",
   "execution_count": null,
   "id": "98984641",
   "metadata": {},
   "outputs": [
    {
     "name": "stdout",
     "output_type": "stream",
     "text": [
      "[]\n"
     ]
    },
    {
     "name": "stderr",
     "output_type": "stream",
     "text": [
      "<>:4: SyntaxWarning: invalid escape sequence '\\w'\n",
      "<>:4: SyntaxWarning: invalid escape sequence '\\w'\n",
      "C:\\Users\\vasud\\AppData\\Local\\Temp\\ipykernel_15996\\1676088415.py:4: SyntaxWarning: invalid escape sequence '\\w'\n",
      "  b=\"ing(\\w+ing\\w+)\"\n"
     ]
    }
   ],
   "source": [
    "# Question 35: Problem: Find all words that contain \"ing\" but not at the beginning or end of the\n",
    "# word. Test String: \"Singing, bring, running, amazing, thing, going\"\\\n",
    "a=\"Singing, bring, running, amazing, thing, going\"\n",
    "b=\"ing(\\w+ing\\w+)ing\"\n",
    "c=re.findall(b,a)\n",
    "print(c)"
   ]
  },
  {
   "cell_type": "code",
   "execution_count": null,
   "id": "d714375a",
   "metadata": {},
   "outputs": [],
   "source": [
    "#inharetance\n",
    "\n",
    "class Base:\n",
    "    def mobile(self):\n",
    "        print(\"this is my phone\")\n",
    "class Drevid(Base):\n",
    "    def charger(self):\n",
    "        "
   ]
  },
  {
   "cell_type": "code",
   "execution_count": 3,
   "id": "b21fe153",
   "metadata": {},
   "outputs": [
    {
     "name": "stdout",
     "output_type": "stream",
     "text": [
      "vasu\n",
      "Ram\n",
      "syam\n",
      "sundar\n"
     ]
    }
   ],
   "source": [
    "#multilavel\n",
    "class Grandparents:\n",
    "    def grend_parents(self):\n",
    "        print(\"Ram\")\n",
    "class parents(Grandparents):\n",
    "    def parents(self):\n",
    "        print(\"syam\")\n",
    "class Chaild(parents):\n",
    "    def Chaild(self):\n",
    "        print(\"sundar\")\n",
    "class sub_chaild(Chaild):\n",
    "    def subchaild(self):\n",
    "        print(\"vasu\")\n",
    "s=sub_chaild()\n",
    "s.subchaild()\n",
    "s.grend_parents()\n",
    "s.parents()\n",
    "s.Chaild()\n"
   ]
  },
  {
   "cell_type": "code",
   "execution_count": null,
   "id": "57eab058",
   "metadata": {},
   "outputs": [
    {
     "name": "stdout",
     "output_type": "stream",
     "text": [
      "Dog eat Biscuit\n",
      "Dog eat Biscuit\n",
      "all animal have eat some food\n"
     ]
    }
   ],
   "source": [
    "#matod overrideng\n",
    "class Animal:\n",
    "    def Eat(self):\n",
    "        print(\"all animal have eat some food\")\n",
    "class Dog(Animal):\n",
    "    def Eat(self):\n",
    "        print(\"Dog eat Biscuit\")\n",
    "aa=Animal()\n",
    "dd=Dog()\n",
    "dd.Eat()\n",
    "dd.Eat()\n",
    "aa.Eat()"
   ]
  },
  {
   "cell_type": "code",
   "execution_count": null,
   "id": "c3cab0d4",
   "metadata": {},
   "outputs": [
    {
     "ename": "TypeError",
     "evalue": "My.product() missing 1 required positional argument: 'd'",
     "output_type": "error",
     "traceback": [
      "\u001b[31m---------------------------------------------------------------------------\u001b[39m",
      "\u001b[31mTypeError\u001b[39m                                 Traceback (most recent call last)",
      "\u001b[36mCell\u001b[39m\u001b[36m \u001b[39m\u001b[32mIn[13]\u001b[39m\u001b[32m, line 11\u001b[39m\n\u001b[32m      9\u001b[39m         \u001b[38;5;28mprint\u001b[39m(p)\n\u001b[32m     10\u001b[39m m=My()\n\u001b[32m---> \u001b[39m\u001b[32m11\u001b[39m \u001b[43mm\u001b[49m\u001b[43m.\u001b[49m\u001b[43mproduct\u001b[49m\u001b[43m(\u001b[49m\u001b[32;43m20\u001b[39;49m\u001b[43m,\u001b[49m\u001b[32;43m25\u001b[39;49m\u001b[43m)\u001b[49m\n",
      "\u001b[31mTypeError\u001b[39m: My.product() missing 1 required positional argument: 'd'"
     ]
    }
   ],
   "source": [
    "class My:\n",
    "   \n",
    "    def product(self,a,b):#not posebal overloading\n",
    "        p = a * b\n",
    "        print(p)\n",
    "\n",
    "    def product(self,a,b,d):\n",
    "        p = a * b*d\n",
    "        print(p)\n",
    "m=My()\n",
    "m.product(20,25)"
   ]
  },
  {
   "cell_type": "code",
   "execution_count": null,
   "id": "0b372541",
   "metadata": {},
   "outputs": [
    {
     "name": "stdout",
     "output_type": "stream",
     "text": [
      "syam\n",
      "ram\n",
      "raghunath\n"
     ]
    }
   ],
   "source": [
    "#multipal inheritance\n",
    "\n",
    "class GreandFather:\n",
    "    def Grand_parents(self):\n",
    "        print(\"raghunath\")\n",
    "class Father:\n",
    "    def parents(self):\n",
    "        print(\"ram\")\n",
    "class Son(GreandFather,Father):\n",
    "    def baby(self):\n",
    "        print(\"syam\")\n",
    "ch=Son()\n",
    "ch.baby()\n",
    "ch.parents()\n",
    "ch.Grand_parents()\n"
   ]
  },
  {
   "cell_type": "code",
   "execution_count": 18,
   "id": "b5e30244",
   "metadata": {},
   "outputs": [
    {
     "name": "stdout",
     "output_type": "stream",
     "text": [
      "raghunath\n",
      "raghunath\n"
     ]
    }
   ],
   "source": [
    "class GreandFather:\n",
    "    def Grand_parents(self):\n",
    "        print(\"raghunath\")\n",
    "class Father(GreandFather):\n",
    "    def parents(self):\n",
    "        print(\"ram\")\n",
    "class Son(GreandFather):\n",
    "    def baby(self):\n",
    "        print(\"syam\")\n",
    "ch=Son()\n",
    "fh=Father()\n",
    "fh.Grand_parents()\n",
    "ch.Grand_parents()"
   ]
  },
  {
   "cell_type": "code",
   "execution_count": 20,
   "id": "74a57d64",
   "metadata": {},
   "outputs": [
    {
     "name": "stdout",
     "output_type": "stream",
     "text": [
      "calling\n",
      "calling\n"
     ]
    }
   ],
   "source": [
    "class Mobile:\n",
    "    def mobile(self):\n",
    "        print(\"calling\")\n",
    "class Vivo(Mobile):\n",
    "    def vivo(self):\n",
    "        print(\"less rate\")\n",
    "class MI(Mobile):\n",
    "    def mi(self):\n",
    "        print(\"high rati\")\n",
    "ch=MI()\n",
    "fh=Vivo()\n",
    "fh.mobile()\n",
    "ch.mobile()"
   ]
  },
  {
   "cell_type": "code",
   "execution_count": null,
   "id": "ad37d09d",
   "metadata": {},
   "outputs": [
    {
     "name": "stdout",
     "output_type": "stream",
     "text": [
      "high rati or quality\n",
      "calling\n",
      "less rate\n",
      "calling\n",
      "calling\n"
     ]
    }
   ],
   "source": [
    "class Mobile:\n",
    "    def mobile(self):       #hybret inheritance\n",
    "        print(\"calling\")\n",
    "class Vivo(Mobile):\n",
    "    def vivo(self):\n",
    "        print(\"less rate\")\n",
    "class MI(Mobile):\n",
    "    def mi(self):\n",
    "        print(\"high rati\")\n",
    "class Iphone(MI,Vivo):\n",
    "    def mi(self):\n",
    "        print(\"high rati or quality\")\n",
    "ch=MI()\n",
    "fh=Vivo()\n",
    "ip=Iphone()\n",
    "ip.mi()\n",
    "ip.mobile()\n",
    "ip.vivo()\n",
    "fh.mobile()\n",
    "ch.mobile()"
   ]
  },
  {
   "cell_type": "code",
   "execution_count": 22,
   "id": "bb931f4e",
   "metadata": {},
   "outputs": [
    {
     "name": "stdout",
     "output_type": "stream",
     "text": [
      "NewDelhi\n",
      "Hindi\n",
      "----------------------------------------------------------------------------------------------------\n",
      "paris\n",
      "franch\n",
      "----------------------------------------------------------------------------------------------------\n",
      "Bijing\n",
      "Renambi\n"
     ]
    }
   ],
   "source": [
    "class India:\n",
    "    def Capital(self):\n",
    "        print(\"NewDelhi\")\n",
    "    def Language(self):\n",
    "        print(\"Hindi\")\n",
    "class Franch:\n",
    "    def Capital(self):\n",
    "        print(\"paris\")\n",
    "    def Language(self):\n",
    "        print(\"franch\")\n",
    "class China:\n",
    "    def Capital(self):\n",
    "        print(\"Bijing\")\n",
    "    def Language(self):\n",
    "        print(\"Renambi\")\n",
    "\n",
    "In=India()\n",
    "In.Capital()\n",
    "In.Language()\n",
    "print(\"--\"*50)\n",
    "Fn=Franch()\n",
    "Fn.Capital()\n",
    "Fn.Language()\n",
    "print(\"--\"*50)\n",
    "cn=China()\n",
    "cn.Capital()\n",
    "cn.Language()\n",
    "\n"
   ]
  },
  {
   "cell_type": "code",
   "execution_count": 26,
   "id": "2ea41046",
   "metadata": {},
   "outputs": [
    {
     "name": "stdout",
     "output_type": "stream",
     "text": [
      "hyy\n",
      "public\n",
      "private\n",
      "protected\n"
     ]
    }
   ],
   "source": [
    "class Pub:\n",
    "    def pub(self):\n",
    "        print(\"public\")\n",
    "class _Pro:\n",
    "    def pro(self):\n",
    "        print(\"protected\")\n",
    "class __Pri:\n",
    "    def pri(self):\n",
    "        print(\"private\")\n",
    "\n",
    "class MY(Pub,_Pro,__Pri):\n",
    "    print(\"hyy\")\n",
    "c=MY()\n",
    "c.pub()\n",
    "c.pri()\n",
    "c.pro()\n",
    "\n",
    "\n"
   ]
  },
  {
   "cell_type": "code",
   "execution_count": 25,
   "id": "7ff96101",
   "metadata": {},
   "outputs": [
    {
     "name": "stdout",
     "output_type": "stream",
     "text": [
      "public\n",
      "privat\n"
     ]
    },
    {
     "ename": "AttributeError",
     "evalue": "'Pub' object has no attribute '__pro'",
     "output_type": "error",
     "traceback": [
      "\u001b[31m---------------------------------------------------------------------------\u001b[39m",
      "\u001b[31mAttributeError\u001b[39m                            Traceback (most recent call last)",
      "\u001b[36mCell\u001b[39m\u001b[36m \u001b[39m\u001b[32mIn[25]\u001b[39m\u001b[32m, line 11\u001b[39m\n\u001b[32m      9\u001b[39m c.pub()\n\u001b[32m     10\u001b[39m c._pri()\n\u001b[32m---> \u001b[39m\u001b[32m11\u001b[39m \u001b[43mc\u001b[49m\u001b[43m.\u001b[49m\u001b[43m__pro\u001b[49m()\n",
      "\u001b[31mAttributeError\u001b[39m: 'Pub' object has no attribute '__pro'"
     ]
    }
   ],
   "source": [
    "class Pub:\n",
    "    def pub(self):\n",
    "        print(\"public\")\n",
    "    def _pri(self):\n",
    "        print(\"privat\")\n",
    "    def __pro(self):\n",
    "        print(\"protected\")\n",
    "c=Pub()\n",
    "c.pub()\n",
    "c._pri()\n",
    "c.__pro()"
   ]
  },
  {
   "cell_type": "code",
   "execution_count": 28,
   "id": "f5c83833",
   "metadata": {},
   "outputs": [
    {
     "name": "stdout",
     "output_type": "stream",
     "text": [
      "30\n",
      "30\n"
     ]
    },
    {
     "ename": "AttributeError",
     "evalue": "'Pub' object has no attribute '__pri'",
     "output_type": "error",
     "traceback": [
      "\u001b[31m---------------------------------------------------------------------------\u001b[39m",
      "\u001b[31mAttributeError\u001b[39m                            Traceback (most recent call last)",
      "\u001b[36mCell\u001b[39m\u001b[36m \u001b[39m\u001b[32mIn[28]\u001b[39m\u001b[32m, line 14\u001b[39m\n\u001b[32m     12\u001b[39m c.pub()\n\u001b[32m     13\u001b[39m c._pro()\n\u001b[32m---> \u001b[39m\u001b[32m14\u001b[39m \u001b[43mc\u001b[49m\u001b[43m.\u001b[49m\u001b[43m__pri\u001b[49m()\n",
      "\u001b[31mAttributeError\u001b[39m: 'Pub' object has no attribute '__pri'"
     ]
    }
   ],
   "source": [
    "class Pub:\n",
    "    def __init__(self,a,b):\n",
    "        self.a=a\n",
    "        self.b=b\n",
    "    def pub(self):\n",
    "        print(self.a+self.b)\n",
    "    def _pro(self):\n",
    "        print(self.a+self.b)\n",
    "    def __pri(self):\n",
    "        print(self.a+self.b)\n",
    "c=Pub(10,20)\n",
    "c.pub()\n",
    "c._pro()\n",
    "c.__pri()"
   ]
  }
 ],
 "metadata": {
  "kernelspec": {
   "display_name": "Python 3",
   "language": "python",
   "name": "python3"
  },
  "language_info": {
   "codemirror_mode": {
    "name": "ipython",
    "version": 3
   },
   "file_extension": ".py",
   "mimetype": "text/x-python",
   "name": "python",
   "nbconvert_exporter": "python",
   "pygments_lexer": "ipython3",
   "version": "3.13.2"
  }
 },
 "nbformat": 4,
 "nbformat_minor": 5
}
