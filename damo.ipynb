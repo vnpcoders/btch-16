{
 "cells": [
  {
   "cell_type": "code",
   "execution_count": 1,
   "id": "75874b27",
   "metadata": {},
   "outputs": [
    {
     "name": "stdout",
     "output_type": "stream",
     "text": [
      "hellow\n"
     ]
    }
   ],
   "source": [
    "print(\"hellow\")"
   ]
  },
  {
   "cell_type": "code",
   "execution_count": null,
   "id": "fe36d648",
   "metadata": {},
   "outputs": [
    {
     "name": "stdout",
     "output_type": "stream",
     "text": [
      "<class 'int'>\n",
      "frozenset({1, 3, 4, 5, 6, 7, 9})\n",
      "<class 'dict'>\n"
     ]
    }
   ],
   "source": [
    "a =1 # int \n",
    "print(type(a))\n",
    "b = 2.3 # float\n",
    "print(type(b))\n",
    "c=\"heloo\" # string\n",
    "print(type(c))\n",
    "k= complex(3,4)# complex number\n",
    "print(type(k))\n",
    "r=frozenset([1,3,4,5,6,9,7]) #frozenset is immutable set\n",
    "print(r)\n",
    "p=  {\"car\":\"volvo\",\"year\":2020} #dictionary\n",
    "print(type(p))\n",
    "\n",
    "d = True # boolean\n",
    "e=None \n",
    "f =[1,3,4] # list\n",
    "g=(12,12,13) # tuple\n",
    "z= None # none type\n",
    "y= {1,2,3,4,5} #set\n",
    "\n",
    "\n"
   ]
  },
  {
   "cell_type": "code",
   "execution_count": 10,
   "id": "65d2fc74",
   "metadata": {},
   "outputs": [
    {
     "name": "stdout",
     "output_type": "stream",
     "text": [
      "The sum of the two numbers is: 58\n"
     ]
    }
   ],
   "source": [
    "a= int(input(\"Enter a number:\"))\n",
    "b = int(input(\"Enter another number: \"))\n",
    "print(\"The sum of the two numbers is:\", a + b)\n"
   ]
  },
  {
   "cell_type": "code",
   "execution_count": 1,
   "id": "34b1538f",
   "metadata": {},
   "outputs": [
    {
     "name": "stdout",
     "output_type": "stream",
     "text": [
      "range(0, 10)\n"
     ]
    }
   ],
   "source": [
    "var_1 = range(10)  # range object\n",
    "print(var_1)"
   ]
  },
  {
   "cell_type": "code",
   "execution_count": 6,
   "id": "6322cfe7",
   "metadata": {},
   "outputs": [
    {
     "name": "stdout",
     "output_type": "stream",
     "text": [
      "[5, 6, 7, 8, 9, 10, 11, 12, 13, 14]\n"
     ]
    }
   ],
   "source": [
    "var_2 = list(range(5, 15))  # another range object\n",
    "print(var_2)"
   ]
  },
  {
   "cell_type": "code",
   "execution_count": null,
   "id": "dbab213d",
   "metadata": {},
   "outputs": [
    {
     "name": "stdout",
     "output_type": "stream",
     "text": [
      "[5, 9, 13]\n"
     ]
    }
   ],
   "source": [
    "var_3 = list(range(5, 16, 4))  # this will raise an error because step cannot be zero or otherwise invalid\n",
    "print(var_3)  # this line will not be executed due to the error above"
   ]
  },
  {
   "cell_type": "code",
   "execution_count": 9,
   "id": "1476701a",
   "metadata": {},
   "outputs": [
    {
     "name": "stdout",
     "output_type": "stream",
     "text": [
      "honey\n",
      "<class 'str'>\n"
     ]
    }
   ],
   "source": [
    "true = \"honey\"\n",
    "name = true\n",
    "print(name)  # this will print \"honey\"\n",
    "print(type(name))  # this will print <class 'str'>, since 'name' is a string variable"
   ]
  },
  {
   "cell_type": "code",
   "execution_count": 11,
   "id": "e7caceff",
   "metadata": {},
   "outputs": [
    {
     "name": "stdout",
     "output_type": "stream",
     "text": [
      "True\n",
      "<class 'bool'>\n"
     ]
    }
   ],
   "source": [
    "t = True\n",
    "print(t)  # this will print \"honey\"\n",
    "print(type(t))  # this will print <class 'str'>, since 't' is also a string variable"
   ]
  },
  {
   "cell_type": "code",
   "execution_count": 18,
   "id": "a5f8e442",
   "metadata": {},
   "outputs": [
    {
     "name": "stdout",
     "output_type": "stream",
     "text": [
      "+++++\n",
      "*   *\n",
      "*   *\n",
      "*   *\n",
      "+++++\n"
     ]
    }
   ],
   "source": [
    "a= int(input(\"enter the number \"))\n",
    "\n",
    "for i in range(1,a):\n",
    "    for j in range(1,a):\n",
    "        if  i==a-1 or i==1:\n",
    "            print(\"+\", end=\"\")\n",
    "        elif j==1 or j==a-1:\n",
    "            print(\"*\",end=\"\")\n",
    "        else:\n",
    "            print(\" \", end=\"\") \n",
    "    print(\"\")   \n"
   ]
  },
  {
   "cell_type": "code",
   "execution_count": 26,
   "id": "27417832",
   "metadata": {},
   "outputs": [
    {
     "name": "stdout",
     "output_type": "stream",
     "text": [
      "*\n",
      "**\n",
      "* *\n",
      "*  *\n",
      "+++++\n",
      "******\n",
      "*******\n",
      "********\n",
      "*********\n"
     ]
    }
   ],
   "source": [
    "a = 10\n",
    "for i in range(1,a):\n",
    "    for j in range(1,i+1):\n",
    "        if  i==5:\n",
    "            print(\"+\", end=\"\")\n",
    "        elif i==3 and j==2 or i==4 and j==3 or i==4 and j==2:\n",
    "            print(\" \", end=\"\")\n",
    "        else:\n",
    "            print(\"*\", end=\"\")\n",
    "    print(\"\") "
   ]
  },
  {
   "cell_type": "code",
   "execution_count": 4,
   "id": "5b843323",
   "metadata": {},
   "outputs": [
    {
     "name": "stdout",
     "output_type": "stream",
     "text": [
      "The sum of x and y is: 3.5\n"
     ]
    }
   ],
   "source": [
    "x=True\n",
    "y=2.5\n",
    "sum= x+y\n",
    "print(\"The sum of x and y is:\", sum)"
   ]
  },
  {
   "cell_type": "code",
   "execution_count": null,
   "id": "d761ef20",
   "metadata": {},
   "outputs": [],
   "source": [
    "a= int(input(\"enter the number\"))\n",
    "\n",
    "if a== 2:\n",
    "    "
   ]
  }
 ],
 "metadata": {
  "kernelspec": {
   "display_name": "Python 3",
   "language": "python",
   "name": "python3"
  },
  "language_info": {
   "codemirror_mode": {
    "name": "ipython",
    "version": 3
   },
   "file_extension": ".py",
   "mimetype": "text/x-python",
   "name": "python",
   "nbconvert_exporter": "python",
   "pygments_lexer": "ipython3",
   "version": "3.13.2"
  }
 },
 "nbformat": 4,
 "nbformat_minor": 5
}
