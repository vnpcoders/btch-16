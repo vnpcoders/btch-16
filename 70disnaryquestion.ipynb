{
 "cells": [
  {
   "cell_type": "code",
   "execution_count": 8,
   "id": "748bcd90",
   "metadata": {},
   "outputs": [
    {
     "name": "stdout",
     "output_type": "stream",
     "text": [
      "{'a': 1, 'b': 2, 'c': 3, 'd': 4}\n"
     ]
    }
   ],
   "source": [
    "#1. Create a dictionary from two lists\n",
    "#Input: keys = ['a','b','c'], values = [1,2,3]\n",
    "a=[\"a\",'b','c','d']\n",
    "b=[1,2,3,4]\n",
    "c={}\n",
    "for i in range(len(a)):\n",
    "    c[a[i]]=b[i]\n",
    "print(c)"
   ]
  },
  {
   "cell_type": "code",
   "execution_count": 4,
   "id": "0d30a0c7",
   "metadata": {},
   "outputs": [
    {
     "name": "stdout",
     "output_type": "stream",
     "text": [
      "{'b': 1, 'a': 3, 'n': 2}\n"
     ]
    }
   ],
   "source": [
    "#2. Count frequency of each character in a string\n",
    "I= \"banana\"\n",
    "\n",
    "dict={}\n",
    "\n",
    "for i in I:\n",
    "    dict[i]=I.count(i)\n",
    "print(dict)\n"
   ]
  },
  {
   "cell_type": "code",
   "execution_count": 5,
   "id": "184887f3",
   "metadata": {},
   "outputs": [
    {
     "name": "stdout",
     "output_type": "stream",
     "text": [
      "{'x': 1, 'y': 2, 'z': 3}\n"
     ]
    }
   ],
   "source": [
    "#3. Merge two dictionaries\n",
    "I= {'x':1, 'y':2}\n",
    "j={'z':3}\n",
    "\n",
    "print(I|j)\n",
    "\n"
   ]
  },
  {
   "cell_type": "code",
   "execution_count": 6,
   "id": "00231b2f",
   "metadata": {},
   "outputs": [
    {
     "name": "stdout",
     "output_type": "stream",
     "text": [
      "{'b': 2}\n"
     ]
    }
   ],
   "source": [
    "#4 remove a key from dict\n",
    "\n",
    "A={\"a\":1,\"b\":2}\n",
    "A.pop(\"a\")\n",
    "print(A)"
   ]
  },
  {
   "cell_type": "code",
   "execution_count": 29,
   "id": "7241eaa1",
   "metadata": {},
   "outputs": [
    {
     "name": "stdout",
     "output_type": "stream",
     "text": [
      "b 30\n",
      "b 30\n"
     ]
    }
   ],
   "source": [
    "# 5. Find the key with the maximum value\n",
    "# Input: {'a':10, 'b':30, 'c':20}\n",
    "# Output: 'b'\n",
    "a={'a':10, 'b':30, 'c':20}\n",
    "b=max(a.values())\n",
    "for i in a:\n",
    "     if a[i]==b:\n",
    "         print(i,b)\n",
    "\n",
    "for key,val in a.items():\n",
    "     if a[key]==b:\n",
    "          print(key,val)\n"
   ]
  },
  {
   "cell_type": "code",
   "execution_count": 30,
   "id": "408d5d2f",
   "metadata": {},
   "outputs": [
    {
     "name": "stdout",
     "output_type": "stream",
     "text": [
      "6\n"
     ]
    }
   ],
   "source": [
    "# 6. Find the sum of all dictionary values\n",
    "# Input: {'a':1, 'b':2, 'c':3}\n",
    "# Output: 6\n",
    "a={'a':1, 'b':2, 'c':3}\n",
    "b= a.values()\n",
    "sum=0\n",
    "for i in b:\n",
    "    sum+=i\n",
    "print(sum)"
   ]
  },
  {
   "cell_type": "code",
   "execution_count": null,
   "id": "572f13f6",
   "metadata": {},
   "outputs": [
    {
     "name": "stdout",
     "output_type": "stream",
     "text": [
      "True\n"
     ]
    }
   ],
   "source": [
    "# 7. Check if a key exists in a dictionary\n",
    "# Input: {'a':1, 'b':2}, check 'b'\n",
    "# Output: True\n",
    "\n",
    "a={'a':1, 'b':2}\n",
    "b=\"b\"\n",
    "if a.get(b):\n",
    "    print(True)\n",
    "else:\n",
    "    print(False)"
   ]
  },
  {
   "cell_type": "code",
   "execution_count": 34,
   "id": "3fd5165d",
   "metadata": {},
   "outputs": [
    {
     "name": "stdout",
     "output_type": "stream",
     "text": [
      "dict_keys(['x', 'y'])\n"
     ]
    }
   ],
   "source": [
    "# 8. Get all keys from a dictionary\n",
    "# Input: {'x':1, 'y':2}\n",
    "# Output: ['x','y']\n",
    "a={'x':1, 'y':2}\n",
    "print(a.keys())"
   ]
  },
  {
   "cell_type": "code",
   "execution_count": null,
   "id": "0f744952",
   "metadata": {},
   "outputs": [
    {
     "name": "stdout",
     "output_type": "stream",
     "text": [
      "dict_values([1, 2])\n"
     ]
    }
   ],
   "source": [
    "# 9. Get all values from a dictionary\n",
    "# Input: {'x':1, 'y':2}\n",
    "# Output: [1,2]\n",
    "a={'x':1, 'y':2}\n",
    "print(a.values())"
   ]
  },
  {
   "cell_type": "code",
   "execution_count": 38,
   "id": "65a2ed3d",
   "metadata": {},
   "outputs": [
    {
     "name": "stdout",
     "output_type": "stream",
     "text": [
      "[5, 7, 8]\n"
     ]
    }
   ],
   "source": [
    "# 10. Convert dictionary values to list\n",
    "# Input: {'a':5, 'b':7, 'c':8}\n",
    "# Output: [5,7,8]\n",
    "a={'a':5, 'b':7, 'c':8}\n",
    "b=a.values()\n",
    "c=[val for key,val in a.items()]\n",
    "print(c)"
   ]
  },
  {
   "cell_type": "code",
   "execution_count": 2,
   "id": "6f232b2a",
   "metadata": {},
   "outputs": [
    {
     "name": "stdout",
     "output_type": "stream",
     "text": [
      "20.0\n"
     ]
    }
   ],
   "source": [
    "# 11. Find average of dictionary values\n",
    "# Input: {'a':10, 'b':20, 'c':30}\n",
    "# Output: 20.0\n",
    "a= {'a':10, 'b':20, 'c':30}\n",
    "l = len(a)\n",
    "s=sum(a.values())\n",
    "print(s/l)\n"
   ]
  },
  {
   "cell_type": "code",
   "execution_count": 13,
   "id": "3c06c131",
   "metadata": {},
   "outputs": [
    {
     "name": "stdout",
     "output_type": "stream",
     "text": [
      "[1, 2, 3]\n",
      "{'b': 1, 'c': 2, 'a': 3}\n"
     ]
    }
   ],
   "source": [
    "# 12. Sort a dictionary by its values\n",
    "# Input: {'a':3, 'b':1, 'c':2}\n",
    "# Output: {'b':1,'c':2,'a':3}\n",
    "\n",
    "a= {'a':3, 'b':1, 'c':2}\n",
    "\n",
    "b= [val for key,val in a.items()]\n",
    "s=sorted(b)\n",
    "c={}\n",
    "print(s)\n",
    "\n",
    "for i in s:\n",
    "    for key,val in a.items():\n",
    "        if i==val:\n",
    "            c[key]=val\n",
    "print(c)\n",
    "\n"
   ]
  },
  {
   "cell_type": "code",
   "execution_count": 16,
   "id": "b70362f3",
   "metadata": {},
   "outputs": [
    {
     "name": "stdout",
     "output_type": "stream",
     "text": [
      "['a', 'b']\n",
      "{'a': 2, 'b': 1}\n"
     ]
    }
   ],
   "source": [
    "# 13. Sort a dictionary by its keys\n",
    "# Input: {'b':2, 'a':1}\n",
    "# Output: {'a':1, 'b':2}\n",
    "\n",
    "Input= {'b':1, 'a':2}\n",
    "\n",
    "s=sorted(Input)\n",
    "print(s)\n",
    "dic={}\n",
    "for i in s:\n",
    "    dic[i]=Input[i]\n",
    "print(dic)"
   ]
  },
  {
   "cell_type": "code",
   "execution_count": 18,
   "id": "8be8d234",
   "metadata": {},
   "outputs": [
    {
     "name": "stdout",
     "output_type": "stream",
     "text": [
      "{'a': 1, 'b': 2}\n"
     ]
    }
   ],
   "source": [
    "# 14. Convert a formatted string to a dictionary\n",
    "# Input: 'a=1, b=2'\n",
    "# Output: {'a':1, 'b':2}\n",
    "\n",
    "a='a=1, b=2'\n",
    "disc={}\n",
    "for i in a:\n",
    "    if i.isalpha():\n",
    "        j=i \n",
    "    elif i.isdigit():\n",
    "        disc[j]=int(i) \n",
    "print(disc)\n",
    "\n"
   ]
  },
  {
   "cell_type": "code",
   "execution_count": 21,
   "id": "51ec3b51",
   "metadata": {},
   "outputs": [
    {
     "name": "stdout",
     "output_type": "stream",
     "text": [
      "a=1 b=2 \n",
      "a=1,b=2\n"
     ]
    }
   ],
   "source": [
    "# 15. Convert a dictionary to a string\n",
    "Input={'a':1, 'b':2}\n",
    "Output=\"\"\n",
    "\n",
    "for k,v in Input.items():\n",
    "    Output+=f'{k}={v} '\n",
    "\n",
    "print(Output)\n",
    "a=Output.strip()\n",
    "b=a.replace(\" \",\",\")\n",
    "print(b)\n"
   ]
  },
  {
   "cell_type": "code",
   "execution_count": 23,
   "id": "21cbf37e",
   "metadata": {},
   "outputs": [
    {
     "name": "stdout",
     "output_type": "stream",
     "text": [
      "['b']\n"
     ]
    }
   ],
   "source": [
    "# 16. Find common keys in two dictionaries\n",
    "# Input: {'a':1, 'b':2}, {'b':3, 'c':4}\n",
    "# Output: ['b']\n",
    "\n",
    "a={'a':1, 'b':2}\n",
    "b={'b':3, 'c':4}\n",
    "\n",
    "c=(a.keys()& b.keys())\n",
    "print(list(c))"
   ]
  },
  {
   "cell_type": "code",
   "execution_count": 31,
   "id": "c30a58ec",
   "metadata": {},
   "outputs": [
    {
     "name": "stdout",
     "output_type": "stream",
     "text": [
      "[2]\n",
      "[2]\n"
     ]
    }
   ],
   "source": [
    "# 17. Find common values in two dictionaries\n",
    "# Input: {'a':1,'b':2}, {'x':2,'y':3}\n",
    "# Output: [2]\n",
    "\n",
    "a={'a':1,'b':2}\n",
    "b={'x':2,'y':3}\n",
    "c=[]\n",
    "for k,v in a.items():\n",
    "    for k2,v2 in b.items():\n",
    "        if v==v2:\n",
    "            c.append(v)\n",
    "print(c)\n",
    "\n",
    "d=(set(a.values())& set(b.values()))\n",
    "print(list(d))"
   ]
  },
  {
   "cell_type": "code",
   "execution_count": 36,
   "id": "75fb05e7",
   "metadata": {},
   "outputs": [
    {
     "name": "stdout",
     "output_type": "stream",
     "text": [
      "Loop: ['a']\n",
      "set: ['a']\n"
     ]
    }
   ],
   "source": [
    "# 18. Find difference of keys in two dictionaries\n",
    "# Input: {'a':1, 'b':2}, {'b':2, 'c':3}\n",
    "# Output: ['a']\n",
    "a={'a':1,'b':2}\n",
    "b={'b':2,'c':3}\n",
    "c=[]\n",
    "for k,v in a.items():\n",
    "        if k not in b :\n",
    "            c.append(k)\n",
    "print(\"Loop:\",c)\n",
    "\n",
    "print(\"set:\",list(a.keys() - b.keys()))\n"
   ]
  },
  {
   "cell_type": "code",
   "execution_count": 38,
   "id": "cc6f7116",
   "metadata": {},
   "outputs": [
    {
     "name": "stdout",
     "output_type": "stream",
     "text": [
      "{'emp1': {'name': 'John', 'age': 30}}\n"
     ]
    }
   ],
   "source": [
    "# 19. Create a nested dictionary\n",
    "# Input: {'emp1':{'name':'John','age':30}}\n",
    "# Output: {'emp1':{'name':'John','age':30}}\n",
    "\n",
    "a={\"emp1\":{\n",
    "    \"name\":\"John\",\n",
    "    \"age\":30\n",
    "\n",
    "}}\n",
    "print(a)"
   ]
  },
  {
   "cell_type": "code",
   "execution_count": 40,
   "id": "f0fb3dbb",
   "metadata": {},
   "outputs": [
    {
     "name": "stdout",
     "output_type": "stream",
     "text": [
      "John\n"
     ]
    }
   ],
   "source": [
    "# 20. Access value inside nested dictionary\n",
    "# Input: {'emp1':{'name':'John','age':30}} get 'name'\n",
    "# Output: 'John'\n",
    "\n",
    "a={'emp1':{'name':'John','age':30}}\n",
    "get=\"name\"\n",
    "print(a['emp1'][get])"
   ]
  },
  {
   "cell_type": "code",
   "execution_count": 42,
   "id": "cb909e0d",
   "metadata": {},
   "outputs": [
    {
     "name": "stdout",
     "output_type": "stream",
     "text": [
      "{'emp1': {'name': 'John'}}\n"
     ]
    }
   ],
   "source": [
    "# 21. Delete a nested key from a dictionary\n",
    "# Input: {'emp1':{'name':'John','age':30}} remove 'age'\n",
    "# Output: {'emp1':{'name':'John'}}\n",
    "\n",
    "a={'emp1':{'name':'John','age':30}}\n",
    "r=\"age\"\n",
    "a[\"emp1\"].pop(r)\n",
    "print(a)"
   ]
  },
  {
   "cell_type": "code",
   "execution_count": 43,
   "id": "43937b74",
   "metadata": {},
   "outputs": [
    {
     "name": "stdout",
     "output_type": "stream",
     "text": [
      "3\n"
     ]
    }
   ],
   "source": [
    "# 22. Count number of keys in a dictionary\n",
    "# Input: {'a':1,'b':2,'c':3}\n",
    "# Output: 3\n",
    "I= {'a':1,'b':2,'c':3}\n",
    "print(len(I))"
   ]
  },
  {
   "cell_type": "code",
   "execution_count": 44,
   "id": "433f7afb",
   "metadata": {},
   "outputs": [
    {
     "name": "stdout",
     "output_type": "stream",
     "text": [
      "4\n"
     ]
    }
   ],
   "source": [
    "# 23. Count number of nested keys in a dictionary\n",
    "# Input: {'a':1, 'b':{'x':2,'y':3}}\n",
    "# Output: 4/\n",
    "a={'a':1, 'b':{'x':2,'y':3}}\n",
    "\n",
    "print(len(a)+len(a['b']))"
   ]
  },
  {
   "cell_type": "code",
   "execution_count": 45,
   "id": "582440f4",
   "metadata": {},
   "outputs": [
    {
     "name": "stdout",
     "output_type": "stream",
     "text": [
      "{'a': 20, 'b': 10}\n"
     ]
    }
   ],
   "source": [
    "# 24. Replace value of a key in a dictionary\n",
    "# Input: {'a':5, 'b':10}, change 'a' to 20\n",
    "# Output: {'a':20, 'b':10}\n",
    "\n",
    "a={'a':5, 'b':10}\n",
    "a['a']=20\n",
    "print(a)"
   ]
  },
  {
   "cell_type": "code",
   "execution_count": 49,
   "id": "6f968012",
   "metadata": {},
   "outputs": [
    {
     "name": "stdout",
     "output_type": "stream",
     "text": [
      "{1: 1, 2: 4, 3: 9, 4: 16, 5: 25}\n",
      "{1: 1, 2: 4, 3: 9, 4: 16, 5: 25}\n"
     ]
    }
   ],
   "source": [
    "# 25. Create dictionary using range\n",
    "# Input: range 1 to 5\n",
    "# # Output: {1:1, 2:4, 3:9, 4:16, 5:25}\n",
    "a={}\n",
    "for i in range(1,6):\n",
    "    a[i]= i**2\n",
    "\n",
    "print(a)\n",
    "\n",
    "b={i:i**2 for i in range(1,6)}\n",
    "print(b)"
   ]
  },
  {
   "cell_type": "code",
   "execution_count": 50,
   "id": "59a13cf0",
   "metadata": {},
   "outputs": [
    {
     "name": "stdout",
     "output_type": "stream",
     "text": [
      "{'a': 1, 'b': 2}\n"
     ]
    }
   ],
   "source": [
    "# 26. Convert list of tuples to a dictionary\n",
    "# Input: [('a',1), ('b',2)]\n",
    "# Output: {'a':1,'b':2}\n",
    "\n",
    "a=[('a',1),('b',2)]\n",
    "c=dict(a)\n",
    "print(c)"
   ]
  },
  {
   "cell_type": "code",
   "execution_count": 58,
   "id": "c832b211",
   "metadata": {},
   "outputs": [
    {
     "name": "stdout",
     "output_type": "stream",
     "text": [
      "[('a', 1), ('b', 2)]\n"
     ]
    }
   ],
   "source": [
    "# 27. Convert dictionary to list of tuples\n",
    "# Input: {'a':1, 'b':2}\n",
    "# Output: [('a',1), ('b',2)]\n",
    "\n",
    "a={'a':1, 'b':2}\n",
    "b=list(a.items())\n",
    "print(b)"
   ]
  },
  {
   "cell_type": "code",
   "execution_count": 59,
   "id": "f6b7ec15",
   "metadata": {},
   "outputs": [
    {
     "name": "stdout",
     "output_type": "stream",
     "text": [
      "b 5\n",
      "b 5\n"
     ]
    }
   ],
   "source": [
    "# 28. Find key with minimum value\n",
    "# Input: {'a':10, 'b':5, 'c':20}\n",
    "# Output: 'b'\n",
    "\n",
    "a={'a':10, 'b':5, 'c':20}\n",
    "b=min(a.values())\n",
    "for i in a:\n",
    "     if a[i]==b:\n",
    "         print(i,b)\n",
    "\n",
    "for key,val in a.items():\n",
    "     if a[key]==b:\n",
    "          print(key,val)\n"
   ]
  },
  {
   "cell_type": "code",
   "execution_count": 60,
   "id": "1045675b",
   "metadata": {},
   "outputs": [
    {
     "name": "stdout",
     "output_type": "stream",
     "text": [
      "b 15\n",
      "b 15\n"
     ]
    }
   ],
   "source": [
    "# 29. Find key with maximum value\n",
    "# Input: {'a':5, 'b':15, 'c':10}\n",
    "# Output: 'b'\n",
    "\n",
    "a={'a':5, 'b':15, 'c':10}\n",
    "b=max(a.values())\n",
    "for i in a:\n",
    "     if a[i]==b:\n",
    "         print(i,b)\n",
    "\n",
    "for key,val in a.items():\n",
    "     if a[key]==b:\n",
    "          print(key,val)\n"
   ]
  },
  {
   "cell_type": "code",
   "execution_count": 1,
   "id": "f59ce83d",
   "metadata": {},
   "outputs": [
    {
     "name": "stdout",
     "output_type": "stream",
     "text": [
      "6\n"
     ]
    }
   ],
   "source": [
    "# 30. Sum values in nested dictionary\n",
    "# Input: {'a':1,'b':{'x':2,'y':3}}\n",
    "# Output: 6\n",
    "\n",
    "a={'a':1,'b':{'x':2,'y':3}}\n",
    "total = 0\n",
    "for v in a.values():\n",
    "    if isinstance(v, dict):\n",
    "        total += sum(v.values())\n",
    "    else:\n",
    "        total += v\n",
    "print(total)\n"
   ]
  },
  {
   "cell_type": "code",
   "execution_count": 8,
   "id": "64a9e33d",
   "metadata": {},
   "outputs": [
    {
     "name": "stdout",
     "output_type": "stream",
     "text": [
      "it is present\n"
     ]
    }
   ],
   "source": [
    "# 31. Find value of a key if it exists else return default value\n",
    "# Input: {'a':5,'b':10}, find 'c' default 0\n",
    "# Output: 0\n",
    "\n",
    "z={'a':5,'b':10}\n",
    "\n",
    "if z.get('a')==None:\n",
    "    print(0)\n",
    "else:\n",
    "    print(\"it is present\")\n"
   ]
  },
  {
   "cell_type": "code",
   "execution_count": 19,
   "id": "fd039194",
   "metadata": {},
   "outputs": [
    {
     "name": "stdout",
     "output_type": "stream",
     "text": [
      "{1: ['a', 'c'], 2: ['b'], 3: ['d']}\n"
     ]
    }
   ],
   "source": [
    "# 32. Group identical values in a dictionary\n",
    "# Input: {'a':1,'b':2,'c':1,'d':3}\n",
    "# Output: {1:['a','c'],2:['b'],3:['d']}\n",
    "\n",
    "a={'a':1,'b':2,'c':1,'d':3}\n",
    "b={}\n",
    "\n",
    "for k,v in a.items():\n",
    "    if v not in b:\n",
    "        b[v]=[k]\n",
    "    else:\n",
    "        b[v].append(k)\n",
    "print(b)\n",
    "\n",
    "\n"
   ]
  },
  {
   "cell_type": "code",
   "execution_count": 21,
   "id": "7dba6aaf",
   "metadata": {},
   "outputs": [
    {
     "name": "stdout",
     "output_type": "stream",
     "text": [
      "{1: 'a', 2: 'b'}\n",
      "{1: 'a', 2: 'b'}\n"
     ]
    }
   ],
   "source": [
    "# 33. Swap keys and values in a dictionary\n",
    "# Input: {'a':1,'b':2}\n",
    "# Output: {1:'a',2:'b'}\n",
    "\n",
    "a={'a':1,'b':2}\n",
    "b={}\n",
    "\n",
    "for k,v in a.items():\n",
    "    b[v]=k\n",
    "print(b)\n",
    "\n",
    "c={v:k for k,v in a.items()}\n",
    "print(c)"
   ]
  },
  {
   "cell_type": "code",
   "execution_count": 22,
   "id": "d10868eb",
   "metadata": {},
   "outputs": [
    {
     "name": "stdout",
     "output_type": "stream",
     "text": [
      "24\n"
     ]
    }
   ],
   "source": [
    "# 34. Multiply all dictionary values\n",
    "# Input: {'a':2,'b':3,'c':4}\n",
    "# Output: 24\n",
    "\n",
    "a= {'a':2,'b':3,'c':4}\n",
    "mul=1\n",
    "for k,v in a.items():\n",
    "    mul*=v\n",
    "print(mul)"
   ]
  },
  {
   "cell_type": "code",
   "execution_count": 26,
   "id": "5fbb5087",
   "metadata": {},
   "outputs": [
    {
     "name": "stdout",
     "output_type": "stream",
     "text": [
      "[('a', 1), ('b', 2)]\n"
     ]
    }
   ],
   "source": [
    "# 35. Get items of dictionary as a list\n",
    "# Input: {'a':1, 'b':2}\n",
    "# Output: [('a',1), ('b',2)]\n",
    "\n",
    "a={'a':1, 'b':2}\n",
    "\n",
    "d=list(a.items())\n",
    "print(d)\n",
    "\n"
   ]
  },
  {
   "cell_type": "code",
   "execution_count": 28,
   "id": "feadec48",
   "metadata": {},
   "outputs": [
    {
     "name": "stdout",
     "output_type": "stream",
     "text": [
      "{'a': 1, 'b': 2}\n"
     ]
    }
   ],
   "source": [
    "# 36. Remove duplicate values from a dictionary\n",
    "# Input: {'a':1, 'b':2, 'c':1}\n",
    "# Output: {'a':1, 'b':2}\n",
    "a= {'a':1, 'b':2, 'c':1}\n",
    "c={}\n",
    "for k,v in a.items():\n",
    "    if v not in c.values():\n",
    "        c[k]=v\n",
    "print(c)"
   ]
  },
  {
   "cell_type": "code",
   "execution_count": 29,
   "id": "fc64d5fc",
   "metadata": {},
   "outputs": [
    {
     "name": "stdout",
     "output_type": "stream",
     "text": [
      "3\n"
     ]
    }
   ],
   "source": [
    "# 37. Get length of dictionary\n",
    "# Input: {'a':1, 'b':2, 'c':3}\n",
    "# Output: 3\n",
    "\n",
    "a={'a':1, 'b':2, 'c':3}\n",
    "print(len(a))"
   ]
  },
  {
   "cell_type": "code",
   "execution_count": 33,
   "id": "0ee38a7e",
   "metadata": {},
   "outputs": [
    {
     "name": "stdout",
     "output_type": "stream",
     "text": [
      "{'a': 1, 'b': 2, 'c': 3}\n"
     ]
    }
   ],
   "source": [
    "# 38. Add new key and value to dictionary\n",
    "# Input: {'a':1, 'b':2}, add 'c':3\n",
    "# Output: {'a':1, 'b':2, 'c':3}\n",
    "\n",
    "a= {'a':1, 'b':2}\n",
    "a.update({\"c\":3})\n",
    "print(a)"
   ]
  },
  {
   "cell_type": "code",
   "execution_count": 34,
   "id": "e490bbef",
   "metadata": {},
   "outputs": [
    {
     "name": "stdout",
     "output_type": "stream",
     "text": [
      "{}\n"
     ]
    }
   ],
   "source": [
    "# 39. Clear a dictionary\n",
    "# Input: {'a':1, 'b':2}\n",
    "# Output: {}\n",
    "\n",
    "a= {'a':1, 'b':2}\n",
    "a.clear()\n",
    "print(a)"
   ]
  },
  {
   "cell_type": "code",
   "execution_count": 39,
   "id": "e9c60e0f",
   "metadata": {},
   "outputs": [
    {
     "name": "stdout",
     "output_type": "stream",
     "text": [
      "True\n"
     ]
    }
   ],
   "source": [
    "# 40. Check if dictionary is empty\n",
    "# Input: {}\n",
    "# Output: True\n",
    "a={}\n",
    "if len(a):\n",
    "    print(False)\n",
    "else:\n",
    "    print(True)\n",
    "\n",
    "\n"
   ]
  },
  {
   "cell_type": "code",
   "execution_count": 44,
   "id": "1721f3a4",
   "metadata": {},
   "outputs": [
    {
     "name": "stdout",
     "output_type": "stream",
     "text": [
      "10\n"
     ]
    }
   ],
   "source": [
    "# 41. Find sum of values in nested lists inside a dictionary\n",
    "# Input: {'a':[1,2], 'b':[3,4]}\n",
    "# Output: 10\n",
    "\n",
    "a= {'a':[1,2], 'b':[3,4]}\n",
    "s=0\n",
    "for v in a.values():\n",
    "    if type(v)==list:\n",
    "        s+=sum(v)\n",
    "print(s)"
   ]
  },
  {
   "cell_type": "code",
   "execution_count": 46,
   "id": "5e9de67c",
   "metadata": {},
   "outputs": [
    {
     "name": "stdout",
     "output_type": "stream",
     "text": [
      "2\n"
     ]
    }
   ],
   "source": [
    "# 42. Count number of nested dictionaries\n",
    "# Input: {'a':1, 'b':{'x':5}, 'c':{'y':7}}\n",
    "# Output: 2/\n",
    "\n",
    "a= {'a':1, 'b':{'x':5}, 'c':{'y':7}}\n",
    "c=0\n",
    "for i in a.values():\n",
    "    if type(i)==dict:\n",
    "        c+=1\n",
    "print(c)"
   ]
  },
  {
   "cell_type": "code",
   "execution_count": 2,
   "id": "880fc298",
   "metadata": {},
   "outputs": [
    {
     "name": "stdout",
     "output_type": "stream",
     "text": [
      "0\n"
     ]
    }
   ],
   "source": [
    "# 43. Use get method to safely access value\n",
    "# Input: {'a':10}, get 'b' default 0\n",
    "# Output: 0\n",
    "\n",
    "a={'a':10}\n",
    "\n",
    "if a.get('b')==None:\n",
    "    print(0)\n",
    "else:\n",
    "    print(\"somthing is hear\")"
   ]
  },
  {
   "cell_type": "code",
   "execution_count": null,
   "id": "f5bf85ba",
   "metadata": {},
   "outputs": [
    {
     "name": "stdout",
     "output_type": "stream",
     "text": [
      "not i\n"
     ]
    }
   ],
   "source": [
    "# 44. Check if two dictionaries are identical\n",
    "# Input: {'a':1,'b':2}, {'a':1,'b':2}\n",
    "# Output: True\n",
    "a= {'a':1,'b':2}\n",
    "b= {'a':1,'b':2} \n",
    "if a==b:\n",
    "    print(\"identical\")\n",
    "else:\n",
    "    print (\"not i\")"
   ]
  },
  {
   "cell_type": "code",
   "execution_count": 52,
   "id": "f1877476",
   "metadata": {},
   "outputs": [
    {
     "name": "stdout",
     "output_type": "stream",
     "text": [
      "{'a': 0, 'b': 3, 'c': 0}\n"
     ]
    }
   ],
   "source": [
    "#  #45.Replace all values greater than 5 with 0\n",
    "# Input: {'a':7,'b':3,'c':10}\n",
    "# Output: {'a':0,'b':3,'c':0}\n",
    "\n",
    "a={'a':7,'b':3,'c':10}\n",
    "\n",
    "for i in a:\n",
    "    if a[i]>5:\n",
    "        a[i]=0\n",
    "print(a)"
   ]
  },
  {
   "cell_type": "code",
   "execution_count": 53,
   "id": "a5c70f6d",
   "metadata": {},
   "outputs": [
    {
     "name": "stdout",
     "output_type": "stream",
     "text": [
      "24\n"
     ]
    }
   ],
   "source": [
    "# 46. Find product of all values in dictionary\n",
    "# Input: {'a':2,'b':3,'c':4}\n",
    "# Output: 24\n",
    "\n",
    "a={'a':2,'b':3,'c':4}\n",
    "p=1\n",
    "for v in a.values():\n",
    "    p*=v\n",
    "print(p)"
   ]
  },
  {
   "cell_type": "code",
   "execution_count": null,
   "id": "331bf5ec",
   "metadata": {},
   "outputs": [
    {
     "name": "stdout",
     "output_type": "stream",
     "text": [
      "{'b', 'a', 'c'}\n"
     ]
    }
   ],
   "source": [
    "# 47. Get unique keys from a list of dictionaries\n",
    "# Input: [{'a':1,'b':2},{'b':3,'c':4}]\n",
    "# Output: ['a','b','c']\n",
    "\n",
    "a=[{'a':1,'b':2},{'b':3,'c':4}]\n",
    "b={}\n",
    "for i in a:\n",
    "    b=i|b #b+=i #pipi oprater\n",
    "print({i for i in b.keys()})"
   ]
  },
  {
   "cell_type": "code",
   "execution_count": null,
   "id": "691142ab",
   "metadata": {},
   "outputs": [
    {
     "name": "stdout",
     "output_type": "stream",
     "text": [
      "{1: 3, 2: 2, 3: 1}\n"
     ]
    }
   ],
   "source": [
    "# 48. Find frequency of elements in a list using dictionary\n",
    "# Input: [1,2,1,3,2,1]\n",
    "# Output: {1:3, 2:2, 3:1}\n",
    "\n",
    "a= [1,2,1,3,2,1]\n",
    "b={}\n",
    "\n",
    "for i in a:\n",
    "    b[i]=a.count(i)\n",
    "print(b)"
   ]
  },
  {
   "cell_type": "code",
   "execution_count": null,
   "id": "6f09136e",
   "metadata": {},
   "outputs": [
    {
     "name": "stdout",
     "output_type": "stream",
     "text": [
      "{'a': 110.0, 'b': 220.0}\n"
     ]
    }
   ],
   "source": [
    "# 49. Update all dictionary values by 10 percent\n",
    "# Input: {'a':100, 'b':200}\n",
    "# Output: {'a':110.0, 'b':220.0}\n",
    "\n",
    "a={'a':100, 'b':200}\n",
    "\n",
    "for k,v in a.items():\n",
    "    a[k]=v+v/10 #(v*10)/100\n",
    "print(a)"
   ]
  },
  {
   "cell_type": "code",
   "execution_count": 69,
   "id": "64b4cf8f",
   "metadata": {},
   "outputs": [
    {
     "name": "stdout",
     "output_type": "stream",
     "text": [
      "{'a': 1, 'b': 2, 'c': 3}\n"
     ]
    }
   ],
   "source": [
    "# 50. Convert two lists to a dictionary using zip\n",
    "# Input: ['a','b','c'], [1,2,3]\n",
    "# Output: {'a':1, 'b':2, 'c':3}\n",
    "\n",
    "a=['a','b','c']\n",
    "b= [1,2,3]\n",
    "c=dict(zip(a,b))\n",
    "print(c)"
   ]
  },
  {
   "cell_type": "code",
   "execution_count": 83,
   "id": "257133a8",
   "metadata": {},
   "outputs": [
    {
     "name": "stdout",
     "output_type": "stream",
     "text": [
      "[1, 4, 5, 8]\n",
      "{'a': 1, 'd': 4, 'b': 5, 'c': 8}\n",
      "{'c': 8, 'b': 5, 'd': 4, 'a': 1}\n"
     ]
    }
   ],
   "source": [
    "#1. Write a Python script to sort (ascending and descending) a dictionary by value.\n",
    "\n",
    "a={'a':1,'b':5,'c':8,\"d\":4}\n",
    "b=1\n",
    "c=sorted(list(a.values()))\n",
    "print(c)\n",
    "d={}\n",
    "e={}\n",
    "for i in c:\n",
    "    for k,v in a.items():\n",
    "        if i==v:\n",
    "            d[k]=v\n",
    "print(d)\n",
    "\n",
    "\n",
    "for i in c[-1::-1]:\n",
    "    for k,v in a.items():\n",
    "        if i==v:\n",
    "            e[k]=v\n",
    "print(e)\n",
    "\n"
   ]
  },
  {
   "cell_type": "code",
   "execution_count": 85,
   "id": "d24a01fc",
   "metadata": {},
   "outputs": [
    {
     "name": "stdout",
     "output_type": "stream",
     "text": [
      "{0: 10, 1: 20, 2: 30}\n"
     ]
    }
   ],
   "source": [
    "# 2. Write a Python script to add a key to a dictionary.\n",
    "# Sample Dictionary : {0: 10, 1: 20}\n",
    "# Expected Result : {0: 10, 1: 20, 2: 30}\n",
    "\n",
    "a={0: 10, 1: 20}\n",
    "a.update({2:30})\n",
    "print(a)"
   ]
  },
  {
   "cell_type": "code",
   "execution_count": 88,
   "id": "f59b10b1",
   "metadata": {},
   "outputs": [
    {
     "name": "stdout",
     "output_type": "stream",
     "text": [
      "{1: 10, 2: 20, 3: 30, 4: 40, 5: 50, 6: 60}\n"
     ]
    }
   ],
   "source": [
    "# 3. Write a Python script to concatenate the following dictionaries to create a new\n",
    "# one.\n",
    "# Sample Dictionary :\n",
    "# dic1={1:10, 2:20}\n",
    "# dic2={3:30, 4:40}\n",
    "# dic3={5:50,6:60}\n",
    "# Expected Result : {1: 10, 2: 20, 3: 30, 4: 40, 5: 50, 6: 60}\n",
    "\n",
    "dic1={1:10, 2:20}\n",
    "dic2={3:30, 4:40}\n",
    "dic3={5:50,6:60}\n",
    "dic={}\n",
    "dic.update(dic1)\n",
    "dic.update(dic2)\n",
    "dic.update(dic3)\n",
    "print(dic)"
   ]
  },
  {
   "cell_type": "code",
   "execution_count": 7,
   "id": "3f7c2609",
   "metadata": {},
   "outputs": [
    {
     "name": "stdout",
     "output_type": "stream",
     "text": [
      "yes the givan eliment in dic\n"
     ]
    }
   ],
   "source": [
    "#4. Write a Python script to check whether a given key already exists in a\n",
    "#dictionary.\n",
    "\n",
    "m={1:2,3:4,4:5}\n",
    "\n",
    "if m.get(4)!=None:\n",
    "    print(\"yes the givan eliment in dic\")"
   ]
  },
  {
   "cell_type": "code",
   "execution_count": 9,
   "id": "b8effe1b",
   "metadata": {},
   "outputs": [
    {
     "name": "stdout",
     "output_type": "stream",
     "text": [
      "{1: 1, 2: 4, 3: 9, 4: 16, 5: 25}\n"
     ]
    }
   ],
   "source": [
    "# 5. Write a Python script to generate and print a dictionary that contains a number\n",
    "# (between 1 and n) in the form (x, x*x).\n",
    "# Sample Dictionary ( n = 5) :\n",
    "\n",
    "a={}\n",
    "for i in range(1,6):\n",
    "    a[i]=i*i \n",
    "print(a)"
   ]
  },
  {
   "cell_type": "code",
   "execution_count": 10,
   "id": "26a66419",
   "metadata": {},
   "outputs": [
    {
     "name": "stdout",
     "output_type": "stream",
     "text": [
      "36\n"
     ]
    }
   ],
   "source": [
    "# 6. Write a Python program to sum all the items in a dictionary.\n",
    "\n",
    "a={1:2,3:4,5:6,7:8}\n",
    "c=sum(a.keys())\n",
    "d=sum(a.values())\n",
    "e=c+d\n",
    "print(e)"
   ]
  },
  {
   "cell_type": "code",
   "execution_count": 11,
   "id": "14db2466",
   "metadata": {},
   "outputs": [
    {
     "name": "stdout",
     "output_type": "stream",
     "text": [
      "8 2\n"
     ]
    }
   ],
   "source": [
    "#7. Write a Python program to get the maximum and minimum values of a\n",
    "#dictionary.\n",
    "\n",
    "a={1:2,3:4,5:6,7:8}\n",
    "c=sorted(a.values())\n",
    "max=c[-1]\n",
    "min=c[0]\n",
    "print(max,min)\n"
   ]
  },
  {
   "cell_type": "code",
   "execution_count": 9,
   "id": "64cb27bd",
   "metadata": {},
   "outputs": [
    {
     "name": "stdout",
     "output_type": "stream",
     "text": [
      "{'a': 400, 'b': 400, 'c': 300, 'd': 400}\n"
     ]
    }
   ],
   "source": [
    "#8. Write a Python program to combine two dictionary by adding values for\n",
    "#common keys.\n",
    "d1 = {'a': 100, 'b': 200, 'c':300}\n",
    "d2 = {'a': 300, 'b': 200, 'd':400}\n",
    "d3={}\n",
    "n=0\n",
    "for k,v in d1.items():\n",
    "    for j,l in d2.items():\n",
    "        if k==j:\n",
    "            n=v+l\n",
    "            d3[k]=n\n",
    "        elif k not in d3 and j not in d3:\n",
    "            d3[k]=v\n",
    "            d3[j]=l\n",
    "            \n",
    "\n",
    "print(d3)"
   ]
  },
  {
   "cell_type": "code",
   "execution_count": null,
   "id": "f09df674",
   "metadata": {},
   "outputs": [],
   "source": [
    "#9"
   ]
  }
 ],
 "metadata": {
  "kernelspec": {
   "display_name": "Python 3",
   "language": "python",
   "name": "python3"
  },
  "language_info": {
   "codemirror_mode": {
    "name": "ipython",
    "version": 3
   },
   "file_extension": ".py",
   "mimetype": "text/x-python",
   "name": "python",
   "nbconvert_exporter": "python",
   "pygments_lexer": "ipython3",
   "version": "3.13.2"
  }
 },
 "nbformat": 4,
 "nbformat_minor": 5
}
