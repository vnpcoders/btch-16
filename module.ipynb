{
 "cells": [
  {
   "cell_type": "code",
   "execution_count": 2,
   "id": "9ae05410",
   "metadata": {},
   "outputs": [
    {
     "name": "stdout",
     "output_type": "stream",
     "text": [
      "35\n"
     ]
    }
   ],
   "source": [
    "#floor\n",
    "import math as mt\n",
    "print(mt.floor(35.25))"
   ]
  },
  {
   "cell_type": "code",
   "execution_count": 3,
   "id": "3dd30897",
   "metadata": {},
   "outputs": [
    {
     "name": "stdout",
     "output_type": "stream",
     "text": [
      "16.0\n"
     ]
    }
   ],
   "source": [
    "#pow\n",
    "print(mt.pow(2,4))"
   ]
  },
  {
   "cell_type": "code",
   "execution_count": 8,
   "id": "38c72f4f",
   "metadata": {},
   "outputs": [
    {
     "name": "stdout",
     "output_type": "stream",
     "text": [
      "3.0\n",
      "2.0\n",
      "35.0\n"
     ]
    },
    {
     "data": {
      "text/plain": [
       "['__doc__',\n",
       " '__loader__',\n",
       " '__name__',\n",
       " '__package__',\n",
       " '__spec__',\n",
       " 'acos',\n",
       " 'acosh',\n",
       " 'asin',\n",
       " 'asinh',\n",
       " 'atan',\n",
       " 'atan2',\n",
       " 'atanh',\n",
       " 'cbrt',\n",
       " 'ceil',\n",
       " 'comb',\n",
       " 'copysign',\n",
       " 'cos',\n",
       " 'cosh',\n",
       " 'degrees',\n",
       " 'dist',\n",
       " 'e',\n",
       " 'erf',\n",
       " 'erfc',\n",
       " 'exp',\n",
       " 'exp2',\n",
       " 'expm1',\n",
       " 'fabs',\n",
       " 'factorial',\n",
       " 'floor',\n",
       " 'fma',\n",
       " 'fmod',\n",
       " 'frexp',\n",
       " 'fsum',\n",
       " 'gamma',\n",
       " 'gcd',\n",
       " 'hypot',\n",
       " 'inf',\n",
       " 'isclose',\n",
       " 'isfinite',\n",
       " 'isinf',\n",
       " 'isnan',\n",
       " 'isqrt',\n",
       " 'lcm',\n",
       " 'ldexp',\n",
       " 'lgamma',\n",
       " 'log',\n",
       " 'log10',\n",
       " 'log1p',\n",
       " 'log2',\n",
       " 'modf',\n",
       " 'nan',\n",
       " 'nextafter',\n",
       " 'perm',\n",
       " 'pi',\n",
       " 'pow',\n",
       " 'prod',\n",
       " 'radians',\n",
       " 'remainder',\n",
       " 'sin',\n",
       " 'sinh',\n",
       " 'sqrt',\n",
       " 'sumprod',\n",
       " 'tan',\n",
       " 'tanh',\n",
       " 'tau',\n",
       " 'trunc',\n",
       " 'ulp']"
      ]
     },
     "execution_count": 8,
     "metadata": {},
     "output_type": "execute_result"
    }
   ],
   "source": [
    "#sqrt cbrt\n",
    "print(mt.sqrt(9))\n",
    "print(mt.cbrt(8))\n",
    "print(mt.fsum([5,6,7,8,9]))\n",
    "\n",
    "\n",
    "dir(mt)"
   ]
  },
  {
   "cell_type": "code",
   "execution_count": 13,
   "id": "2c75c54f",
   "metadata": {},
   "outputs": [
    {
     "name": "stdout",
     "output_type": "stream",
     "text": [
      "-0.9121880689272984\n",
      "1718.8733853924696\n",
      "(0.9375, 5)\n"
     ]
    }
   ],
   "source": [
    "print(mt.cos(mt.degrees(30)))\n",
    "print(mt.degrees(30))\n",
    "print(mt.frexp(30))"
   ]
  },
  {
   "cell_type": "code",
   "execution_count": null,
   "id": "bd32817c",
   "metadata": {},
   "outputs": [
    {
     "name": "stdout",
     "output_type": "stream",
     "text": [
      "11:19:36.521715\n"
     ]
    }
   ],
   "source": [
    "from datetime import datetime\n",
    "dt=datetime.today()\n",
    "\n",
    "print(dt.time())\n"
   ]
  },
  {
   "cell_type": "code",
   "execution_count": 36,
   "id": "93621bfb",
   "metadata": {},
   "outputs": [
    {
     "name": "stdout",
     "output_type": "stream",
     "text": [
      "Fri\n",
      "Friday\n",
      "Jul\n",
      "July\n",
      "Fri Jul  4 11:28:09 2025\n",
      "20\n",
      "04\n",
      "07/04/25\n",
      " 4\n"
     ]
    },
    {
     "ename": "ValueError",
     "evalue": "Invalid format string",
     "output_type": "error",
     "traceback": [
      "\u001b[31m---------------------------------------------------------------------------\u001b[39m",
      "\u001b[31mValueError\u001b[39m                                Traceback (most recent call last)",
      "\u001b[36mCell\u001b[39m\u001b[36m \u001b[39m\u001b[32mIn[36]\u001b[39m\u001b[32m, line 12\u001b[39m\n\u001b[32m     10\u001b[39m \u001b[38;5;28mprint\u001b[39m(dd.strftime(\u001b[33m\"\u001b[39m\u001b[33m%\u001b[39m\u001b[33mD\u001b[39m\u001b[33m\"\u001b[39m))\n\u001b[32m     11\u001b[39m \u001b[38;5;28mprint\u001b[39m(dd.strftime(\u001b[33m\"\u001b[39m\u001b[38;5;132;01m%e\u001b[39;00m\u001b[33m\"\u001b[39m))\n\u001b[32m---> \u001b[39m\u001b[32m12\u001b[39m \u001b[38;5;28mprint\u001b[39m(\u001b[43mdd\u001b[49m\u001b[43m.\u001b[49m\u001b[43mstrftime\u001b[49m\u001b[43m(\u001b[49m\u001b[33;43m\"\u001b[39;49m\u001b[38;5;132;43;01m%E\u001b[39;49;00m\u001b[33;43m\"\u001b[39;49m\u001b[43m)\u001b[49m)\n\u001b[32m     13\u001b[39m \u001b[38;5;28mprint\u001b[39m(dd.strftime(\u001b[33m\"\u001b[39m\u001b[38;5;132;01m%f\u001b[39;00m\u001b[33m\"\u001b[39m))\n\u001b[32m     14\u001b[39m \u001b[38;5;28mprint\u001b[39m(dd.strftime(\u001b[33m\"\u001b[39m\u001b[38;5;132;01m%F\u001b[39;00m\u001b[33m\"\u001b[39m))\n",
      "\u001b[31mValueError\u001b[39m: Invalid format string"
     ]
    }
   ],
   "source": [
    "dd= datetime.today()\n",
    "\n",
    "print(dd.strftime(\"%a\"))\n",
    "print(dd.strftime(\"%A\"))\n",
    "print(dd.strftime(\"%b\"))\n",
    "print(dd.strftime(\"%B\"))\n",
    "print(dd.strftime(\"%c\"))\n",
    "print(dd.strftime(\"%C\"))\n",
    "print(dd.strftime(\"%d\"))\n",
    "print(dd.strftime(\"%D\"))\n",
    "print(dd.strftime(\"%e\"))\n",
    "print(dd.strftime(\"%E\"))\n",
    "print(dd.strftime(\"%f\"))\n",
    "print(dd.strftime(\"%F\"))\n",
    "print(dd.strftime(\"%g\"))\n",
    "print(dd.strftime(\"%G\"))\n",
    "print(dd.strftime(\"%h\"))\n",
    "print(dd.strftime(\"%H\"))\n",
    "print(dd.strftime(\"%i\"))\n",
    "print(dd.strftime(\"%I\"))\n",
    "print(dd.strftime(\"%j\"))\n",
    "print(dd.strftime(\"%J\"))\n",
    "print(dd.strftime(\"%k\"))\n",
    "print(dd.strftime(\"%K\"))\n",
    "print(dd.strftime(\"%l\"))\n",
    "print(dd.strftime(\"%L\"))\n",
    "print(dd.strftime(\"%m\"))\n",
    "print(dd.strftime(\"%M\"))\n",
    "print(dd.strftime(\"%n\"))\n",
    "print(dd.strftime(\"%N\"))\n",
    "\n",
    "\n",
    "\n"
   ]
  },
  {
   "cell_type": "code",
   "execution_count": 41,
   "id": "5ac706dd",
   "metadata": {},
   "outputs": [
    {
     "name": "stdout",
     "output_type": "stream",
     "text": [
      "                                  2025\n",
      "\n",
      "      January                   February                   March\n",
      "Mo Tu We Th Fr Sa Su      Mo Tu We Th Fr Sa Su      Mo Tu We Th Fr Sa Su\n",
      "       1  2  3  4  5                      1  2                      1  2\n",
      " 6  7  8  9 10 11 12       3  4  5  6  7  8  9       3  4  5  6  7  8  9\n",
      "13 14 15 16 17 18 19      10 11 12 13 14 15 16      10 11 12 13 14 15 16\n",
      "20 21 22 23 24 25 26      17 18 19 20 21 22 23      17 18 19 20 21 22 23\n",
      "27 28 29 30 31            24 25 26 27 28            24 25 26 27 28 29 30\n",
      "                                                    31\n",
      "\n",
      "       April                      May                       June\n",
      "Mo Tu We Th Fr Sa Su      Mo Tu We Th Fr Sa Su      Mo Tu We Th Fr Sa Su\n",
      "    1  2  3  4  5  6                1  2  3  4                         1\n",
      " 7  8  9 10 11 12 13       5  6  7  8  9 10 11       2  3  4  5  6  7  8\n",
      "14 15 16 17 18 19 20      12 13 14 15 16 17 18       9 10 11 12 13 14 15\n",
      "21 22 23 24 25 26 27      19 20 21 22 23 24 25      16 17 18 19 20 21 22\n",
      "28 29 30                  26 27 28 29 30 31         23 24 25 26 27 28 29\n",
      "                                                    30\n",
      "\n",
      "        July                     August                  September\n",
      "Mo Tu We Th Fr Sa Su      Mo Tu We Th Fr Sa Su      Mo Tu We Th Fr Sa Su\n",
      "    1  2  3  4  5  6                   1  2  3       1  2  3  4  5  6  7\n",
      " 7  8  9 10 11 12 13       4  5  6  7  8  9 10       8  9 10 11 12 13 14\n",
      "14 15 16 17 18 19 20      11 12 13 14 15 16 17      15 16 17 18 19 20 21\n",
      "21 22 23 24 25 26 27      18 19 20 21 22 23 24      22 23 24 25 26 27 28\n",
      "28 29 30 31               25 26 27 28 29 30 31      29 30\n",
      "\n",
      "      October                   November                  December\n",
      "Mo Tu We Th Fr Sa Su      Mo Tu We Th Fr Sa Su      Mo Tu We Th Fr Sa Su\n",
      "       1  2  3  4  5                      1  2       1  2  3  4  5  6  7\n",
      " 6  7  8  9 10 11 12       3  4  5  6  7  8  9       8  9 10 11 12 13 14\n",
      "13 14 15 16 17 18 19      10 11 12 13 14 15 16      15 16 17 18 19 20 21\n",
      "20 21 22 23 24 25 26      17 18 19 20 21 22 23      22 23 24 25 26 27 28\n",
      "27 28 29 30 31            24 25 26 27 28 29 30      29 30 31\n",
      "\n"
     ]
    }
   ],
   "source": [
    "import calendar\n",
    "print(calendar.calendar(2025))"
   ]
  },
  {
   "cell_type": "code",
   "execution_count": null,
   "id": "8e87e12d",
   "metadata": {},
   "outputs": [],
   "source": []
  }
 ],
 "metadata": {
  "kernelspec": {
   "display_name": "Python 3",
   "language": "python",
   "name": "python3"
  },
  "language_info": {
   "codemirror_mode": {
    "name": "ipython",
    "version": 3
   },
   "file_extension": ".py",
   "mimetype": "text/x-python",
   "name": "python",
   "nbconvert_exporter": "python",
   "pygments_lexer": "ipython3",
   "version": "3.13.2"
  }
 },
 "nbformat": 4,
 "nbformat_minor": 5
}
