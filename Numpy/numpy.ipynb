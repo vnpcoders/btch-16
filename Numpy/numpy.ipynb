{
 "cells": [
  {
   "cell_type": "code",
   "execution_count": 2,
   "id": "38ec5035",
   "metadata": {},
   "outputs": [
    {
     "name": "stdout",
     "output_type": "stream",
     "text": [
      "Collecting numpy\n",
      "  Using cached numpy-2.3.1-cp313-cp313-win_amd64.whl.metadata (60 kB)\n",
      "Using cached numpy-2.3.1-cp313-cp313-win_amd64.whl (12.7 MB)\n",
      "Installing collected packages: numpy\n",
      "Successfully installed numpy-2.3.1\n",
      "Note: you may need to restart the kernel to use updated packages.\n"
     ]
    },
    {
     "name": "stderr",
     "output_type": "stream",
     "text": [
      "\n",
      "[notice] A new release of pip is available: 24.3.1 -> 25.1.1\n",
      "[notice] To update, run: python.exe -m pip install --upgrade pip\n"
     ]
    }
   ],
   "source": [
    "pip install numpy"
   ]
  },
  {
   "cell_type": "code",
   "execution_count": 3,
   "id": "518e7828",
   "metadata": {},
   "outputs": [],
   "source": [
    "import numpy as np"
   ]
  },
  {
   "cell_type": "code",
   "execution_count": 4,
   "id": "32193544",
   "metadata": {},
   "outputs": [
    {
     "name": "stdout",
     "output_type": "stream",
     "text": [
      "58\n",
      "<class 'numpy.ndarray'>\n",
      "0\n",
      "()\n"
     ]
    }
   ],
   "source": [
    "#dimentional array\n",
    "\n",
    "zero_array=np.array(58)\n",
    "print(zero_array)\n",
    "print(type(zero_array))\n",
    "print(zero_array.ndim)\n",
    "print(zero_array.shape)\n"
   ]
  },
  {
   "cell_type": "code",
   "execution_count": 7,
   "id": "a060e2d4",
   "metadata": {},
   "outputs": [
    {
     "name": "stdout",
     "output_type": "stream",
     "text": [
      "[2 4 6 7]\n",
      "<class 'numpy.ndarray'>\n",
      "1\n",
      "(4,)\n"
     ]
    }
   ],
   "source": [
    "one_d_array=np.array([2,4,6,7])\n",
    "print(one_d_array)\n",
    "print(type(one_d_array))\n",
    "print(one_d_array.ndim)\n",
    "print(one_d_array.shape)\n"
   ]
  },
  {
   "cell_type": "code",
   "execution_count": 11,
   "id": "22ebca03",
   "metadata": {},
   "outputs": [
    {
     "name": "stdout",
     "output_type": "stream",
     "text": [
      "[[2 4]\n",
      " [6 7]]\n",
      "<class 'numpy.ndarray'>\n",
      "2\n",
      "(2, 2)\n"
     ]
    }
   ],
   "source": [
    "two_array =np.array([[2,4],[6,7]])\n",
    "print(two_array)\n",
    "print(type(two_array))\n",
    "print(two_array.ndim)\n",
    "print(two_array.shape)"
   ]
  },
  {
   "cell_type": "code",
   "execution_count": 13,
   "id": "2463a22c",
   "metadata": {},
   "outputs": [
    {
     "name": "stdout",
     "output_type": "stream",
     "text": [
      "[['2' '4' '6']\n",
      " ['6' '8' '7']]\n",
      "<class 'numpy.ndarray'>\n",
      "2\n",
      "(2, 3)\n",
      "<U21\n"
     ]
    }
   ],
   "source": [
    "two_array =np.array([[2,\"4\",6],[6,8,7]])\n",
    "print(two_array)\n",
    "print(type(two_array))\n",
    "print(two_array.ndim)\n",
    "print(two_array.shape)\n",
    "print(two_array.dtype)"
   ]
  },
  {
   "cell_type": "code",
   "execution_count": 8,
   "id": "9da04ce6",
   "metadata": {},
   "outputs": [
    {
     "name": "stdout",
     "output_type": "stream",
     "text": [
      "[[45 23 65 67]\n",
      " [ 2  5 67  8]\n",
      " [55 66 77 88]]\n",
      "(3, 4)\n"
     ]
    }
   ],
   "source": [
    "py_arr2=np.array([[45,23,65,67],[2,5,67,8],[55,66,77,88]])\n",
    "print(py_arr2)\n",
    "print(py_arr2.shape)"
   ]
  },
  {
   "cell_type": "code",
   "execution_count": 16,
   "id": "ca39250d",
   "metadata": {},
   "outputs": [
    {
     "name": "stdout",
     "output_type": "stream",
     "text": [
      "[[[1 2 3]\n",
      "  [2 3 4]]\n",
      "\n",
      " [[4 5 6]\n",
      "  [7 8 9]]]\n",
      "3\n",
      "(2, 2, 3)\n"
     ]
    }
   ],
   "source": [
    "threed_array=np.array([[[1,2,3],[2,3,4]],[[4,5,6],[7,8,9]]])\n",
    "print(threed_array)\n",
    "print(threed_array.ndim)\n",
    "print(threed_array.shape)"
   ]
  },
  {
   "cell_type": "code",
   "execution_count": 17,
   "id": "5821b221",
   "metadata": {},
   "outputs": [
    {
     "name": "stdout",
     "output_type": "stream",
     "text": [
      "[[[1 2 3]\n",
      "  [2 3 4]\n",
      "  [1 2 3]]\n",
      "\n",
      " [[4 5 6]\n",
      "  [7 8 9]\n",
      "  [1 2 3]]\n",
      "\n",
      " [[4 5 6]\n",
      "  [6 7 8]\n",
      "  [6 7 8]]]\n",
      "3\n",
      "(3, 3, 3)\n"
     ]
    }
   ],
   "source": [
    "threed_array=np.array([[[1,2,3],[2,3,4],[1,2,3,]],\n",
    "                       [[4,5,6],[7,8,9],[1,2,3]],\n",
    "                       [[4,5,6],[6,7,8],[6,7,8]]])\n",
    "print(threed_array)\n",
    "print(threed_array.ndim)\n",
    "print(threed_array.shape)"
   ]
  },
  {
   "cell_type": "code",
   "execution_count": 21,
   "id": "b33a87c3",
   "metadata": {},
   "outputs": [
    {
     "name": "stdout",
     "output_type": "stream",
     "text": [
      "[[[[[[[[[['1' '2' '3']\n",
      "         ['2' '3' '4']\n",
      "         ['1' '2' '3']]\n",
      "\n",
      "        [['4' '5' '6']\n",
      "         ['7' '8' '9']\n",
      "         ['1' '2' '3']]\n",
      "\n",
      "        [['4' '5' '6']\n",
      "         ['6' '7' '8']\n",
      "         ['6' '7' '8']]]]]]]]]]\n",
      "10\n",
      "(1, 1, 1, 1, 1, 1, 1, 3, 3, 3)\n"
     ]
    }
   ],
   "source": [
    "threed_array=np.array([[[1,2,3],[2,3,4],[1,2,3,]],\n",
    "                       [[4,5,6],[7,8,9],[1,2,3]],\n",
    "                       [[4,5,6],[6,7,8],[6,7,8]]],ndmin=10,dtype=str)\n",
    "print(threed_array)\n",
    "print(threed_array.ndim)\n",
    "print(threed_array.shape)"
   ]
  },
  {
   "cell_type": "code",
   "execution_count": 25,
   "id": "3ab34689",
   "metadata": {},
   "outputs": [
    {
     "name": "stdout",
     "output_type": "stream",
     "text": [
      "[[0 0 0]\n",
      " [0 0 0]\n",
      " [0 0 0]]\n"
     ]
    }
   ],
   "source": [
    "#Zero array\n",
    "py_arr=np.zeros((3,3),dtype=int)\n",
    "print(py_arr)"
   ]
  },
  {
   "cell_type": "code",
   "execution_count": 24,
   "id": "badbc1d2",
   "metadata": {},
   "outputs": [
    {
     "name": "stdout",
     "output_type": "stream",
     "text": [
      "[[1 1 1 1 1]\n",
      " [1 1 1 1 1]\n",
      " [1 1 1 1 1]\n",
      " [1 1 1 1 1]]\n"
     ]
    }
   ],
   "source": [
    "one_array=np.ones((4,5),dtype=int)\n",
    "print(one_array)"
   ]
  },
  {
   "cell_type": "code",
   "execution_count": 27,
   "id": "698474aa",
   "metadata": {},
   "outputs": [
    {
     "name": "stdout",
     "output_type": "stream",
     "text": [
      "[ 9 10 11 12 13 14]\n",
      "1\n",
      "(6,)\n",
      "[[ 9 10]\n",
      " [11 12]\n",
      " [13 14]]\n"
     ]
    }
   ],
   "source": [
    "arrag=np.arange(9,15,)\n",
    "print(arrag)\n",
    "print(arrag.ndim)\n",
    "print(arrag.shape)\n",
    "reshap_arr=np.reshape(arrag,shape=(3,2))\n",
    "print(reshap_arr)"
   ]
  },
  {
   "cell_type": "code",
   "execution_count": 30,
   "id": "fb4c5c52",
   "metadata": {},
   "outputs": [
    {
     "name": "stdout",
     "output_type": "stream",
     "text": [
      "[0.         0.11111111 0.22222222 0.33333333 0.44444444 0.55555556\n",
      " 0.66666667 0.77777778 0.88888889 1.        ]\n"
     ]
    }
   ],
   "source": [
    "array=np.linspace(0,1,num=10)\n",
    "print(array)"
   ]
  },
  {
   "cell_type": "code",
   "execution_count": 31,
   "id": "9efdba4f",
   "metadata": {},
   "outputs": [
    {
     "name": "stdout",
     "output_type": "stream",
     "text": [
      "[ 1.          1.29154967  1.66810054  2.15443469  2.7825594   3.59381366\n",
      "  4.64158883  5.9948425   7.74263683 10.        ]\n"
     ]
    }
   ],
   "source": [
    "array=np.logspace(0,1,num=10)\n",
    "print(array)"
   ]
  },
  {
   "cell_type": "code",
   "execution_count": 32,
   "id": "52a63a12",
   "metadata": {},
   "outputs": [
    {
     "name": "stdout",
     "output_type": "stream",
     "text": [
      "[[['1' '2' '3']\n",
      "  ['2' '3' '4']\n",
      "  ['1' '2' '3']]\n",
      "\n",
      " [['4' '5' '6']\n",
      "  ['7' '8' '9']\n",
      "  ['1' '2' '3']]\n",
      "\n",
      " [['4' '5' '6']\n",
      "  ['6' '7' '8']\n",
      "  ['6' '7' '8']]]\n",
      "3\n",
      "(3, 3, 3)\n"
     ]
    }
   ],
   "source": [
    "threed_array=np.array([[[1,2,3],[2,3,4],[1,2,3,]],\n",
    "                       [[4,5,6],[7,8,9],[1,2,3]],\n",
    "                       [[4,5,6],[6,7,8],[6,7,8]]],ndmin=1,dtype=str)\n",
    "print(threed_array)\n",
    "print(threed_array.ndim)\n",
    "print(threed_array.shape)"
   ]
  },
  {
   "cell_type": "code",
   "execution_count": null,
   "id": "eac970df",
   "metadata": {},
   "outputs": [
    {
     "name": "stdout",
     "output_type": "stream",
     "text": [
      "[[ 5 11]\n",
      " [10 15]]\n",
      "[[ 5 11]\n",
      " [10 15]]\n"
     ]
    }
   ],
   "source": [
    "#mathamatic operation add\n",
    "a=np.array([[3,6],[7,8]])\n",
    "b=np.array([[2,5],[3,7]])\n",
    "sum=a+b\n",
    "print(sum)\n",
    "print(np.add(a,b))"
   ]
  },
  {
   "cell_type": "code",
   "execution_count": 35,
   "id": "fd49fc9d",
   "metadata": {},
   "outputs": [
    {
     "name": "stdout",
     "output_type": "stream",
     "text": [
      "[[1 1]\n",
      " [4 1]]\n",
      "[[1 1]\n",
      " [4 1]]\n"
     ]
    }
   ],
   "source": [
    "a=np.array([[3,6],[7,8]])\n",
    "b=np.array([[2,5],[3,7]])\n",
    "sum=a-b\n",
    "print(sum)\n",
    "print(np.subtract(a,b))"
   ]
  },
  {
   "cell_type": "code",
   "execution_count": 36,
   "id": "69882180",
   "metadata": {},
   "outputs": [
    {
     "name": "stdout",
     "output_type": "stream",
     "text": [
      "[[ 6 30]\n",
      " [21 56]]\n",
      "[[ 6 30]\n",
      " [21 56]]\n"
     ]
    }
   ],
   "source": [
    "a=np.array([[3,6],[7,8]])\n",
    "b=np.array([[2,5],[3,7]])\n",
    "sum=a*b\n",
    "print(sum)\n",
    "print(np.multiply(a,b))"
   ]
  },
  {
   "cell_type": "code",
   "execution_count": 37,
   "id": "98e48195",
   "metadata": {},
   "outputs": [
    {
     "name": "stdout",
     "output_type": "stream",
     "text": [
      "[[1.5        1.2       ]\n",
      " [2.33333333 1.14285714]]\n",
      "[[1.5        1.2       ]\n",
      " [2.33333333 1.14285714]]\n"
     ]
    }
   ],
   "source": [
    "a=np.array([[3,6],[7,8]])\n",
    "b=np.array([[2,5],[3,7]])\n",
    "sum=a/b\n",
    "print(sum)\n",
    "print(np.divide(a,b))"
   ]
  },
  {
   "cell_type": "code",
   "execution_count": 40,
   "id": "6139edef",
   "metadata": {},
   "outputs": [
    {
     "name": "stdout",
     "output_type": "stream",
     "text": [
      "[[[ 9 14]\n",
      "  [19 64]]\n",
      "\n",
      " [[30 30]\n",
      "  [22 18]]]\n",
      "----------------------------------------------------------------------------------------------------\n",
      "[[[ 9 14]\n",
      "  [19 64]]\n",
      "\n",
      " [[30 30]\n",
      "  [22 18]]]\n"
     ]
    }
   ],
   "source": [
    "a=np.array([[[3,6],[7,8]],[[7,9],[9,3]]])\n",
    "b=np.array([[[6,8],[12,56]],[[23,21],[13,15]]])\n",
    "sum=a+b\n",
    "print(sum)\n",
    "print(\"--\"*50)\n",
    "print(np.add(a,b))"
   ]
  },
  {
   "cell_type": "code",
   "execution_count": 41,
   "id": "c15c09c2",
   "metadata": {},
   "outputs": [
    {
     "name": "stdout",
     "output_type": "stream",
     "text": [
      "[[[ -3  -2]\n",
      "  [ -5 -48]]\n",
      "\n",
      " [[-16 -12]\n",
      "  [ -4 -12]]]\n",
      "----------------------------------------------------------------------------------------------------\n",
      "[[[ -3  -2]\n",
      "  [ -5 -48]]\n",
      "\n",
      " [[-16 -12]\n",
      "  [ -4 -12]]]\n"
     ]
    }
   ],
   "source": [
    "a=np.array([[[3,6],[7,8]],[[7,9],[9,3]]])\n",
    "b=np.array([[[6,8],[12,56]],[[23,21],[13,15]]])\n",
    "sum=a-b\n",
    "print(sum)\n",
    "print(\"--\"*50)\n",
    "print(np.subtract(a,b))"
   ]
  },
  {
   "cell_type": "code",
   "execution_count": null,
   "id": "29ba7e5d",
   "metadata": {},
   "outputs": [],
   "source": [
    "a=np.array([[[3,6],[7,8]],[[7,9],[9,3]]])\n",
    "b=np.array([[[6,8],[12,56]],[[23,21],[13,15]]])\n",
    "sum=a*b\n",
    "print(sum)\n",
    "print(\"--\"*50)\n",
    "print(np.multiply(a,b))"
   ]
  },
  {
   "cell_type": "code",
   "execution_count": null,
   "id": "538e0afc",
   "metadata": {},
   "outputs": [],
   "source": [
    "a=np.array([[[3,6],[7,8]],[[7,9],[9,3]]])\n",
    "b=np.array([[[6,8],[12,56]],[[23,21],[13,15]]])\n",
    "sum=a/b\n",
    "print(sum)\n",
    "print(\"--\"*50)\n",
    "print(np.divide(a,b))"
   ]
  },
  {
   "cell_type": "code",
   "execution_count": 6,
   "id": "944b9f7d",
   "metadata": {},
   "outputs": [
    {
     "name": "stdout",
     "output_type": "stream",
     "text": [
      "63\n",
      "63\n",
      "63\n",
      "23\n"
     ]
    }
   ],
   "source": [
    "#indexing\n",
    "import numpy as np\n",
    "one_darray=np.array([40,63,23])\n",
    "print(one_darray[1])\n",
    "print(one_darray[1])\n",
    "print(one_darray[1])\n",
    "print(one_darray[-1])"
   ]
  },
  {
   "cell_type": "code",
   "execution_count": 11,
   "id": "3f304403",
   "metadata": {},
   "outputs": [
    {
     "name": "stdout",
     "output_type": "stream",
     "text": [
      "[[40 63 23]\n",
      " [ 2  5  7]\n",
      " [ 4  7  9]]\n",
      "[2 5 7]\n",
      "2\n",
      "[2 5]\n",
      "[7 9]\n",
      "[[40 63]\n",
      " [ 2  5]]\n",
      "[[2 5 7]]\n"
     ]
    }
   ],
   "source": [
    "two_darray=np.array([[40,63,23],[2,5,7],[4,7,9]])\n",
    "print(two_darray)\n",
    "print(two_darray[1])\n",
    "print(two_darray[1][0])\n",
    "print(two_darray[1,:2])\n",
    "print(two_darray[2,1:])\n",
    "print(two_darray[0:2,:2])\n",
    "print(two_darray[0:2][1:])\n"
   ]
  },
  {
   "cell_type": "code",
   "execution_count": 20,
   "id": "7f932181",
   "metadata": {},
   "outputs": [
    {
     "name": "stdout",
     "output_type": "stream",
     "text": [
      "[[[40 63 23]\n",
      "  [ 2  5  7]]\n",
      "\n",
      " [[ 4  7  9]\n",
      "  [ 7  8  9]]\n",
      "\n",
      " [[44 55 66]\n",
      "  [22 22 33]]]\n",
      "(3, 2, 3)\n",
      "1-1-1-1-1-1-1-1-1-1-1-1-1-1-1-1-1-1-1-1-1-1-1-1-1-1-1-1-1-1-1-1-1-1-1-1-1-1-1-1-1-1-1-1-1-1-1-1-1-1-\n",
      "[[40 63 23]\n",
      " [ 2  5  7]]\n",
      "[2 5 7]\n",
      "5\n",
      "2-2-2-2-2-2-2-2-2-2-2-2-2-2-2-2-2-2-2-2-2-2-2-2-2-2-2-2-2-2-2-2-2-2-2-2-2-2-2-2-2-2-2-2-2-2-2-2-2-2-\n",
      "[[[ 4  7  9]\n",
      "  [ 7  8  9]]\n",
      "\n",
      " [[44 55 66]\n",
      "  [22 22 33]]]\n",
      "3-3-3-3-3-3-3-3-3-3-3-3-3-3-3-3-3-3-3-3-3-3-3-3-3-3-3-3-3-3-3-3-3-3-3-3-3-3-3-3-3-3-3-3-3-3-3-3-3-3-\n",
      "[]\n",
      "4-4-4-4-4-4-4-4-4-4-4-4-4-4-4-4-4-4-4-4-4-4-4-4-4-4-4-4-4-4-4-4-4-4-4-4-4-4-4-4-4-4-4-4-4-4-4-4-4-4-\n"
     ]
    }
   ],
   "source": [
    "three_darray=np.array([[[40,63,23],[2,5,7]],\n",
    "                       [[4,7,9],[7,8,9]],\n",
    "                       [[44,55,66],[22,22,33]]])\n",
    "print(three_darray)\n",
    "print(three_darray.shape)\n",
    "print(\"1-\"*50)\n",
    "print(three_darray[0])\n",
    "print(three_darray[0][1])\n",
    "print(three_darray[0][1][1])\n",
    "print(\"2-\"*50)\n",
    "print(three_darray[1:])\n",
    "print(\"3-\"*50)\n",
    "print(three_darray[1:][1:][1:])\n",
    "print(\"4-\"*50)\n",
    "\n",
    "\n",
    "\n"
   ]
  },
  {
   "cell_type": "code",
   "execution_count": 15,
   "id": "a960df85",
   "metadata": {},
   "outputs": [
    {
     "name": "stdout",
     "output_type": "stream",
     "text": [
      "[40 63 23]\n",
      "[40 55 23]\n"
     ]
    }
   ],
   "source": [
    "import numpy as np\n",
    "one_darray=np.array([40,63,23])\n",
    "print(one_darray)\n",
    "one_darray[1]=55\n",
    "print(one_darray)"
   ]
  },
  {
   "cell_type": "code",
   "execution_count": 16,
   "id": "a06f2b6a",
   "metadata": {},
   "outputs": [
    {
     "name": "stdout",
     "output_type": "stream",
     "text": [
      "[40 63 23]\n",
      "[2 4 6]\n"
     ]
    }
   ],
   "source": [
    "import numpy as np\n",
    "one_darray=np.array([40,63,23])\n",
    "print(one_darray)\n",
    "one_darray[0:]=[2,4,6]\n",
    "print(one_darray)"
   ]
  },
  {
   "cell_type": "code",
   "execution_count": 27,
   "id": "d8870a35",
   "metadata": {},
   "outputs": [
    {
     "name": "stdout",
     "output_type": "stream",
     "text": [
      "[[4 6 7]\n",
      " [8 3 6]]\n",
      "[4 6 3 6]\n",
      "[6 7 8 6]\n"
     ]
    }
   ],
   "source": [
    "two_d=np.array([[4,6,7],[8,3,6]])\n",
    "print(two_d)\n",
    "print(two_d[two_d<=6])\n",
    "print(two_d[two_d>5])"
   ]
  },
  {
   "cell_type": "code",
   "execution_count": null,
   "id": "ba0a85c6",
   "metadata": {},
   "outputs": [
    {
     "name": "stdout",
     "output_type": "stream",
     "text": [
      "3\n",
      "99\n",
      "30.666666666666668\n",
      "7.0\n",
      "36.99249173068022\n",
      "1368.4444444444443\n",
      "[2 2 2]\n",
      "[2 0 2]\n"
     ]
    }
   ],
   "source": [
    "two_d=np.array([[4,6,7],\n",
    "                [8,3,6],\n",
    "                [55,88,99]])\n",
    "print(two_d.min())\n",
    "print(two_d.max())\n",
    "print(two_d.mean())\n",
    "print(np.median(two_d))\n",
    "print(np.std(two_d))\n",
    "print(np.var(two_d))\n",
    "print(two_d.argmax(axis=0))\n",
    "print(two_d.argmax(axis=1))"
   ]
  },
  {
   "cell_type": "code",
   "execution_count": null,
   "id": "c1ccb838",
   "metadata": {},
   "outputs": [
    {
     "name": "stdout",
     "output_type": "stream",
     "text": [
      "[[[40 63 23]\n",
      "  [ 2  5  7]]\n",
      "\n",
      " [[ 4  7  9]\n",
      "  [ 7  8  9]]]\n",
      "[[1 1 1]\n",
      " [0 0 0]]\n",
      "[[1 1 1]\n",
      " [0 0 0]]\n"
     ]
    }
   ],
   "source": [
    "three_darray=np.array([[[40,63,23],[2,5,7]],\n",
    "                       [[4,7,9],[7,8,9]]])\n",
    "                       \n",
    "print(three_darray)\n",
    "print(three_darray.argmin(axis=1))#col\n",
    "print(three_darray.argmin(axis=0))#row"
   ]
  },
  {
   "cell_type": "code",
   "execution_count": null,
   "id": "0b51b188",
   "metadata": {},
   "outputs": [
    {
     "name": "stdout",
     "output_type": "stream",
     "text": [
      "[3 5 7 1 5 8]\n"
     ]
    }
   ],
   "source": [
    "#array joining\n",
    "a=np.array([3,5,7])\n",
    "b=np.array([1,5,8])\n",
    "concat=np.concatenate((a,b))\n",
    "\n",
    "print(concat)"
   ]
  },
  {
   "cell_type": "code",
   "execution_count": 49,
   "id": "848d7e60",
   "metadata": {},
   "outputs": [
    {
     "name": "stdout",
     "output_type": "stream",
     "text": [
      "[[ 3  5  7  1  5  8]\n",
      " [ 4  8  0  9 10 11]]\n",
      "[[ 3  5  7]\n",
      " [ 4  8  0]\n",
      " [ 1  5  8]\n",
      " [ 9 10 11]]\n"
     ]
    }
   ],
   "source": [
    "a=np.array([[3,5,7],[4,8,0]])\n",
    "b=np.array([[1,5,8],[9,10,11]])\n",
    "concat1=np.concatenate((a,b),axis=1)\n",
    "concat0=np.concatenate((a,b),axis=0)\n",
    "print(concat1)\n",
    "print(concat0)"
   ]
  },
  {
   "cell_type": "code",
   "execution_count": null,
   "id": "39115a88",
   "metadata": {},
   "outputs": [
    {
     "name": "stdout",
     "output_type": "stream",
     "text": [
      "[[3 5 7]\n",
      " [4 8 0]]\n",
      "[[ 1  5  8]\n",
      " [ 9 10 11]]\n",
      "[[[ 3  5  7]\n",
      "  [ 4  8  0]]\n",
      "\n",
      " [[ 1  5  8]\n",
      "  [ 9 10 11]]]\n",
      "----------------------------------------------------------------------------------------------------\n",
      "[[[ 3  5  7]\n",
      "  [ 4  8  0]]\n",
      "\n",
      " [[ 1  5  8]\n",
      "  [ 9 10 11]]]\n",
      "----------------------------------------------------------------------------------------------------\n",
      "[[[ 3  5  7]\n",
      "  [ 1  5  8]]\n",
      "\n",
      " [[ 4  8  0]\n",
      "  [ 9 10 11]]]\n"
     ]
    }
   ],
   "source": [
    "a=np.array([[3,5,7],[4,8,0]])\n",
    "b=np.array([[1,5,8],[9,10,11]])\n",
    "print(a)\n",
    "print(b) #not aplide\n",
    "stack=np.stack((a,b))\n",
    "stack0=np.stack((a,b),axis=0)\n",
    "stack1=np.stack((a,b),axis=1)\n",
    "print(stack)\n",
    "print(\"--\"*50)\n",
    "print(stack0)\n",
    "print(\"--\"*50)\n",
    "print(stack1)\n"
   ]
  },
  {
   "cell_type": "code",
   "execution_count": 54,
   "id": "f3b27405",
   "metadata": {},
   "outputs": [
    {
     "name": "stdout",
     "output_type": "stream",
     "text": [
      "[3 5 7]\n",
      "[1 5 8]\n",
      "[[3 5 7]\n",
      " [1 5 8]]\n",
      "[[3 5 7]\n",
      " [1 5 8]]\n",
      "[3 5 7 1 5 8]\n"
     ]
    }
   ],
   "source": [
    "a=np.array([3,5,7])\n",
    "b=np.array([1,5,8])\n",
    "print(a)\n",
    "print(b)\n",
    "stack=np.stack((a,b))\n",
    "stack1=np.vstack((a,b))\n",
    "stack2=np.hstack((a,b))\n",
    "\n",
    "print(stack)\n",
    "print(stack1)\n",
    "print(stack2)"
   ]
  },
  {
   "cell_type": "code",
   "execution_count": 56,
   "id": "cdb31126",
   "metadata": {},
   "outputs": [
    {
     "name": "stdout",
     "output_type": "stream",
     "text": [
      "[[3 5 7]\n",
      " [4 8 0]]\n",
      "[[ 1  5  8]\n",
      " [ 9 10 11]]\n",
      "----------------------------------------------------------------------------------------------------\n",
      "[[ 3  5  7]\n",
      " [ 4  8  0]\n",
      " [ 1  5  8]\n",
      " [ 9 10 11]]\n",
      "----------------------------------------------------------------------------------------------------\n",
      "[[ 3  5  7  1  5  8]\n",
      " [ 4  8  0  9 10 11]]\n"
     ]
    }
   ],
   "source": [
    "a=np.array([[3,5,7],[4,8,0]])\n",
    "b=np.array([[1,5,8],[9,10,11]])\n",
    "print(a)\n",
    "print(b) #not aplide\n",
    "\n",
    "stack0=np.vstack((a,b))\n",
    "stack1=np.hstack((a,b))\n",
    "\n",
    "print(\"--\"*50)\n",
    "print(stack0)\n",
    "print(\"--\"*50)\n",
    "print(stack1)"
   ]
  },
  {
   "cell_type": "code",
   "execution_count": 58,
   "id": "d9a36aac",
   "metadata": {},
   "outputs": [
    {
     "name": "stdout",
     "output_type": "stream",
     "text": [
      "[[3 4]\n",
      " [5 8]\n",
      " [7 0]]\n"
     ]
    }
   ],
   "source": [
    "a=np.array([[3,5,7],[4,8,0]])\n",
    "c=np.transpose(a)\n",
    "print(c)"
   ]
  },
  {
   "cell_type": "code",
   "execution_count": 59,
   "id": "0e73f00b",
   "metadata": {},
   "outputs": [
    {
     "name": "stdout",
     "output_type": "stream",
     "text": [
      "[[3 4]\n",
      " [5 8]\n",
      " [7 0]]\n"
     ]
    }
   ],
   "source": [
    "a=np.array([[3,5,7],[4,8,0]])\n",
    "c=a.T\n",
    "print(c)"
   ]
  },
  {
   "cell_type": "code",
   "execution_count": null,
   "id": "b49caec3",
   "metadata": {},
   "outputs": [
    {
     "name": "stdout",
     "output_type": "stream",
     "text": [
      "[[3 5 7]\n",
      " [0 4 8]]\n"
     ]
    }
   ],
   "source": [
    "import numpy as np\n",
    "a=np.array([[3,5,7],[4,8,0]])\n",
    "z=np.sort(a)\n",
    "y=np.sort(a,d)\n",
    "print(z)"
   ]
  },
  {
   "cell_type": "code",
   "execution_count": null,
   "id": "779bfbb0",
   "metadata": {},
   "outputs": [],
   "source": []
  }
 ],
 "metadata": {
  "kernelspec": {
   "display_name": "Python 3",
   "language": "python",
   "name": "python3"
  },
  "language_info": {
   "codemirror_mode": {
    "name": "ipython",
    "version": 3
   },
   "file_extension": ".py",
   "mimetype": "text/x-python",
   "name": "python",
   "nbconvert_exporter": "python",
   "pygments_lexer": "ipython3",
   "version": "3.13.2"
  }
 },
 "nbformat": 4,
 "nbformat_minor": 5
}
